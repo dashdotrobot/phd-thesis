{
 "cells": [
  {
   "cell_type": "code",
   "execution_count": 1,
   "metadata": {},
   "outputs": [],
   "source": [
    "import numpy as np\n",
    "import pandas as pd\n",
    "\n",
    "from bikewheelcalc import BicycleWheel, Hub, Rim\n",
    "import bikewheellib as bl\n",
    "from doetools import TensionBucklingExpDOE\n",
    "from doetools.wheel_library import create_wheel_from_lm\n",
    "\n",
    "import matplotlib.pyplot as plt\n",
    "\n",
    "%matplotlib inline"
   ]
  },
  {
   "cell_type": "code",
   "execution_count": 2,
   "metadata": {},
   "outputs": [
    {
     "name": "stdout",
     "output_type": "stream",
     "text": [
      "\n",
      "Created 1 simulations\n"
     ]
    }
   ],
   "source": [
    "dyn_dir = '../data/doe/tension_buckling_dynamic'\n",
    "\n",
    "up = 0.001e-3\n",
    "doe = TensionBucklingExpDOE(out_dir=dyn_dir,\n",
    "                            opts={'spk_paired': False,\n",
    "                                  'spk_eltype': 'beam',\n",
    "                                  'rim_perturb': [0., up, up, up, up],\n",
    "                                  'sim_time': 1.0})\n",
    "\n",
    "R = 0.300\n",
    "GJ = 25.0\n",
    "EI1 = 100.\n",
    "EI2 = GJ / 0.2\n",
    "\n",
    "wh = BicycleWheel()\n",
    "wh.hub = Hub(diam1=0.05, width1=0.025, width2=0.025)\n",
    "wh.rim = Rim(radius=R, area=100e-6,\n",
    "             I11=GJ / 26.0e9, I22=EI2 / 26.0e9, I33=EI1 / 26.0e9, Iw=0.0 / 69.0e9,\n",
    "             young_mod=69.0e9, shear_mod=26.0e9)\n",
    "\n",
    "wh.lace_radial(n_spokes=36, diameter=1.8e-3, young_mod=200e9, offset=0.00)\n",
    "\n",
    "doe.add_experiment(wh, opts={'jobname': 'Tc_dynamic_2'})\n",
    "\n",
    "print('\\nCreated {0:d} simulations'.format(len(doe.db)))\n",
    "\n",
    "doe.write_input_files(N_batches=1)\n",
    "doe.to_csv()"
   ]
  },
  {
   "cell_type": "code",
   "execution_count": null,
   "metadata": {},
   "outputs": [],
   "source": []
  }
 ],
 "metadata": {
  "anaconda-cloud": {},
  "kernelspec": {
   "display_name": "Python [default]",
   "language": "python",
   "name": "python2"
  },
  "language_info": {
   "codemirror_mode": {
    "name": "ipython",
    "version": 2
   },
   "file_extension": ".py",
   "mimetype": "text/x-python",
   "name": "python",
   "nbconvert_exporter": "python",
   "pygments_lexer": "ipython2",
   "version": "2.7.14"
  }
 },
 "nbformat": 4,
 "nbformat_minor": 2
}
