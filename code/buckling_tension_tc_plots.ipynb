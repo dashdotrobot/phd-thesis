{
 "cells": [
  {
   "cell_type": "code",
   "execution_count": null,
   "metadata": {},
   "outputs": [],
   "source": [
    "import numpy as np\n",
    "import matplotlib.pyplot as plt\n",
    "from IPython.display import display\n",
    "\n",
    "from sympy import symbols, solve, init_printing, Eq, lambdify\n",
    "\n",
    "%matplotlib inline\n",
    "init_printing()"
   ]
  },
  {
   "cell_type": "code",
   "execution_count": null,
   "metadata": {},
   "outputs": [],
   "source": [
    "mu, lam = symbols('mu lambda', real=True)\n",
    "n = symbols('n', real=True)\n",
    "\n",
    "tcn = 1/(n**2 - 1) * (mu*n**2*(n**2-1)**2/(1 + mu*n**2) + lam)"
   ]
  },
  {
   "cell_type": "code",
   "execution_count": null,
   "metadata": {},
   "outputs": [],
   "source": [
    "mmu = np.logspace(-3, 0, 100)\n",
    "\n",
    "fig, ax = plt.subplots(figsize=(6.5*2/3, 6.5*2/3))\n",
    "\n",
    "for m in range(5):\n",
    "    lam_nm = lambdify(mu, solve(Eq(tcn.subs(n, m+2) - tcn.subs(n, m+3)), lam)[0])\n",
    "    ax.loglog(lam_nm(mmu), mmu, 'k')\n",
    "\n",
    "ax.set_xlim([1., 300.])\n",
    "ax.set_ylim([.003, 1.0])"
   ]
  },
  {
   "cell_type": "code",
   "execution_count": null,
   "metadata": {},
   "outputs": [],
   "source": [
    "n_l, n_mu = (100, 100)\n",
    "ll, mm = np.meshgrid(np.logspace(0., 2., n_l), np.logspace(0, -2, n_mu))\n",
    "\n",
    "# Convert t_cn to a callable function which operates element-wise on inputs\n",
    "tcn_fxn = np.vectorize(lambdify((lam, mu, n), tcn))\n",
    "\n",
    "tc = np.amin(np.concatenate((tcn_fxn(ll, mm, 2).reshape((n_l, n_mu, 1)),\n",
    "                             tcn_fxn(ll, mm, 3).reshape((n_l, n_mu, 1)),\n",
    "                             tcn_fxn(ll, mm, 4).reshape((n_l, n_mu, 1))), axis=2), axis=2)\n",
    "\n",
    "fig, ax = plt.subplots(figsize=(6.5*2/3, 6.5*2/3))\n",
    "\n",
    "ax.imshow(tc, interpolation='gaussian', cmap='viridis')"
   ]
  },
  {
   "cell_type": "code",
   "execution_count": null,
   "metadata": {},
   "outputs": [],
   "source": []
  }
 ],
 "metadata": {
  "kernelspec": {
   "display_name": "Python 2",
   "language": "python",
   "name": "python2"
  },
  "language_info": {
   "codemirror_mode": {
    "name": "ipython",
    "version": 2
   },
   "file_extension": ".py",
   "mimetype": "text/x-python",
   "name": "python",
   "nbconvert_exporter": "python",
   "pygments_lexer": "ipython2",
   "version": "2.7.13"
  }
 },
 "nbformat": 4,
 "nbformat_minor": 1
}
