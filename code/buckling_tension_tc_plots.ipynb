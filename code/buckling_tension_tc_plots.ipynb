{
 "cells": [
  {
   "cell_type": "code",
   "execution_count": null,
   "metadata": {},
   "outputs": [],
   "source": [
    "import numpy as np\n",
    "import matplotlib.pyplot as plt\n",
    "from IPython.display import display\n",
    "from matplotlib.gridspec import GridSpec\n",
    "\n",
    "from sympy import symbols, solve, init_printing, Eq, lambdify\n",
    "\n",
    "%matplotlib inline\n",
    "init_printing()"
   ]
  },
  {
   "cell_type": "markdown",
   "metadata": {},
   "source": [
    "## $\\lambda-\\mu$ plot of $t_c$ and mode number"
   ]
  },
  {
   "cell_type": "code",
   "execution_count": null,
   "metadata": {},
   "outputs": [],
   "source": [
    "mu, lam = symbols('mu lambda', real=True)\n",
    "n = symbols('n', real=True)\n",
    "\n",
    "tcn = 1/(n**2 - 1) * (mu*n**2*(n**2-1)**2/(1 + mu*n**2) + lam)"
   ]
  },
  {
   "cell_type": "code",
   "execution_count": null,
   "metadata": {},
   "outputs": [],
   "source": [
    "# Draw colormap for tc\n",
    "n_l, n_mu = (100, 100)\n",
    "ll, mm = np.meshgrid(np.logspace(0., np.log10(300), n_l), np.logspace(0, np.log10(0.003), n_mu))\n",
    "\n",
    "# Convert t_cn to a callable function which operates element-wise on inputs\n",
    "tcn_fxn = np.vectorize(lambdify((lam, mu, n), tcn))\n",
    "\n",
    "tc = np.amin(np.concatenate((tcn_fxn(ll, mm, 2).reshape((n_l, n_mu, 1)),\n",
    "                             tcn_fxn(ll, mm, 3).reshape((n_l, n_mu, 1)),\n",
    "                             tcn_fxn(ll, mm, 4).reshape((n_l, n_mu, 1))), axis=2), axis=2)\n",
    "\n",
    "\n",
    "with plt.style.context('seaborn-paper'):\n",
    "    fig, ax = plt.subplots(ncols=2, figsize=(4.25, 4.0), gridspec_kw={'width_ratios': [15, 1]})\n",
    "\n",
    "    tc_c = ax[0].pcolormesh(ll, mm, tc, cmap='viridis')\n",
    "\n",
    "    # plt.colorbar(tc_c, fraction=0.046, pad=0.04)\n",
    "    plt.colorbar(tc_c, cax=ax[1])\n",
    "\n",
    "    ax[0].set_yscale('log')\n",
    "    ax[0].set_xscale('log')\n",
    "\n",
    "\n",
    "    # Superimpose boundaries between mode regions, and add grid\n",
    "    mmu = np.logspace(-3, 0, 100)\n",
    "\n",
    "    for m in range(5):\n",
    "        lam_nm = lambdify(mu, solve(Eq(tcn.subs(n, m+2) - tcn.subs(n, m+3)), lam)[0])\n",
    "        ax[0].plot(lam_nm(mmu), mmu, 'k', linewidth=2)\n",
    "\n",
    "    ax[0].grid(b=True, which='major', color='k', linestyle='-', alpha=0.6)\n",
    "    ax[0].grid(b=True, which='minor', color='k', linestyle=':', alpha=0.6)\n",
    "\n",
    "    ax[0].set_xlim([1., 300.])\n",
    "    ax[0].set_ylim([.003, 1.0])\n",
    "\n",
    "    ax[0].set_xticks([1., 10., 100.])\n",
    "    ax[0].set_xticklabels(['1', '10', '100'])\n",
    "\n",
    "    ax[0].set_yticks([0.01, 0.1, 1.0])\n",
    "    ax[0].set_yticklabels(['0.01', '0.1', '1'])\n",
    "\n",
    "    ax[0].set_xlabel('\\$\\lambda_{uu}\\$')\n",
    "    ax[0].set_ylabel('\\$\\mu\\$')\n",
    "\n",
    "    plt.tight_layout()\n",
    "    plt.savefig('../figs/buckling_tension/_python_tc_l-mu_map.pdf')"
   ]
  },
  {
   "cell_type": "code",
   "execution_count": null,
   "metadata": {},
   "outputs": [],
   "source": [
    "ll = np.linspace(0., 300, 100)\n",
    "tc_l = np.amin(np.concatenate((tcn_fxn(ll, 26./69., 2).reshape((1, len(ll))),\n",
    "                               tcn_fxn(ll, 26./69., 3).reshape((1, len(ll))),\n",
    "                               tcn_fxn(ll, 26./69., 4).reshape((1, len(ll))),\n",
    "                               tcn_fxn(ll, 26./69., 5).reshape((1, len(ll)))), axis=0), axis=0)\n",
    "\n",
    "with plt.style.context('seaborn-paper'):\n",
    "    fig, ax = plt.subplots(nrows=2, figsize=(2.25, 4.0))\n",
    "\n",
    "    ax[0].plot(ll, tc_l, 'k')\n",
    "    ax[0].plot(ll, 2*ll**0.5, 'r--')\n",
    "\n",
    "    ax[0].set_xticks([0, 100, 200, 300])\n",
    "    ax[0].set_yticks([0, 10, 20, 30])\n",
    "\n",
    "    ax[0].set_xlabel('\\$\\lambda_{uu}\\$')\n",
    "    ax[0].set_ylabel('\\$t_c\\$')\n",
    "\n",
    "    mm = np.logspace(-3, 0., 100)\n",
    "    tc_m = np.amin(np.concatenate((tcn_fxn(10., mm, 2).reshape((1, len(mm))),\n",
    "                                   tcn_fxn(10., mm, 3).reshape((1, len(mm))),\n",
    "                                   tcn_fxn(10., mm, 4).reshape((1, len(mm)))), axis=0), axis=0)\n",
    "\n",
    "    ax[1].semilogx(mm, tc_m, 'k')\n",
    "    ax[1].semilogx(mm, (1./np.power(2, 2./3) + np.power(2, 1./3)) * np.power(10**2.*mm, 1./3), 'r--')\n",
    "\n",
    "    ax[1].set_xlim([0.003, 1.])\n",
    "    ax[1].set_ylim([0., 7.])\n",
    "\n",
    "    ax[1].set_xticks([0.01, 0.1, 1])\n",
    "    ax[1].set_xticklabels(['0.01', '0.1', '1'])\n",
    "    ax[1].set_yticks([0, 2, 4, 6, 8])\n",
    "\n",
    "    ax[1].set_xlabel('\\$\\mu\\$')\n",
    "    ax[1].set_ylabel('\\$t_c\\$')\n",
    "\n",
    "    plt.tight_layout()\n",
    "    plt.savefig('../figs/buckling_tension/_python_tc_l-mu_subplots.pdf')"
   ]
  },
  {
   "cell_type": "code",
   "execution_count": null,
   "metadata": {},
   "outputs": [],
   "source": []
  }
 ],
 "metadata": {
  "kernelspec": {
   "display_name": "Python 2",
   "language": "python",
   "name": "python2"
  },
  "language_info": {
   "codemirror_mode": {
    "name": "ipython",
    "version": 2
   },
   "file_extension": ".py",
   "mimetype": "text/x-python",
   "name": "python",
   "nbconvert_exporter": "python",
   "pygments_lexer": "ipython2",
   "version": "2.7.13"
  }
 },
 "nbformat": 4,
 "nbformat_minor": 1
}
