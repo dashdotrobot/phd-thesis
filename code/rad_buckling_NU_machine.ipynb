{
 "cells": [
  {
   "cell_type": "code",
   "execution_count": null,
   "metadata": {},
   "outputs": [],
   "source": [
    "import pandas as pd\n",
    "import numpy as np\n",
    "\n",
    "import scipy.stats as st\n",
    "\n",
    "import matplotlib as mpl\n",
    "import matplotlib.pyplot as plt\n",
    "%matplotlib inline"
   ]
  },
  {
   "cell_type": "code",
   "execution_count": null,
   "metadata": {},
   "outputs": [],
   "source": [
    "# Set default colors\n",
    "default_colors = ['#1f77b4', '#ff7f0e', '#2ca02c', '#d62728',\n",
    "                  '#9467bd', '#8c564b', '#e377c2', '#7f7f7f',\n",
    "                  '#bcbd22', '#17becf']\n",
    "\n",
    "mpl.rcParams['axes.prop_cycle'] = mpl.cycler(color=default_colors)"
   ]
  },
  {
   "cell_type": "markdown",
   "metadata": {},
   "source": [
    "# Lateral carriage friction measurements"
   ]
  },
  {
   "cell_type": "code",
   "execution_count": null,
   "metadata": {},
   "outputs": [],
   "source": [
    "lat_fric = pd.read_csv('../data/rad_buckling_experiments/NU_lateral_friction.csv', header=0)\n",
    "\n",
    "lat_fric.head()"
   ]
  },
  {
   "cell_type": "code",
   "execution_count": null,
   "metadata": {},
   "outputs": [],
   "source": [
    "kN = 0.00444822 # Conversion from lbs to kN\n",
    "\n",
    "by_load = lat_fric.groupby('LOAD_RAD').aggregate(['mean', 'count', 'std', 'sem'])\n",
    "\n",
    "by_load[('LOAD_LAT', 'c_int')] =\\\n",
    "    by_load.apply(lambda r: st.t.interval(0.95,\n",
    "                                          r[('LOAD_LAT', 'count')] - 1,\n",
    "                                          loc=0.,\n",
    "                                          scale=r[('LOAD_LAT', 'sem')])[1], axis=1)\n",
    "\n",
    "by_load"
   ]
  },
  {
   "cell_type": "code",
   "execution_count": null,
   "metadata": {},
   "outputs": [],
   "source": [
    "fig, ax = plt.subplots(figsize=(3.5, 2.5))\n",
    "\n",
    "ax.errorbar(x=kN*by_load.index.astype(float),\n",
    "            y=by_load[('LOAD_LAT', 'mean')] / by_load.index,\n",
    "            yerr=by_load[('LOAD_LAT', 'c_int')] / by_load.index, fmt='o-')\n",
    "\n",
    "ax.set_xlabel('Vertical load [kN]')\n",
    "ax.set_ylabel('Friction coefficient')\n",
    "\n",
    "ax.set_xlim([0., 3.])\n",
    "ax.set_ylim([0., 0.06])\n",
    "\n",
    "plt.tight_layout()\n",
    "plt.savefig('../figs/buckling_ext_loads/_python_NU_lat_friction.pdf')"
   ]
  },
  {
   "cell_type": "code",
   "execution_count": null,
   "metadata": {},
   "outputs": [],
   "source": []
  }
 ],
 "metadata": {
  "anaconda-cloud": {},
  "kernelspec": {
   "display_name": "Python [conda root]",
   "language": "python",
   "name": "conda-root-py"
  },
  "language_info": {
   "codemirror_mode": {
    "name": "ipython",
    "version": 2
   },
   "file_extension": ".py",
   "mimetype": "text/x-python",
   "name": "python",
   "nbconvert_exporter": "python",
   "pygments_lexer": "ipython2",
   "version": "2.7.14"
  }
 },
 "nbformat": 4,
 "nbformat_minor": 2
}
