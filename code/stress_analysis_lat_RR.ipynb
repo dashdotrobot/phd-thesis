{
 "cells": [
  {
   "cell_type": "markdown",
   "metadata": {},
   "source": [
    "# Lateral-torsional Rayleigh-Ritz equations"
   ]
  },
  {
   "cell_type": "code",
   "execution_count": null,
   "metadata": {},
   "outputs": [],
   "source": [
    "import numpy as np\n",
    "from sympy import *\n",
    "from bikewheelcalc import BicycleWheel\n",
    "from IPython.display import display\n",
    "\n",
    "init_printing()"
   ]
  },
  {
   "cell_type": "code",
   "execution_count": null,
   "metadata": {},
   "outputs": [],
   "source": [
    "# setup symbols\n",
    "s = symbols('s', real=true)\n",
    "\n",
    "# deformation\n",
    "u = Function('u')\n",
    "v = Function('v')\n",
    "w = Function('w')\n",
    "phi = Function('phi')\n",
    "\n",
    "# Applied load\n",
    "P = symbols('P', real=True)\n",
    "\n",
    "# rim properties\n",
    "R, EI2, GJ, EIw, mu, y0, r0 = symbols('R EI_2 GJ EI_w mu y_0, r_0',\n",
    "                                      real=true, finite=true,\n",
    "                                      positive=true)\n",
    "\n",
    "t = symbols('t', real=true)  # Average net radial pull per unit length\n",
    "\n",
    "# spoke properties\n",
    "k_uu, k_up, k_pp = symbols('k_uu k_{u\\phi} k_{\\phi\\phi}', real=true)"
   ]
  },
  {
   "cell_type": "markdown",
   "metadata": {},
   "source": [
    "## Curvatures and total potential"
   ]
  },
  {
   "cell_type": "code",
   "execution_count": null,
   "metadata": {},
   "outputs": [],
   "source": [
    "# curvatures\n",
    "n = symbols('n', real=True, integer=True)\n",
    "un, pn = symbols('u_n phi_n', real=True)\n",
    "u = un*cos(n*s/R)\n",
    "phi = pn*cos(n*s/R)\n",
    "\n",
    "# Curvatures\n",
    "k_2 = u.diff(s, 2) - phi/R\n",
    "k_3 = u.diff(s)/R + phi.diff(s)\n",
    "\n",
    "U_rim = (EI2*k_2**2 + GJ*k_3**2 + EIw*(k_3.diff(s))**2)/2\n",
    "\n",
    "U_spokes = (k_uu*u**2 + 2*k_up*u*phi + k_pp*phi**2)/2\n",
    "\n",
    "V_rim = R*t*(u.diff(s)**2 + (r0**2)*(phi.diff(s) - u.diff(s)/R)**2 +\n",
    "         y0*(2*u.diff(s)*phi.diff(s) - phi**2/R))/2\n",
    "\n",
    "PI = (integrate(U_rim + U_spokes - V_rim, (s, 0, 2*pi*R)).simplify()) - P*un\n",
    "\n",
    "sub_r2 = [(y0**2, 0), (r0**2, 0)]\n",
    "sub_y0 = [(y0, 0)]\n",
    "PI = PI.subs(sub_r2 + sub_y0)"
   ]
  },
  {
   "cell_type": "markdown",
   "metadata": {},
   "source": [
    "## Rayleigh-Ritz equations"
   ]
  },
  {
   "cell_type": "code",
   "execution_count": null,
   "metadata": {},
   "outputs": [],
   "source": [
    "n_pos = symbols('n', real=True, integer=True, positive=True)\n",
    "rr_eqns = [Eq(PI.subs(n, 0).diff(un)), Eq(PI.subs(n, 0).diff(pn)),\n",
    "           Eq(PI.subs(n, n_pos).diff(un)), Eq(PI.subs(n, n_pos).diff(pn))]\n",
    "\n",
    "display(rr_eqns[0])\n",
    "display(rr_eqns[1])\n",
    "display(rr_eqns[2])\n",
    "display(rr_eqns[3])"
   ]
  },
  {
   "cell_type": "markdown",
   "metadata": {},
   "source": [
    "## Solution"
   ]
  },
  {
   "cell_type": "code",
   "execution_count": null,
   "metadata": {},
   "outputs": [],
   "source": [
    "s0 = solve(rr_eqns[0:2], (un, pn))\n",
    "\n",
    "s0"
   ]
  },
  {
   "cell_type": "code",
   "execution_count": null,
   "metadata": {},
   "outputs": [],
   "source": [
    "sn = solve(rr_eqns[2:4], (un, pn))\n",
    "\n",
    "sn"
   ]
  },
  {
   "cell_type": "markdown",
   "metadata": {},
   "source": [
    "## Mode stiffnesses"
   ]
  },
  {
   "cell_type": "code",
   "execution_count": null,
   "metadata": {},
   "outputs": [],
   "source": [
    "1/s0[un]"
   ]
  },
  {
   "cell_type": "code",
   "execution_count": null,
   "metadata": {},
   "outputs": [],
   "source": [
    "1/sn[un]"
   ]
  }
 ],
 "metadata": {
  "anaconda-cloud": {},
  "kernelspec": {
   "display_name": "Python [default]",
   "language": "python",
   "name": "python2"
  },
  "language_info": {
   "codemirror_mode": {
    "name": "ipython",
    "version": 2
   },
   "file_extension": ".py",
   "mimetype": "text/x-python",
   "name": "python",
   "nbconvert_exporter": "python",
   "pygments_lexer": "ipython2",
   "version": "2.7.14"
  }
 },
 "nbformat": 4,
 "nbformat_minor": 1
}
