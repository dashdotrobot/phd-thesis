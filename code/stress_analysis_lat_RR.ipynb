{
 "cells": [
  {
   "cell_type": "markdown",
   "metadata": {},
   "source": [
    "# Lateral-torsional Rayleigh-Ritz equations"
   ]
  },
  {
   "cell_type": "code",
   "execution_count": null,
   "metadata": {},
   "outputs": [],
   "source": [
    "import numpy as np\n",
    "from sympy import *\n",
    "from bikewheelcalc import BicycleWheel, Rim, Hub, ModeMatrix\n",
    "from bikewheelcalc.continuum_analysis import calc_continuum_stiff\n",
    "from IPython.display import display\n",
    "\n",
    "init_printing()"
   ]
  },
  {
   "cell_type": "code",
   "execution_count": null,
   "metadata": {},
   "outputs": [],
   "source": [
    "# setup symbols\n",
    "s = symbols('s', real=true)\n",
    "\n",
    "# deformation\n",
    "u = Function('u')\n",
    "v = Function('v')\n",
    "w = Function('w')\n",
    "phi = Function('phi')\n",
    "\n",
    "# Applied load\n",
    "P = symbols('P', real=True)\n",
    "\n",
    "# rim properties\n",
    "R, EI2, GJ, EIw, mu, y0, r0 = symbols('R EI_2 GJ EI_w mu y_0, r_0',\n",
    "                                      real=true, finite=true,\n",
    "                                      positive=true)\n",
    "\n",
    "t = symbols('t', real=true)  # Average net radial pull per unit length\n",
    "\n",
    "# spoke properties\n",
    "k_uu, k_up, k_pp = symbols('k_uu k_{u\\phi} k_{\\phi\\phi}', real=true)"
   ]
  },
  {
   "cell_type": "markdown",
   "metadata": {},
   "source": [
    "## Curvatures and total potential"
   ]
  },
  {
   "cell_type": "code",
   "execution_count": null,
   "metadata": {},
   "outputs": [],
   "source": [
    "# curvatures\n",
    "n = symbols('n', real=True, integer=True)\n",
    "un, pn = symbols('u_n phi_n', real=True)\n",
    "u = un*cos(n*s/R)\n",
    "phi = pn*cos(n*s/R)\n",
    "\n",
    "# Curvatures\n",
    "k_2 = u.diff(s, 2) + phi/R\n",
    "k_3 = u.diff(s)/R - phi.diff(s)\n",
    "\n",
    "\n",
    "U_rim = (EI2*k_2**2 + GJ*k_3**2 + EIw*(k_3.diff(s))**2)/2\n",
    "\n",
    "U_spokes = (k_uu*u**2 + 2*k_up*u*phi + k_pp*phi**2)/2\n",
    "\n",
    "V_rim = R*t*(u.diff(s)**2 + (r0**2)*(phi.diff(s) - u.diff(s)/R)**2 +\n",
    "         y0*(2*u.diff(s)*phi.diff(s) - phi**2/R))/2\n",
    "\n",
    "PI = (integrate(U_rim + U_spokes - V_rim, (s, 0, 2*pi*R)).simplify()) - P*un\n",
    "\n",
    "sub_r2 = [(y0**2, 0), (r0**2, 0)]\n",
    "sub_y0 = [(y0, 0)]\n",
    "PI = PI.subs(sub_r2 + sub_y0)"
   ]
  },
  {
   "cell_type": "markdown",
   "metadata": {},
   "source": [
    "## Rayleigh-Ritz equations"
   ]
  },
  {
   "cell_type": "code",
   "execution_count": null,
   "metadata": {},
   "outputs": [],
   "source": [
    "n_pos = symbols('n', real=True, integer=True, positive=True)\n",
    "rr_eqns = [Eq(PI.subs(n, 0).diff(un)), Eq(PI.subs(n, 0).diff(pn)),\n",
    "           Eq(PI.subs(n, n_pos).diff(un)), Eq(PI.subs(n, n_pos).diff(pn))]\n",
    "\n",
    "display(rr_eqns[0])\n",
    "display(rr_eqns[1])\n",
    "display(rr_eqns[2])\n",
    "display(rr_eqns[3])"
   ]
  },
  {
   "cell_type": "markdown",
   "metadata": {},
   "source": [
    "## Solution"
   ]
  },
  {
   "cell_type": "code",
   "execution_count": null,
   "metadata": {},
   "outputs": [],
   "source": [
    "s0 = solve(rr_eqns[0:2], (un, pn))\n",
    "\n",
    "s0"
   ]
  },
  {
   "cell_type": "code",
   "execution_count": null,
   "metadata": {},
   "outputs": [],
   "source": [
    "sn = solve(rr_eqns[2:4], (un, pn))\n",
    "\n",
    "sn"
   ]
  },
  {
   "cell_type": "markdown",
   "metadata": {},
   "source": [
    "## Mode stiffnesses"
   ]
  },
  {
   "cell_type": "code",
   "execution_count": null,
   "metadata": {},
   "outputs": [],
   "source": [
    "K0 = 1/s0[un]\n",
    "K0"
   ]
  },
  {
   "cell_type": "code",
   "execution_count": null,
   "metadata": {},
   "outputs": [],
   "source": [
    "Kn = 1/sn[un]\n",
    "Kn"
   ]
  },
  {
   "cell_type": "markdown",
   "metadata": {},
   "source": [
    "## Numerically check against formula given in thesis"
   ]
  },
  {
   "cell_type": "code",
   "execution_count": null,
   "metadata": {},
   "outputs": [],
   "source": [
    "w_r = 0.080\n",
    "h_r = 0.005\n",
    "t_r = 0.001\n",
    "\n",
    "w = BicycleWheel()\n",
    "w.hub = Hub(diam1=0.05, width1=0.025, width2=0.025)\n",
    "w.rim = Rim.box(radius=0.3,\n",
    "                young_mod=69.0e9, shear_mod=26.0e9,\n",
    "                w=w_r, h=h_r, t=t_r)\n",
    "\n",
    "eR = w.rim.radius\n",
    "eEI = w.rim.young_mod*w.rim.I22\n",
    "eGJ = w.rim.shear_mod*w.rim.I11\n",
    "\n",
    "N = 2\n",
    "kb = np.pi*eEI/eR**3*(N**2-1)**2\n",
    "kt = np.pi*eGJ/eR**3*(N**2-1)**2*N**2\n",
    "\n",
    "w.lace_radial(n_spokes=36, diameter=2.0e-3, young_mod=200e9, offset=0.01)\n",
    "\n",
    "kk = calc_continuum_stiff(w)\n",
    "kuu = kk[0, 0]\n",
    "kup = kk[0, 3]\n",
    "kpp = kk[3, 3]\n",
    "\n",
    "mm = ModeMatrix(w)"
   ]
  },
  {
   "cell_type": "code",
   "execution_count": null,
   "metadata": {},
   "outputs": [],
   "source": [
    "print(mm.lat_mode_stiff(n=0)/ 1000.)\n",
    "\n",
    "print(2*np.pi*eR*(kuu - eR**2*kup**2/(eEI+eR**2*kpp)) / 1000.)\n",
    "\n",
    "print(K0.subs([(P, 1), (R, eR), (n_pos, N), (t, 0),\n",
    "               (EI2, eEI), (GJ, eGJ), (EIw, 0),\n",
    "               (k_uu, kuu), (k_up, kup), (k_pp, kpp)]).evalf() / 1000.)"
   ]
  },
  {
   "cell_type": "code",
   "execution_count": null,
   "metadata": {},
   "outputs": [],
   "source": [
    "N = 1\n",
    "\n",
    "print(mm.lat_mode_stiff(n=1)/ 1000.)\n",
    "\n",
    "a = eEI/eR**3 + eGJ/eR**3\n",
    "\n",
    "print((np.pi*eR*kuu +\n",
    "       (a*(np.pi*kpp/eR + 2*np.pi*kup) - np.pi*kup**2)/(a + kpp/eR))/ 1000.)\n",
    "\n",
    "print(Kn.subs([(P, 1), (R, eR), (n_pos, N), (t, 0),\n",
    "               (EI2, eEI), (GJ, eGJ), (EIw, 0),\n",
    "               (k_uu, kuu), (k_up, kup), (k_pp, kpp)]).evalf() / 1000.)"
   ]
  },
  {
   "cell_type": "code",
   "execution_count": null,
   "metadata": {},
   "outputs": [],
   "source": [
    "N = 2\n",
    "\n",
    "print(mm.lat_mode_stiff(n=N)/ 1000.)\n",
    "\n",
    "print((np.pi*eR*kuu +\n",
    "       (kb*kt + (np.pi*kpp/eR)*(kb*N**4+kt)+2*np.pi*kup*(kb*N**2+kt)-(N**2-1)**2*np.pi**2*kup**2)/\n",
    "       (kb+kt+(N**2-1)**2*np.pi*kpp/eR))/ 1000.)\n",
    "\n",
    "print(Kn.subs([(P, 1), (R, eR), (n_pos, N), (t, 0),\n",
    "         (EI2, eEI), (GJ, eGJ), (EIw, 0),\n",
    "         (k_uu, kuu), (k_up, kup), (k_pp, kpp)]).evalf() / 1000.)"
   ]
  },
  {
   "cell_type": "code",
   "execution_count": null,
   "metadata": {},
   "outputs": [],
   "source": []
  }
 ],
 "metadata": {
  "anaconda-cloud": {},
  "kernelspec": {
   "display_name": "Python 3",
   "language": "python",
   "name": "python3"
  },
  "language_info": {
   "codemirror_mode": {
    "name": "ipython",
    "version": 3
   },
   "file_extension": ".py",
   "mimetype": "text/x-python",
   "name": "python",
   "nbconvert_exporter": "python",
   "pygments_lexer": "ipython3",
   "version": "3.7.0"
  }
 },
 "nbformat": 4,
 "nbformat_minor": 1
}
