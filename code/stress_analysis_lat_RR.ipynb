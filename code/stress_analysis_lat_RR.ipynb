{
 "cells": [
  {
   "cell_type": "markdown",
   "metadata": {},
   "source": [
    "# Lateral-torsional Rayleigh-Ritz equations"
   ]
  },
  {
   "cell_type": "code",
   "execution_count": 1,
   "metadata": {},
   "outputs": [],
   "source": [
    "import numpy as np\n",
    "from sympy import *\n",
    "from bikewheelcalc import BicycleWheel\n",
    "from IPython.display import display\n",
    "\n",
    "init_printing()"
   ]
  },
  {
   "cell_type": "code",
   "execution_count": 2,
   "metadata": {},
   "outputs": [],
   "source": [
    "# setup symbols\n",
    "s = symbols('s', real=true)\n",
    "\n",
    "# deformation\n",
    "u = Function('u')\n",
    "v = Function('v')\n",
    "w = Function('w')\n",
    "phi = Function('phi')\n",
    "\n",
    "# Applied load\n",
    "P = symbols('P', real=True)\n",
    "\n",
    "# rim properties\n",
    "R, EA, EI1, EI2, GJ, EIw, mu, rx, ry, y0 = symbols('R EA EI_1 EI_2 GJ EI_w mu r_x r_y y_0',\n",
    "                                                   real=true, finite=true,\n",
    "                                                   positive=true)\n",
    "\n",
    "t = symbols('t', real=true)  # Average net radial pull per unit length\n",
    "\n",
    "# spoke properties\n",
    "ns = symbols('n_s', integer=true, positive=true)\n",
    "T, EA, ls, alpha = symbols('T, EA, l, alpha', real=true, positive=true)\n",
    "k_uu, k_vv, k_ww, k_pp = symbols('k_uu k_vv k_ww, k_{\\phi\\phi}', real=true)\n",
    "k_uv, k_uw, k_up, k_vw, k_vp, k_wp = symbols('k_uv k_uw k_{u\\phi} k_vw k_{v\\phi} k_{w\\phi}', real=true)\n",
    "\n",
    "sub_no_k = [(k_uu, 0), (k_vv, 0), (k_ww, 0), (k_pp, 0),\n",
    "            (k_uv, 0), (k_uw, 0), (k_up, 0), (k_vw, 0), (k_vp, 0), (k_wp, 0)]\n",
    "\n",
    "# No coupling terms between v-w and u-phi\n",
    "sub_ij = [(k_uv, 0), (k_uw, 0), (k_vp, 0), (k_wp, 0)]"
   ]
  },
  {
   "cell_type": "markdown",
   "metadata": {},
   "source": [
    "## Curvatures and total potential"
   ]
  },
  {
   "cell_type": "code",
   "execution_count": 3,
   "metadata": {},
   "outputs": [],
   "source": [
    "# curvatures\n",
    "n = symbols('n', real=True, integer=True)\n",
    "un, pn = symbols('u_n phi_n', real=True)\n",
    "u = un*cos(n*s/R)\n",
    "phi = pn*cos(n*s/R)\n",
    "\n",
    "# Curvatures\n",
    "k_2 = u.diff(s, 2) - phi/R\n",
    "k_3 = u.diff(s)/R + phi.diff(s)\n",
    "\n",
    "u_rim = (EI2*k_2**2 + GJ*k_3**2 + EIw*(k_3.diff(s))**2)/2\n",
    "\n",
    "u_spokes = (k_uu*u**2 + 2*k_up*u*phi + k_pp*phi**2)/2\n",
    "\n",
    "v_rim = R*t*(u.diff(s)**2 + rx**2*phi.diff(s)**2 +\n",
    "         ry**2*(u.diff(s)/R - phi.diff(s))**2 +\n",
    "         y0*(2*u.diff(s, 2)*phi.diff(s) - phi**2/R) +\n",
    "         y0**2*phi.diff(s)**2)/2\n",
    "\n",
    "PI = (integrate(u_rim + u_spokes - v_rim, (s, 0, 2*pi*R)).simplify()) - P*un\n",
    "\n",
    "sub_r2 = [(rx**2, 0), (ry**2, 0), (y0**2, 0)]\n",
    "PI = PI.subs(sub_r2)"
   ]
  },
  {
   "cell_type": "markdown",
   "metadata": {},
   "source": [
    "## Rayleigh-Ritz equations"
   ]
  },
  {
   "cell_type": "code",
   "execution_count": 4,
   "metadata": {},
   "outputs": [
    {
     "data": {
      "image/png": "[encoded data removed]",
      "text/latex": [
       "$$- P + 2 \\pi R k_{uu} u_{n} + 2 \\pi R k_{{u\\phi}} \\phi_{n} = 0$$"
      ],
      "text/plain": [
       "-P + 2⋅π⋅R⋅kᵤᵤ⋅u_n + 2⋅π⋅R⋅k_{u\\phi}⋅φ_n = 0"
      ]
     },
     "metadata": {},
     "output_type": "display_data"
    },
    {
     "data": {
      "image/png": "[encoded data removed]",
      "text/latex": [
       "$$\\frac{2 \\pi}{R} EI_{2} \\phi_{n} + 2 \\pi R k_{{\\phi\\phi}} \\phi_{n} + 2 \\pi R k_{{u\\phi}} u_{n} + 2 \\pi R \\phi_{n} t y_{0} = 0$$"
      ],
      "text/plain": [
       "2⋅π⋅EI₂⋅φ_n                                                                   \n",
       "─────────── + 2⋅π⋅R⋅k_{\\phi\\phi}⋅φ_n + 2⋅π⋅R⋅k_{u\\phi}⋅u_n + 2⋅π⋅R⋅φ_n⋅t⋅y₀ = \n",
       "     R                                                                        \n",
       "\n",
       " \n",
       "0\n",
       " "
      ]
     },
     "metadata": {},
     "output_type": "display_data"
    },
    {
     "data": {
      "image/png": "[encoded data removed]",
      "text/latex": [
       "$$\\frac{EI_{2}}{2} \\left(\\frac{2 \\pi}{R^{2}} n^{2} \\phi_{n} + \\frac{2 \\pi}{R^{3}} n^{4} u_{n}\\right) + \\frac{EI_{w}}{2} \\left(\\frac{2 \\pi}{R^{4}} n^{4} \\phi_{n} + \\frac{2 \\pi}{R^{5}} n^{4} u_{n}\\right) + \\frac{GJ}{2} \\left(\\frac{2 \\pi}{R^{2}} n^{2} \\phi_{n} + \\frac{2 \\pi}{R^{3}} n^{2} u_{n}\\right) - P + \\pi R k_{uu} u_{n} + \\pi R k_{{u\\phi}} \\phi_{n} - \\frac{R t}{2} \\left(\\frac{2 \\pi}{R} n^{2} u_{n} - \\frac{\\phi_{n} y_{0}}{R^{2}} n^{2}\\right) - \\frac{n^{2} \\phi_{n} t y_{0}}{2 R} = 0$$"
      ],
      "text/plain": [
       "    ⎛     2            4    ⎞        ⎛     4            4    ⎞      ⎛     2   \n",
       "    ⎜2⋅π⋅n ⋅φ_n   2⋅π⋅n ⋅u_n⎟        ⎜2⋅π⋅n ⋅φ_n   2⋅π⋅n ⋅u_n⎟      ⎜2⋅π⋅n ⋅φ_\n",
       "EI₂⋅⎜────────── + ──────────⎟   EI_w⋅⎜────────── + ──────────⎟   GJ⋅⎜─────────\n",
       "    ⎜     2            3    ⎟        ⎜     4            5    ⎟      ⎜     2   \n",
       "    ⎝    R            R     ⎠        ⎝    R            R     ⎠      ⎝    R    \n",
       "───────────────────────────── + ────────────────────────────── + ─────────────\n",
       "              2                               2                               \n",
       "\n",
       "         2    ⎞                                             ⎛     2        2  \n",
       "n   2⋅π⋅n ⋅u_n⎟                                             ⎜2⋅π⋅n ⋅u_n   n ⋅φ\n",
       "─ + ──────────⎟                                         R⋅t⋅⎜────────── - ────\n",
       "         3    ⎟                                             ⎜    R            \n",
       "        R     ⎠                                             ⎝                 \n",
       "─────────────── - P + π⋅R⋅kᵤᵤ⋅u_n + π⋅R⋅k_{u\\phi}⋅φ_n - ──────────────────────\n",
       "2                                                                    2        \n",
       "\n",
       "     ⎞                  \n",
       "_n⋅y₀⎟                  \n",
       "─────⎟                  \n",
       " 2   ⎟    2             \n",
       "R    ⎠   n ⋅φ_n⋅t⋅y₀    \n",
       "────── - ─────────── = 0\n",
       "             2⋅R        "
      ]
     },
     "metadata": {},
     "output_type": "display_data"
    },
    {
     "data": {
      "image/png": "[encoded data removed]",
      "text/latex": [
       "$$\\frac{EI_{2}}{2} \\left(\\frac{2 \\pi}{R} \\phi_{n} + \\frac{2 \\pi}{R^{2}} n^{2} u_{n}\\right) + \\frac{EI_{w}}{2} \\left(\\frac{2 \\pi}{R^{3}} n^{4} \\phi_{n} + \\frac{2 \\pi}{R^{4}} n^{4} u_{n}\\right) + \\frac{GJ}{2} \\left(\\frac{2 \\pi}{R} n^{2} \\phi_{n} + \\frac{2 \\pi}{R^{2}} n^{2} u_{n}\\right) + \\pi R k_{{\\phi\\phi}} \\phi_{n} + \\pi R k_{{u\\phi}} u_{n} - \\frac{R t}{2} \\left(- 2 \\pi \\phi_{n} y_{0} - \\frac{u_{n} y_{0}}{R^{2}} n^{2}\\right) - \\frac{n^{2} t u_{n} y_{0}}{2 R} = 0$$"
      ],
      "text/plain": [
       "    ⎛               2    ⎞        ⎛     4            4    ⎞      ⎛     2      \n",
       "    ⎜2⋅π⋅φ_n   2⋅π⋅n ⋅u_n⎟        ⎜2⋅π⋅n ⋅φ_n   2⋅π⋅n ⋅u_n⎟      ⎜2⋅π⋅n ⋅φ_n  \n",
       "EI₂⋅⎜─────── + ──────────⎟   EI_w⋅⎜────────── + ──────────⎟   GJ⋅⎜────────── +\n",
       "    ⎜   R           2    ⎟        ⎜     3            4    ⎟      ⎜    R       \n",
       "    ⎝              R     ⎠        ⎝    R            R     ⎠      ⎝            \n",
       "────────────────────────── + ────────────────────────────── + ────────────────\n",
       "            2                              2                               2  \n",
       "\n",
       "      2    ⎞                                                  ⎛               \n",
       " 2⋅π⋅n ⋅u_n⎟                                                  ⎜              n\n",
       " ──────────⎟                                              R⋅t⋅⎜-2⋅π⋅φ_n⋅y₀ - ─\n",
       "      2    ⎟                                                  ⎜               \n",
       "     R     ⎠                                                  ⎝               \n",
       "──────────── + π⋅R⋅k_{\\phi\\phi}⋅φ_n + π⋅R⋅k_{u\\phi}⋅u_n - ────────────────────\n",
       "                                                                        2     \n",
       "\n",
       "2       ⎞                  \n",
       " ⋅u_n⋅y₀⎟                  \n",
       "────────⎟                  \n",
       "    2   ⎟    2             \n",
       "   R    ⎠   n ⋅t⋅u_n⋅y₀    \n",
       "───────── - ─────────── = 0\n",
       "                2⋅R        "
      ]
     },
     "metadata": {},
     "output_type": "display_data"
    }
   ],
   "source": [
    "n_pos = symbols('n', real=True, integer=True, positive=True)\n",
    "rr_eqns = [Eq(PI.subs(n, 0).diff(un)), Eq(PI.subs(n, 0).diff(pn)),\n",
    "           Eq(PI.subs(n, n_pos).diff(un)), Eq(PI.subs(n, n_pos).diff(pn))]\n",
    "\n",
    "display(rr_eqns[0])\n",
    "display(rr_eqns[1])\n",
    "display(rr_eqns[2])\n",
    "display(rr_eqns[3])"
   ]
  },
  {
   "cell_type": "markdown",
   "metadata": {},
   "source": [
    "## Solution"
   ]
  },
  {
   "cell_type": "code",
   "execution_count": 5,
   "metadata": {},
   "outputs": [
    {
     "data": {
      "image/png": "[encoded data removed]",
      "text/latex": [
       "$$\\left \\{ \\phi_{n} : \\frac{P R k_{{u\\phi}}}{2 \\pi \\left(R^{2} k_{{u\\phi}}^{2} - k_{uu} \\left(EI_{2} + R^{2} k_{{\\phi\\phi}} + R^{2} t y_{0}\\right)\\right)}, \\quad u_{n} : - \\frac{P \\left(EI_{2} + R^{2} k_{{\\phi\\phi}} + R^{2} t y_{0}\\right)}{2 \\pi R \\left(R^{2} k_{{u\\phi}}^{2} - k_{uu} \\left(EI_{2} + R^{2} k_{{\\phi\\phi}} + R^{2} t y_{0}\\right)\\right)}\\right \\}$$"
      ],
      "text/plain": [
       "⎧                                                                             \n",
       "⎪                            P⋅R⋅k_{u\\phi}                                    \n",
       "⎨φ_n: ───────────────────────────────────────────────────────────, u_n: ──────\n",
       "⎪         ⎛ 2          2       ⎛       2                 2     ⎞⎞             \n",
       "⎩     2⋅π⋅⎝R ⋅k_{u\\phi}  - kᵤᵤ⋅⎝EI₂ + R ⋅k_{\\phi\\phi} + R ⋅t⋅y₀⎠⎠       2⋅π⋅R⋅\n",
       "\n",
       "         ⎛       2                 2     ⎞             ⎫\n",
       "      -P⋅⎝EI₂ + R ⋅k_{\\phi\\phi} + R ⋅t⋅y₀⎠             ⎪\n",
       "───────────────────────────────────────────────────────⎬\n",
       "⎛ 2          2       ⎛       2                 2     ⎞⎞⎪\n",
       "⎝R ⋅k_{u\\phi}  - kᵤᵤ⋅⎝EI₂ + R ⋅k_{\\phi\\phi} + R ⋅t⋅y₀⎠⎠⎭"
      ]
     },
     "execution_count": 5,
     "metadata": {},
     "output_type": "execute_result"
    }
   ],
   "source": [
    "s0 = solve(rr_eqns[0:2], (un, pn))\n",
    "\n",
    "s0"
   ]
  },
  {
   "cell_type": "code",
   "execution_count": 6,
   "metadata": {},
   "outputs": [
    {
     "data": {
      "image/png": "[encoded data removed]",
      "text/latex": [
       "$$\\left \\{ \\phi_{n} : \\frac{P R^{4} \\left(EI_{2} R^{2} n^{2} + EI_{w} n^{4} + GJ R^{2} n^{2} + R^{5} k_{{u\\phi}}\\right)}{\\pi \\left(\\left(EI_{2} R^{2} n^{2} + EI_{w} n^{4} + GJ R^{2} n^{2} + R^{5} k_{{u\\phi}}\\right)^{2} - \\left(EI_{2} R^{2} + EI_{w} n^{4} + GJ R^{2} n^{2} + R^{4} k_{{\\phi\\phi}} + R^{4} t y_{0}\\right) \\left(EI_{2} R^{2} n^{4} + EI_{w} n^{4} + GJ R^{2} n^{2} + R^{6} k_{uu} - R^{5} n^{2} t\\right)\\right)}, \\quad u_{n} : - \\frac{P R^{5} \\left(EI_{2} R^{2} + EI_{w} n^{4} + GJ R^{2} n^{2} + R^{4} k_{{\\phi\\phi}} + R^{4} t y_{0}\\right)}{\\pi \\left(\\left(EI_{2} R^{2} n^{2} + EI_{w} n^{4} + GJ R^{2} n^{2} + R^{5} k_{{u\\phi}}\\right)^{2} - \\left(EI_{2} R^{2} + EI_{w} n^{4} + GJ R^{2} n^{2} + R^{4} k_{{\\phi\\phi}} + R^{4} t y_{0}\\right) \\left(EI_{2} R^{2} n^{4} + EI_{w} n^{4} + GJ R^{2} n^{2} + R^{6} k_{uu} - R^{5} n^{2} t\\right)\\right)}\\right \\}$$"
      ],
      "text/plain": [
       "⎧                                                                4 ⎛     2  2 \n",
       "⎪                                                             P⋅R ⋅⎝EI₂⋅R ⋅n  \n",
       "⎪φ_n: ────────────────────────────────────────────────────────────────────────\n",
       "⎨       ⎛                                               2                     \n",
       "⎪       ⎜⎛     2  2         4       2  2    5          ⎞    ⎛     2         4 \n",
       "⎪     π⋅⎝⎝EI₂⋅R ⋅n  + EI_w⋅n  + GJ⋅R ⋅n  + R ⋅k_{u\\phi}⎠  - ⎝EI₂⋅R  + EI_w⋅n  \n",
       "⎩                                                                             \n",
       "\n",
       "        4       2  2    5          ⎞                                          \n",
       "+ EI_w⋅n  + GJ⋅R ⋅n  + R ⋅k_{u\\phi}⎠                                          \n",
       "──────────────────────────────────────────────────────────────────────────────\n",
       "                                                                              \n",
       "      2  2    4                 4     ⎞ ⎛     2  4         4       2  2    6  \n",
       "+ GJ⋅R ⋅n  + R ⋅k_{\\phi\\phi} + R ⋅t⋅y₀⎠⋅⎝EI₂⋅R ⋅n  + EI_w⋅n  + GJ⋅R ⋅n  + R ⋅k\n",
       "                                                                              \n",
       "\n",
       "                                                                           5 ⎛\n",
       "                                                                       -P⋅R ⋅⎝\n",
       "──────────────, u_n: ─────────────────────────────────────────────────────────\n",
       "             ⎞         ⎛                                               2      \n",
       "      5  2  ⎞⎟         ⎜⎛     2  2         4       2  2    5          ⎞    ⎛  \n",
       "ᵤᵤ - R ⋅n ⋅t⎠⎠       π⋅⎝⎝EI₂⋅R ⋅n  + EI_w⋅n  + GJ⋅R ⋅n  + R ⋅k_{u\\phi}⎠  - ⎝EI\n",
       "                                                                              \n",
       "\n",
       "     2         4       2  2    4                 4     ⎞                      \n",
       "EI₂⋅R  + EI_w⋅n  + GJ⋅R ⋅n  + R ⋅k_{\\phi\\phi} + R ⋅t⋅y₀⎠                      \n",
       "──────────────────────────────────────────────────────────────────────────────\n",
       "                                                                              \n",
       "   2         4       2  2    4                 4     ⎞ ⎛     2  4         4   \n",
       "₂⋅R  + EI_w⋅n  + GJ⋅R ⋅n  + R ⋅k_{\\phi\\phi} + R ⋅t⋅y₀⎠⋅⎝EI₂⋅R ⋅n  + EI_w⋅n  + \n",
       "                                                                              \n",
       "\n",
       "                             ⎫\n",
       "                             ⎪\n",
       "─────────────────────────────⎪\n",
       "                            ⎞⎬\n",
       "    2  2    6        5  2  ⎞⎟⎪\n",
       "GJ⋅R ⋅n  + R ⋅kᵤᵤ - R ⋅n ⋅t⎠⎠⎪\n",
       "                             ⎭"
      ]
     },
     "execution_count": 6,
     "metadata": {},
     "output_type": "execute_result"
    }
   ],
   "source": [
    "sn = solve(rr_eqns[2:4], (un, pn))\n",
    "\n",
    "sn"
   ]
  },
  {
   "cell_type": "code",
   "execution_count": null,
   "metadata": {},
   "outputs": [],
   "source": []
  }
 ],
 "metadata": {
  "anaconda-cloud": {},
  "kernelspec": {
   "display_name": "Python 2",
   "language": "python",
   "name": "python2"
  },
  "language_info": {
   "codemirror_mode": {
    "name": "ipython",
    "version": 2
   },
   "file_extension": ".py",
   "mimetype": "text/x-python",
   "name": "python",
   "nbconvert_exporter": "python",
   "pygments_lexer": "ipython2",
   "version": "2.7.13"
  }
 },
 "nbformat": 4,
 "nbformat_minor": 1
}
