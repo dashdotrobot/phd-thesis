{
 "cells": [
  {
   "cell_type": "markdown",
   "metadata": {},
   "source": [
    "# Lateral-torsional Rayleigh-Ritz equations"
   ]
  },
  {
   "cell_type": "code",
   "execution_count": null,
   "metadata": {},
   "outputs": [],
   "source": [
    "import numpy as np\n",
    "from sympy import *\n",
    "from bikewheelcalc import BicycleWheel\n",
    "from IPython.display import display\n",
    "\n",
    "init_printing()"
   ]
  },
  {
   "cell_type": "code",
   "execution_count": null,
   "metadata": {},
   "outputs": [],
   "source": [
    "# setup symbols\n",
    "s = symbols('s', real=true)\n",
    "\n",
    "# deformation\n",
    "u = Function('u')\n",
    "v = Function('v')\n",
    "w = Function('w')\n",
    "phi = Function('phi')\n",
    "\n",
    "# Applied load\n",
    "P = symbols('P', real=True)\n",
    "\n",
    "# rim properties\n",
    "R, EA, EI1, EI2, GJ, EIw, mu, rx, ry, y0 = symbols('R EA EI_1 EI_2 GJ EI_w mu r_x r_y y_0',\n",
    "                                                   real=true, finite=true,\n",
    "                                                   positive=true)\n",
    "\n",
    "t = symbols('t', real=true)  # Average net radial pull per unit length\n",
    "\n",
    "# spoke properties\n",
    "ns = symbols('n_s', integer=true, positive=true)\n",
    "T, EA, ls, alpha = symbols('T, EA, l, alpha', real=true, positive=true)\n",
    "k_uu, k_vv, k_ww, k_pp = symbols('k_uu k_vv k_ww, k_{\\phi\\phi}', real=true)\n",
    "k_uv, k_uw, k_up, k_vw, k_vp, k_wp = symbols('k_uv k_uw k_{u\\phi} k_vw k_{v\\phi} k_{w\\phi}', real=true)\n",
    "\n",
    "sub_no_k = [(k_uu, 0), (k_vv, 0), (k_ww, 0), (k_pp, 0),\n",
    "            (k_uv, 0), (k_uw, 0), (k_up, 0), (k_vw, 0), (k_vp, 0), (k_wp, 0)]\n",
    "\n",
    "# No coupling terms between v-w and u-phi\n",
    "sub_ij = [(k_uv, 0), (k_uw, 0), (k_vp, 0), (k_wp, 0)]"
   ]
  },
  {
   "cell_type": "markdown",
   "metadata": {},
   "source": [
    "## Curvatures and total potential"
   ]
  },
  {
   "cell_type": "code",
   "execution_count": null,
   "metadata": {},
   "outputs": [],
   "source": [
    "# curvatures\n",
    "n = symbols('n', real=True, integer=True)\n",
    "un, pn = symbols('u_n phi_n', real=True)\n",
    "u = un*cos(n*s/R)\n",
    "phi = pn*cos(n*s/R)\n",
    "\n",
    "# Curvatures\n",
    "k_2 = u.diff(s, 2) - phi/R\n",
    "k_3 = u.diff(s)/R + phi.diff(s)\n",
    "\n",
    "u_rim = (EI2*k_2**2 + GJ*k_3**2 + EIw*(k_3.diff(s))**2)/2\n",
    "\n",
    "u_spokes = (k_uu*u**2 + 2*k_up*u*phi + k_pp*phi**2)/2\n",
    "\n",
    "v_rim = R*t*(u.diff(s)**2 + rx**2*phi.diff(s)**2 +\n",
    "         ry**2*(u.diff(s)/R - phi.diff(s))**2 +\n",
    "         y0*(2*u.diff(s, 2)*phi.diff(s) - phi**2/R) +\n",
    "         y0**2*phi.diff(s)**2)/2\n",
    "\n",
    "PI = (integrate(u_rim + u_spokes - v_rim, (s, 0, 2*pi*R)).simplify()) - P*un\n",
    "\n",
    "sub_r2 = [(rx**2, 0), (ry**2, 0), (y0**2, 0)]\n",
    "PI = PI.subs(sub_r2)"
   ]
  },
  {
   "cell_type": "markdown",
   "metadata": {},
   "source": [
    "## Rayleigh-Ritz equations"
   ]
  },
  {
   "cell_type": "code",
   "execution_count": null,
   "metadata": {},
   "outputs": [],
   "source": [
    "n_pos = symbols('n', real=True, integer=True, positive=True)\n",
    "rr_eqns = [Eq(PI.subs(n, 0).diff(un)), Eq(PI.subs(n, 0).diff(pn)),\n",
    "           Eq(PI.subs(n, n_pos).diff(un)), Eq(PI.subs(n, n_pos).diff(pn))]\n",
    "\n",
    "display(rr_eqns[0])\n",
    "display(rr_eqns[1])\n",
    "display(rr_eqns[2])\n",
    "display(rr_eqns[3])"
   ]
  },
  {
   "cell_type": "markdown",
   "metadata": {},
   "source": [
    "## Solution"
   ]
  },
  {
   "cell_type": "code",
   "execution_count": null,
   "metadata": {},
   "outputs": [],
   "source": [
    "s0 = solve(rr_eqns[0:2], (un, pn))\n",
    "\n",
    "s0"
   ]
  },
  {
   "cell_type": "code",
   "execution_count": null,
   "metadata": {},
   "outputs": [],
   "source": [
    "sn = solve(rr_eqns[2:4], (un, pn))\n",
    "\n",
    "sn"
   ]
  },
  {
   "cell_type": "code",
   "execution_count": null,
   "metadata": {},
   "outputs": [],
   "source": []
  }
 ],
 "metadata": {
  "anaconda-cloud": {},
  "kernelspec": {
   "display_name": "Python 2",
   "language": "python",
   "name": "python2"
  },
  "language_info": {
   "codemirror_mode": {
    "name": "ipython",
    "version": 2
   },
   "file_extension": ".py",
   "mimetype": "text/x-python",
   "name": "python",
   "nbconvert_exporter": "python",
   "pygments_lexer": "ipython2",
   "version": "2.7.13"
  }
 },
 "nbformat": 4,
 "nbformat_minor": 1
}
