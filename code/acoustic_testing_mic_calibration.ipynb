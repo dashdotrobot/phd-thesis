{
 "cells": [
  {
   "cell_type": "code",
   "execution_count": null,
   "metadata": {},
   "outputs": [],
   "source": [
    "import numpy as np\n",
    "import soundfile as sf\n",
    "import matplotlib.pyplot as plt\n",
    "from IPython.display import display\n",
    "\n",
    "%matplotlib inline"
   ]
  },
  {
   "cell_type": "code",
   "execution_count": null,
   "metadata": {
    "scrolled": true
   },
   "outputs": [],
   "source": [
    "x1, fs = sf.read('../data/acoustic_test/mic_calibration/PN_mic_sep_819200.wav')\n",
    "x_ref = np.loadtxt('../data/acoustic_test/mic_calibration/PinkNoise_MicsSep.txt')\n",
    "\n",
    "# Average of 50 spectra with bandwidth fs/8192\n",
    "N_avg=50\n",
    "N_buff=8192\n",
    "\n",
    "X1 = 0.\n",
    "for i in range(N_avg):\n",
    "    X1 = X1 + np.abs(np.fft.rfft(x1[i*N_buff : (i+1)*N_buff]))\n",
    "\n",
    "X_ref = np.abs(np.fft.rfft(x_ref))\n",
    "\n",
    "f = np.fft.rfftfreq(N_buff, 1./fs)"
   ]
  },
  {
   "cell_type": "code",
   "execution_count": null,
   "metadata": {},
   "outputs": [],
   "source": [
    "TF = X1 / X_ref  # Estimate transfer function for iPhone mic\n",
    "TF = TF / TF[1]  # Normalize transfer function to 5.38 Hz\n",
    "\n",
    "with plt.style.context(('seaborn-paper')):\n",
    "    fig, ax = plt.subplots(figsize=(6.5, 4))\n",
    "\n",
    "    ax.plot(f / 1000, 10*np.log10(TF), 'k')\n",
    "    ax.plot([0.001, 100], [1, 1], 'r--')\n",
    "    ax.plot([0.001, 100], [-1, -1], 'r--')\n",
    "\n",
    "    ax.set_xscale('log')\n",
    "    ax.set_xticks([.01, .1, 1, 10, 100])\n",
    "    ax.set_xticklabels(['0.01', '0.1', '1', '10', '100'])\n",
    "\n",
    "    ax.set_xlabel('Frequency [kHz]')\n",
    "    ax.set_ylabel('Relative microphone sensitivity [dB]')\n",
    "\n",
    "    ax.set_xlim([0.001, 100])\n",
    "    \n",
    "    plt.tight_layout()\n",
    "    plt.savefig('../figs/acoustic_testing/_python_mic_sensitivity.pdf')"
   ]
  },
  {
   "cell_type": "code",
   "execution_count": null,
   "metadata": {},
   "outputs": [],
   "source": []
  }
 ],
 "metadata": {
  "anaconda-cloud": {},
  "kernelspec": {
   "display_name": "Python [default]",
   "language": "python",
   "name": "python2"
  },
  "language_info": {
   "codemirror_mode": {
    "name": "ipython",
    "version": 2
   },
   "file_extension": ".py",
   "mimetype": "text/x-python",
   "name": "python",
   "nbconvert_exporter": "python",
   "pygments_lexer": "ipython2",
   "version": "2.7.14"
  }
 },
 "nbformat": 4,
 "nbformat_minor": 1
}
