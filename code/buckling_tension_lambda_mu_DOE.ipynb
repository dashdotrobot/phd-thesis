{
 "cells": [
  {
   "cell_type": "code",
   "execution_count": null,
   "metadata": {},
   "outputs": [],
   "source": [
    "import numpy as np\n",
    "import pandas as pd\n",
    "from bikewheelcalc import BicycleWheel, Hub, Rim\n",
    "import bikewheellib as bl\n",
    "import matplotlib.pyplot as plt\n",
    "from doetools import TensionBucklingDOE\n",
    "from doetools.wheel_library import create_wheel_from_lm\n",
    "\n",
    "%matplotlib inline"
   ]
  },
  {
   "cell_type": "markdown",
   "metadata": {},
   "source": [
    "### DOE: hold $\\mu$ fixed, vary $\\lambda_{uu}$"
   ]
  },
  {
   "cell_type": "code",
   "execution_count": null,
   "metadata": {},
   "outputs": [],
   "source": [
    "lambda_dir = '../data/doe/doe_Tc_lambda'\n",
    "\n",
    "if True:\n",
    "\n",
    "    up = 0.01e-3\n",
    "    doe = TensionBucklingDOE(out_dir=lambda_dir,\n",
    "                             opts={'spk_paired': False,\n",
    "                                   'spk_eltype': 'beam',\n",
    "                                   'rim_perturb': [0., up, up, up, up]})\n",
    "\n",
    "    mu = 26./69.\n",
    "    for lam in 5.*np.logspace(0, 2, 16):\n",
    "\n",
    "        wheel = create_wheel_from_lm(l=lam, mu=mu)\n",
    "        \n",
    "        Tc, nc = bl.calc_buckling_tension(wheel)\n",
    "        \n",
    "        jobname = 'Tc_lambda{:.1f}'.format(lam)\n",
    "\n",
    "        doe.add_experiment(wheel, opts={'jobname': jobname,\n",
    "                                        'lambda': lam,\n",
    "                                        'mu': mu})\n",
    "\n",
    "    print('\\nCreated {0:d} simulations'.format(len(doe.db)))\n",
    "\n",
    "    doe.write_input_files(N_batches=2)\n",
    "    doe.to_csv()"
   ]
  },
  {
   "cell_type": "markdown",
   "metadata": {},
   "source": [
    "### DOE: hold $\\lambda_{uu}$ fixed, vary $\\mu$"
   ]
  },
  {
   "cell_type": "code",
   "execution_count": null,
   "metadata": {},
   "outputs": [],
   "source": [
    "mu_dir = '../data/doe/doe_Tc_mu'\n",
    "\n",
    "if True:\n",
    "    \n",
    "    up = 0.01e-3\n",
    "    doe = TensionBucklingDOE(out_dir=mu_dir,\n",
    "                             opts={'spk_paired': False,\n",
    "                                   'spk_eltype': 'beam',\n",
    "                                   'rim_perturb': [0., up, up, up, up]})\n",
    "\n",
    "    lam = 10.0\n",
    "    for mu in 1.*np.logspace(-2, 0, 16):\n",
    "\n",
    "        wheel = create_wheel_from_lm(l=lam, mu=mu)\n",
    "        \n",
    "        jobname = 'Tc_mu{:.3f}'.format(mu)\n",
    "\n",
    "        doe.add_experiment(wheel, opts={'jobname': jobname,\n",
    "                                        'lambda': lam,\n",
    "                                        'mu': mu})\n",
    "\n",
    "    print('\\nCreated {0:d} simulations'.format(len(doe.db)))\n",
    "\n",
    "    doe.write_input_files(N_batches=1)\n",
    "    doe.to_csv()"
   ]
  },
  {
   "cell_type": "code",
   "execution_count": null,
   "metadata": {},
   "outputs": [],
   "source": []
  }
 ],
 "metadata": {
  "anaconda-cloud": {},
  "kernelspec": {
   "display_name": "Python 2",
   "language": "python",
   "name": "python2"
  },
  "language_info": {
   "codemirror_mode": {
    "name": "ipython",
    "version": 2
   },
   "file_extension": ".py",
   "mimetype": "text/x-python",
   "name": "python",
   "nbconvert_exporter": "python",
   "pygments_lexer": "ipython2",
   "version": "2.7.13"
  }
 },
 "nbformat": 4,
 "nbformat_minor": 1
}
