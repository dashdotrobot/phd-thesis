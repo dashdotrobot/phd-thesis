{
 "cells": [
  {
   "cell_type": "code",
   "execution_count": 1,
   "metadata": {},
   "outputs": [],
   "source": [
    "import numpy as np\n",
    "from sympy import *\n",
    "from bikewheelcalc import BicycleWheel\n",
    "from IPython.display import display\n",
    "\n",
    "init_printing()"
   ]
  },
  {
   "cell_type": "markdown",
   "metadata": {},
   "source": [
    "## Coordinate system\n",
    "\n",
    "Cross-section of the rim at $\\theta=0$ (bottom of the wheel).\n",
    "\n",
    "$e_1, u$ lateral vector (points outwards from the drive side)\n",
    "\n",
    "$e_2, v$ radial inward vector\n",
    "\n",
    "$e_3, w$ axial vector normal to rim cross-section (CCW)\n",
    "\n",
    "### Things I like about this coordinate system\n",
    "\n",
    "- Right-handed coordinate system\n",
    "- u and phi have the same sign for a gyration of a rim cross-section about the wheel center\n",
    "\n",
    "### Things I don't like about this coordinate system\n",
    "\n",
    "- vw, and u-phi coupling are not adjacent\n",
    "- positive u towards left side of the bike"
   ]
  },
  {
   "cell_type": "code",
   "execution_count": 2,
   "metadata": {},
   "outputs": [],
   "source": [
    "# setup symbols\n",
    "s = symbols('s', real=true)\n",
    "\n",
    "# deformation\n",
    "u = Function('u')\n",
    "v = Function('v')\n",
    "w = Function('w')\n",
    "phi = Function('phi')\n",
    "\n",
    "# Distributed loading functions\n",
    "fu = Function('f_u')\n",
    "fv = Function('f_v')\n",
    "fw = Function('f_w')\n",
    "m = Function('m_phi')\n",
    "\n",
    "# rim properties\n",
    "R, EA, EI1, EI2, GJ, EIw, mu, rx, ry, y0 = symbols('R EA EI_1 EI_2 GJ EI_w mu r_x r_y y_0',\n",
    "                                                   real=true, finite=true,\n",
    "                                                   positive=true)\n",
    "\n",
    "t = symbols('t', real=true)  # Average net radial pull per unit length\n",
    "\n",
    "# spoke properties\n",
    "ns = symbols('n_s', integer=true, positive=true)\n",
    "T, EA, ls, alpha = symbols('T, EA, l, alpha', real=true, positive=true)\n",
    "k_uu, k_vv, k_ww, k_pp = symbols('k_uu k_vv k_ww, k_{\\phi\\phi}', real=true)\n",
    "k_uv, k_uw, k_up, k_vw, k_vp, k_wp = symbols('k_uv k_uw k_{u\\phi} k_vw k_{v\\phi} k_{w\\phi}', real=true)\n",
    "\n",
    "sub_no_k = [(k_uu, 0), (k_vv, 0), (k_ww, 0), (k_pp, 0),\n",
    "            (k_uv, 0), (k_uw, 0), (k_up, 0), (k_vw, 0), (k_vp, 0), (k_wp, 0)]\n",
    "\n",
    "# No coupling terms between v-w and u-phi\n",
    "sub_ij = [(k_uv, 0), (k_uw, 0), (k_vp, 0), (k_wp, 0)]"
   ]
  },
  {
   "cell_type": "code",
   "execution_count": 3,
   "metadata": {},
   "outputs": [
    {
     "data": {
      "image/png": "[encoded data removed]",
      "text/latex": [
       "$$\\frac{d^{2}}{d s^{2}}  v{\\left (s \\right )} + \\frac{1}{R} \\frac{d}{d s} w{\\left (s \\right )}$$"
      ],
      "text/plain": [
       "            d       \n",
       "  2         ──(w(s))\n",
       " d          ds      \n",
       "───(v(s)) + ────────\n",
       "  2            R    \n",
       "ds                  "
      ]
     },
     "metadata": {},
     "output_type": "display_data"
    },
    {
     "data": {
      "image/png": "[encoded data removed]",
      "text/latex": [
       "$$\\frac{d^{2}}{d s^{2}}  u{\\left (s \\right )} - \\frac{1}{R} \\phi{\\left (s \\right )}$$"
      ],
      "text/plain": [
       "  2             \n",
       " d          φ(s)\n",
       "───(u(s)) - ────\n",
       "  2          R  \n",
       "ds              "
      ]
     },
     "metadata": {},
     "output_type": "display_data"
    },
    {
     "data": {
      "image/png": "[encoded data removed]",
      "text/latex": [
       "$$\\frac{d}{d s} \\phi{\\left (s \\right )} + \\frac{1}{R} \\frac{d}{d s} u{\\left (s \\right )}$$"
      ],
      "text/plain": [
       "           d       \n",
       "           ──(u(s))\n",
       "d          ds      \n",
       "──(φ(s)) + ────────\n",
       "ds            R    "
      ]
     },
     "metadata": {},
     "output_type": "display_data"
    },
    {
     "data": {
      "image/png": "[encoded data removed]",
      "text/latex": [
       "$$y_{0} \\left(\\frac{d^{2}}{d s^{2}}  v{\\left (s \\right )} + \\frac{1}{R} \\frac{d}{d s} w{\\left (s \\right )}\\right) + \\frac{d}{d s} w{\\left (s \\right )} - \\frac{1}{R} v{\\left (s \\right )}$$"
      ],
      "text/plain": [
       "   ⎛            d       ⎞                  \n",
       "   ⎜  2         ──(w(s))⎟                  \n",
       "   ⎜ d          ds      ⎟   d          v(s)\n",
       "y₀⋅⎜───(v(s)) + ────────⎟ + ──(w(s)) - ────\n",
       "   ⎜  2            R    ⎟   ds          R  \n",
       "   ⎝ds                  ⎠                  "
      ]
     },
     "metadata": {},
     "output_type": "display_data"
    }
   ],
   "source": [
    "# curvatures\n",
    "k_1 = v(s).diff(s, 2) + w(s).diff(s)/R\n",
    "k_2 = u(s).diff(s, 2) - phi(s)/R\n",
    "k_3 = u(s).diff(s)/R + phi(s).diff(s)\n",
    "e_mem = w(s).diff(s) - v(s)/R + y0*(v(s).diff(s, 2) + w(s).diff(s)/R)\n",
    "\n",
    "display(k_1)\n",
    "display(k_2)\n",
    "display(k_3)\n",
    "display(e_mem)"
   ]
  },
  {
   "cell_type": "code",
   "execution_count": 4,
   "metadata": {},
   "outputs": [],
   "source": [
    "U_rim = (EI1*k_1**2 + EI2*k_2**2 + GJ*k_3**2 + EIw*(k_3.diff(s))**2)/2 + EA*e_mem**2/2\n",
    "\n",
    "U_spokes = (k_uu*u(s)**2 + 2*k_uv*u(s)*v(s) + 2*k_uw*u(s)*w(s) + 2*k_up*u(s)*phi(s) +\n",
    "            k_vv*v(s)**2 + 2*k_vw*v(s)*w(s) + 2*k_vp*v(s)*phi(s) +\n",
    "            k_ww*w(s)**2 + 2*k_wp*w(s)*phi(s) +\n",
    "            k_pp*phi(s)**2)/2\n",
    "\n",
    "V_rim = fu(s)*u(s) + fv(s)*v(s) + fw(s)*w(s) + m(s)*phi(s) +\\\n",
    "    R*t*(u(s).diff(s)**2 + rx**2*phi(s).diff(s)**2 +\n",
    "         ry**2*(u(s).diff(s)/R - phi(s).diff(s))**2 +\n",
    "         y0*(2*u(s).diff(s, 2)*phi(s).diff(s) - phi(s)**2/R) +\n",
    "         y0**2*phi(s).diff(s)**2)/2\n",
    "\n",
    "equil_eqns = euler_equations(U_rim + U_spokes - V_rim, (v(s), w(s), u(s), phi(s)), s)"
   ]
  },
  {
   "cell_type": "code",
   "execution_count": 5,
   "metadata": {},
   "outputs": [
    {
     "data": {
      "image/png": "[encoded data removed]",
      "text/latex": [
       "$$EA y_{0} \\left(y_{0} \\left(\\frac{d^{4}}{d s^{4}}  v{\\left (s \\right )} + \\frac{1}{R} \\frac{d^{3}}{d s^{3}}  w{\\left (s \\right )}\\right) + \\frac{d^{3}}{d s^{3}}  w{\\left (s \\right )} - \\frac{1}{R} \\frac{d^{2}}{d s^{2}}  v{\\left (s \\right )}\\right) - \\frac{EA}{R} \\left(y_{0} \\left(\\frac{d^{2}}{d s^{2}}  v{\\left (s \\right )} + \\frac{1}{R} \\frac{d}{d s} w{\\left (s \\right )}\\right) + \\frac{d}{d s} w{\\left (s \\right )} - \\frac{1}{R} v{\\left (s \\right )}\\right) + EI_{1} \\left(\\frac{d^{4}}{d s^{4}}  v{\\left (s \\right )} + \\frac{1}{R} \\frac{d^{3}}{d s^{3}}  w{\\left (s \\right )}\\right) + k_{uv} u{\\left (s \\right )} + k_{vv} v{\\left (s \\right )} + k_{vw} w{\\left (s \\right )} + k_{{v\\phi}} \\phi{\\left (s \\right )} - \\operatorname{f_{v}}{\\left (s \\right )} = 0$$"
      ],
      "text/plain": [
       "                                                                ⎛   ⎛         \n",
       "      ⎛   ⎛              3      ⎞                 2      ⎞      ⎜   ⎜  2      \n",
       "      ⎜   ⎜             d       ⎟                d       ⎟      ⎜   ⎜ d       \n",
       "      ⎜   ⎜            ───(w(s))⎟               ───(v(s))⎟   EA⋅⎜y₀⋅⎜───(v(s))\n",
       "      ⎜   ⎜  4           3      ⎟     3           2      ⎟      ⎜   ⎜  2      \n",
       "      ⎜   ⎜ d          ds       ⎟    d          ds       ⎟      ⎝   ⎝ds       \n",
       "EA⋅y₀⋅⎜y₀⋅⎜───(v(s)) + ─────────⎟ + ───(w(s)) - ─────────⎟ - ─────────────────\n",
       "      ⎜   ⎜  4             R    ⎟     3             R    ⎟                    \n",
       "      ⎝   ⎝ds                   ⎠   ds                   ⎠                    \n",
       "\n",
       "   d       ⎞                  ⎞                                               \n",
       "   ──(w(s))⎟                  ⎟       ⎛              3      ⎞                 \n",
       "   ds      ⎟   d          v(s)⎟       ⎜             d       ⎟                 \n",
       " + ────────⎟ + ──(w(s)) - ────⎟       ⎜            ───(w(s))⎟                 \n",
       "      R    ⎟   ds          R  ⎟       ⎜  4           3      ⎟                 \n",
       "           ⎠                  ⎠       ⎜ d          ds       ⎟                 \n",
       "─────────────────────────────── + EI₁⋅⎜───(v(s)) + ─────────⎟ + kᵤᵥ⋅u(s) + kᵥᵥ\n",
       "      R                               ⎜  4             R    ⎟                 \n",
       "                                      ⎝ds                   ⎠                 \n",
       "\n",
       "                                              \n",
       "                                              \n",
       "                                              \n",
       "                                              \n",
       "                                              \n",
       "                                              \n",
       "⋅v(s) + k_vw⋅w(s) + k_{v\\phi}⋅φ(s) - fᵥ(s) = 0\n",
       "                                              \n",
       "                                              "
      ]
     },
     "metadata": {},
     "output_type": "display_data"
    },
    {
     "data": {
      "image/png": "[encoded data removed]",
      "text/latex": [
       "$$- EA \\left(1 + \\frac{y_{0}}{R}\\right) \\left(y_{0} \\left(\\frac{d^{3}}{d s^{3}}  v{\\left (s \\right )} + \\frac{1}{R} \\frac{d^{2}}{d s^{2}}  w{\\left (s \\right )}\\right) + \\frac{d^{2}}{d s^{2}}  w{\\left (s \\right )} - \\frac{1}{R} \\frac{d}{d s} v{\\left (s \\right )}\\right) - \\frac{EI_{1}}{R} \\left(\\frac{d^{3}}{d s^{3}}  v{\\left (s \\right )} + \\frac{1}{R} \\frac{d^{2}}{d s^{2}}  w{\\left (s \\right )}\\right) + k_{uw} u{\\left (s \\right )} + k_{vw} v{\\left (s \\right )} + k_{ww} w{\\left (s \\right )} + k_{{w\\phi}} \\phi{\\left (s \\right )} - \\operatorname{f_{w}}{\\left (s \\right )} = 0$$"
      ],
      "text/plain": [
       "                                                                        ⎛     \n",
       "                                                                        ⎜     \n",
       "                                                                        ⎜     \n",
       "              ⎛   ⎛              2      ⎞                       ⎞       ⎜  3  \n",
       "              ⎜   ⎜             d       ⎟                       ⎟       ⎜ d   \n",
       "              ⎜   ⎜            ───(w(s))⎟               d       ⎟   EI₁⋅⎜───(v\n",
       "              ⎜   ⎜  3           2      ⎟     2         ──(v(s))⎟       ⎜  3  \n",
       "     ⎛    y₀⎞ ⎜   ⎜ d          ds       ⎟    d          ds      ⎟       ⎝ds   \n",
       "- EA⋅⎜1 + ──⎟⋅⎜y₀⋅⎜───(v(s)) + ─────────⎟ + ───(w(s)) - ────────⎟ - ──────────\n",
       "     ⎝    R ⎠ ⎜   ⎜  3             R    ⎟     2            R    ⎟             \n",
       "              ⎝   ⎝ds                   ⎠   ds                  ⎠             \n",
       "\n",
       "         2      ⎞                                                             \n",
       "        d       ⎟                                                             \n",
       "       ───(w(s))⎟                                                             \n",
       "         2      ⎟                                                             \n",
       "       ds       ⎟                                                             \n",
       "(s)) + ─────────⎟                                                             \n",
       "           R    ⎟                                                             \n",
       "                ⎠                                                             \n",
       "───────────────── + k_uw⋅u(s) + k_vw⋅v(s) + k_ww⋅w(s) + k_{w\\phi}⋅φ(s) - f_w(s\n",
       "   R                                                                          \n",
       "                                                                              \n",
       "\n",
       "     \n",
       "     \n",
       "     \n",
       "     \n",
       "     \n",
       "     \n",
       "     \n",
       "     \n",
       ") = 0\n",
       "     \n",
       "     "
      ]
     },
     "metadata": {},
     "output_type": "display_data"
    },
    {
     "data": {
      "image/png": "[encoded data removed]",
      "text/latex": [
       "$$EI_{2} \\left(\\frac{d^{4}}{d s^{4}}  u{\\left (s \\right )} - \\frac{1}{R} \\frac{d^{2}}{d s^{2}}  \\phi{\\left (s \\right )}\\right) + \\frac{EI_{w}}{R} \\left(\\frac{d^{4}}{d s^{4}}  \\phi{\\left (s \\right )} + \\frac{1}{R} \\frac{d^{4}}{d s^{4}}  u{\\left (s \\right )}\\right) - \\frac{GJ}{R} \\left(\\frac{d^{2}}{d s^{2}}  \\phi{\\left (s \\right )} + \\frac{1}{R} \\frac{d^{2}}{d s^{2}}  u{\\left (s \\right )}\\right) - R t y_{0} \\frac{d^{3}}{d s^{3}}  \\phi{\\left (s \\right )} + R t \\left(\\frac{d^{2}}{d s^{2}}  u{\\left (s \\right )} - \\frac{r_{y}^{2}}{R} \\left(\\frac{d^{2}}{d s^{2}}  \\phi{\\left (s \\right )} - \\frac{1}{R} \\frac{d^{2}}{d s^{2}}  u{\\left (s \\right )}\\right)\\right) + k_{uu} u{\\left (s \\right )} + k_{uv} v{\\left (s \\right )} + k_{uw} w{\\left (s \\right )} + k_{{u\\phi}} \\phi{\\left (s \\right )} - \\operatorname{f_{u}}{\\left (s \\right )} = 0$$"
      ],
      "text/plain": [
       "                                   ⎛              4      ⎞      ⎛             \n",
       "                                   ⎜             d       ⎟      ⎜             \n",
       "                                   ⎜            ───(u(s))⎟      ⎜            ─\n",
       "    ⎛              2      ⎞        ⎜  4           4      ⎟      ⎜  2          \n",
       "    ⎜             d       ⎟        ⎜ d          ds       ⎟      ⎜ d          d\n",
       "    ⎜            ───(φ(s))⎟   EI_w⋅⎜───(φ(s)) + ─────────⎟   GJ⋅⎜───(φ(s)) + ─\n",
       "    ⎜  4           2      ⎟        ⎜  4             R    ⎟      ⎜  2          \n",
       "    ⎜ d          ds       ⎟        ⎝ds                   ⎠      ⎝ds           \n",
       "EI₂⋅⎜───(u(s)) - ─────────⎟ + ──────────────────────────── - ─────────────────\n",
       "    ⎜  4             R    ⎟                R                             R    \n",
       "    ⎝ds                   ⎠                                                   \n",
       "\n",
       " 2      ⎞                          ⎛                 ⎛              2      ⎞⎞ \n",
       "d       ⎟                          ⎜                 ⎜             d       ⎟⎟ \n",
       "──(u(s))⎟                          ⎜                 ⎜            ───(u(s))⎟⎟ \n",
       " 2      ⎟                          ⎜                 ⎜  2           2      ⎟⎟ \n",
       "s       ⎟                          ⎜               2 ⎜ d          ds       ⎟⎟ \n",
       "────────⎟                          ⎜            r_y ⋅⎜───(φ(s)) - ─────────⎟⎟ \n",
       "   R    ⎟            3             ⎜  2              ⎜  2             R    ⎟⎟ \n",
       "        ⎠           d              ⎜ d               ⎝ds                   ⎠⎟ \n",
       "───────── - R⋅t⋅y₀⋅───(φ(s)) + R⋅t⋅⎜───(u(s)) - ────────────────────────────⎟ \n",
       "                     3             ⎜  2                      R              ⎟ \n",
       "                   ds              ⎝ds                                      ⎠ \n",
       "\n",
       "                                                              \n",
       "                                                              \n",
       "                                                              \n",
       "                                                              \n",
       "                                                              \n",
       "                                                              \n",
       "                                                              \n",
       "                                                              \n",
       "+ kᵤᵤ⋅u(s) + kᵤᵥ⋅v(s) + k_uw⋅w(s) + k_{u\\phi}⋅φ(s) - fᵤ(s) = 0\n",
       "                                                              \n",
       "                                                              "
      ]
     },
     "metadata": {},
     "output_type": "display_data"
    },
    {
     "data": {
      "image/png": "[encoded data removed]",
      "text/latex": [
       "$$- \\frac{EI_{2}}{R} \\left(\\frac{d^{2}}{d s^{2}}  u{\\left (s \\right )} - \\frac{1}{R} \\phi{\\left (s \\right )}\\right) + EI_{w} \\left(\\frac{d^{4}}{d s^{4}}  \\phi{\\left (s \\right )} + \\frac{1}{R} \\frac{d^{4}}{d s^{4}}  u{\\left (s \\right )}\\right) - GJ \\left(\\frac{d^{2}}{d s^{2}}  \\phi{\\left (s \\right )} + \\frac{1}{R} \\frac{d^{2}}{d s^{2}}  u{\\left (s \\right )}\\right) + R t \\left(r_{x}^{2} \\frac{d^{2}}{d s^{2}}  \\phi{\\left (s \\right )} + r_{y}^{2} \\left(\\frac{d^{2}}{d s^{2}}  \\phi{\\left (s \\right )} - \\frac{1}{R} \\frac{d^{2}}{d s^{2}}  u{\\left (s \\right )}\\right) + y_{0}^{2} \\frac{d^{2}}{d s^{2}}  \\phi{\\left (s \\right )} + y_{0} \\frac{d^{3}}{d s^{3}}  u{\\left (s \\right )}\\right) + k_{{\\phi\\phi}} \\phi{\\left (s \\right )} + k_{{u\\phi}} u{\\left (s \\right )} + k_{{v\\phi}} v{\\left (s \\right )} + k_{{w\\phi}} w{\\left (s \\right )} + t y_{0} \\phi{\\left (s \\right )} - \\operatorname{m_{\\phi}}{\\left (s \\right )} = 0$$"
      ],
      "text/plain": [
       "      ⎛  2             ⎞        ⎛              4      ⎞      ⎛              2 \n",
       "      ⎜ d          φ(s)⎟        ⎜             d       ⎟      ⎜             d  \n",
       "  EI₂⋅⎜───(u(s)) - ────⎟        ⎜            ───(u(s))⎟      ⎜            ───(\n",
       "      ⎜  2          R  ⎟        ⎜  4           4      ⎟      ⎜  2           2 \n",
       "      ⎝ds              ⎠        ⎜ d          ds       ⎟      ⎜ d          ds  \n",
       "- ────────────────────── + EI_w⋅⎜───(φ(s)) + ─────────⎟ - GJ⋅⎜───(φ(s)) + ────\n",
       "            R                   ⎜  4             R    ⎟      ⎜  2             \n",
       "                                ⎝ds                   ⎠      ⎝ds              \n",
       "\n",
       "     ⎞       ⎛                     ⎛              2      ⎞                    \n",
       "     ⎟       ⎜                     ⎜             d       ⎟                    \n",
       "u(s))⎟       ⎜                     ⎜            ───(u(s))⎟                    \n",
       "     ⎟       ⎜      2              ⎜  2           2      ⎟         2          \n",
       "     ⎟       ⎜  2  d             2 ⎜ d          ds       ⎟     2  d           \n",
       "─────⎟ + R⋅t⋅⎜rₓ ⋅───(φ(s)) + r_y ⋅⎜───(φ(s)) - ─────────⎟ + y₀ ⋅───(φ(s)) + y\n",
       "R    ⎟       ⎜      2              ⎜  2             R    ⎟         2          \n",
       "     ⎠       ⎝    ds               ⎝ds                   ⎠       ds           \n",
       "\n",
       "           ⎞                                                                  \n",
       "           ⎟                                                                  \n",
       "           ⎟                                                                  \n",
       "    3      ⎟                                                                  \n",
       "   d       ⎟                                                                  \n",
       "₀⋅───(u(s))⎟ + k_{\\phi\\phi}⋅φ(s) + k_{u\\phi}⋅u(s) + k_{v\\phi}⋅v(s) + k_{w\\phi}\n",
       "    3      ⎟                                                                  \n",
       "  ds       ⎠                                                                  \n",
       "\n",
       "                             \n",
       "                             \n",
       "                             \n",
       "                             \n",
       "                             \n",
       "⋅w(s) + t⋅y₀⋅φ(s) - mᵩ(s) = 0\n",
       "                             \n",
       "                             "
      ]
     },
     "metadata": {},
     "output_type": "display_data"
    }
   ],
   "source": [
    "display(equil_eqns[0])\n",
    "display(equil_eqns[1])\n",
    "display(equil_eqns[2])\n",
    "display(equil_eqns[3])"
   ]
  },
  {
   "cell_type": "code",
   "execution_count": 6,
   "metadata": {
    "scrolled": true
   },
   "outputs": [
    {
     "data": {
      "image/png": "[encoded data removed]",
      "text/latex": [
       "$$\\left[\\begin{matrix}- \\frac{2 EA}{R} p^{2} y_{0} + \\frac{EA}{R^{2}} + k_{vv} + p^{4} \\left(EA y_{0}^{2} + EI_{1}\\right) & k_{vw} + p^{3} \\left(EA y_{0} + \\frac{EA y_{0}^{2}}{R} + \\frac{EI_{1}}{R}\\right) + p \\left(- \\frac{EA}{R} - \\frac{EA y_{0}}{R^{2}}\\right)\\\\k_{vw} + p^{3} \\left(- EA y_{0} - \\frac{EA y_{0}^{2}}{R} - \\frac{EI_{1}}{R}\\right) + p \\left(\\frac{EA}{R} + \\frac{EA y_{0}}{R^{2}}\\right) & k_{ww} + p^{2} \\left(- EA - \\frac{2 EA}{R} y_{0} - \\frac{EA y_{0}^{2}}{R^{2}} - \\frac{EI_{1}}{R^{2}}\\right)\\end{matrix}\\right]$$"
      ],
      "text/plain": [
       "⎡           2                                                  ⎛             2\n",
       "⎢     2⋅EA⋅p ⋅y₀   EA          4 ⎛     2      ⎞              3 ⎜        EA⋅y₀ \n",
       "⎢   - ────────── + ── + kᵥᵥ + p ⋅⎝EA⋅y₀  + EI₁⎠      k_vw + p ⋅⎜EA⋅y₀ + ──────\n",
       "⎢         R         2                                          ⎝          R   \n",
       "⎢                  R                                                          \n",
       "⎢                                                                             \n",
       "⎢          ⎛              2      ⎞                                  ⎛         \n",
       "⎢        3 ⎜         EA⋅y₀    EI₁⎟     ⎛EA   EA⋅y₀⎞               2 ⎜      2⋅E\n",
       "⎢k_vw + p ⋅⎜-EA⋅y₀ - ────── - ───⎟ + p⋅⎜── + ─────⎟       k_ww + p ⋅⎜-EA - ───\n",
       "⎢          ⎝           R       R ⎠     ⎜R       2 ⎟                 ⎜         \n",
       "⎣                                      ⎝       R  ⎠                 ⎝         \n",
       "\n",
       "      ⎞                   ⎤\n",
       "   EI₁⎟     ⎛  EA   EA⋅y₀⎞⎥\n",
       " + ───⎟ + p⋅⎜- ── - ─────⎟⎥\n",
       "    R ⎠     ⎜  R       2 ⎟⎥\n",
       "            ⎝         R  ⎠⎥\n",
       "                          ⎥\n",
       "            2      ⎞      ⎥\n",
       "A⋅y₀   EA⋅y₀    EI₁⎟      ⎥\n",
       "──── - ────── - ───⎟      ⎥\n",
       "R         2       2⎟      ⎥\n",
       "         R       R ⎠      ⎦"
      ]
     },
     "metadata": {},
     "output_type": "display_data"
    },
    {
     "data": {
      "image/png": "[encoded data removed]",
      "text/latex": [
       "$$\\left[\\begin{matrix}- \\frac{GJ p^{2}}{R^{2}} + k_{uu} + p^{4} \\left(EI_{2} + \\frac{EI_{w}}{R^{2}}\\right) & \\frac{EI_{w} p^{4}}{R} + k_{{u\\phi}} + p^{2} \\left(- \\frac{EI_{2}}{R} - \\frac{GJ}{R}\\right)\\\\\\frac{EI_{w} p^{4}}{R} + k_{{u\\phi}} + p^{2} \\left(- \\frac{EI_{2}}{R} - \\frac{GJ}{R}\\right) & \\frac{EI_{2}}{R^{2}} + EI_{w} p^{4} - GJ p^{2} + k_{{\\phi\\phi}}\\end{matrix}\\right]$$"
      ],
      "text/plain": [
       "⎡         2                                   4                              ⎤\n",
       "⎢     GJ⋅p           4 ⎛      EI_w⎞     EI_w⋅p                 2 ⎛  EI₂   GJ⎞⎥\n",
       "⎢   - ───── + kᵤᵤ + p ⋅⎜EI₂ + ────⎟     ─────── + k_{u\\phi} + p ⋅⎜- ─── - ──⎟⎥\n",
       "⎢        2             ⎜        2 ⎟        R                     ⎝   R    R ⎠⎥\n",
       "⎢       R              ⎝       R  ⎠                                          ⎥\n",
       "⎢                                                                            ⎥\n",
       "⎢      4                                                                     ⎥\n",
       "⎢EI_w⋅p                 2 ⎛  EI₂   GJ⎞  EI₂         4       2                ⎥\n",
       "⎢─────── + k_{u\\phi} + p ⋅⎜- ─── - ──⎟  ─── + EI_w⋅p  - GJ⋅p  + k_{\\phi\\phi} ⎥\n",
       "⎢   R                     ⎝   R    R ⎠    2                                  ⎥\n",
       "⎣                                        R                                   ⎦"
      ]
     },
     "metadata": {},
     "output_type": "display_data"
    }
   ],
   "source": [
    "# Simplifying assumptions\n",
    "sub_R = [(rx, 0), (ry, 0), (y0, 0)]\n",
    "sub_vw = [(k_uv, 0), (k_uw, 0), (k_vp, 0), (k_wp, 0)]\n",
    "sub_phi = [(k_up, 0), (k_pp, 0)]\n",
    "sub_nowarp = [(EIw, 0)]\n",
    "\n",
    "sym_vars = [v(s), w(s), u(s), phi(s)]\n",
    "p = symbols('p')\n",
    "\n",
    "# equil_eqns_simp = [e.subs(sub_R) for e in equil_eqns]\n",
    "\n",
    "M = zeros(4)\n",
    "for eq in range(4):\n",
    "    for var in range(4):\n",
    "        for o in range(10, -1, -1):\n",
    "            M[eq, var] = M[eq, var] + equil_eqns[eq].lhs.expand().coeff(Derivative(sym_vars[var], s, o)) * p**o\n",
    "\n",
    "display(M[[0, 1], [0, 1]].subs(t, 0))\n",
    "display(M[2:, 2:].subs(t, 0))"
   ]
  },
  {
   "cell_type": "code",
   "execution_count": 7,
   "metadata": {
    "scrolled": true
   },
   "outputs": [],
   "source": [
    "if False:\n",
    "    M_det = M.det()\n",
    "    display(collect(M_det.expand(), p))"
   ]
  },
  {
   "cell_type": "markdown",
   "metadata": {},
   "source": [
    "# Lateral-torsional"
   ]
  },
  {
   "cell_type": "code",
   "execution_count": 8,
   "metadata": {},
   "outputs": [
    {
     "data": {
      "text/plain": [
       "'Lateral-torsional'"
      ]
     },
     "metadata": {},
     "output_type": "display_data"
    },
    {
     "data": {
      "image/png": "[encoded data removed]",
      "text/latex": [
       "$$EI_{2} \\left(\\frac{d^{4}}{d s^{4}}  u{\\left (s \\right )} - \\frac{1}{R} \\frac{d^{2}}{d s^{2}}  \\phi{\\left (s \\right )}\\right) + \\frac{EI_{w}}{R} \\left(\\frac{d^{4}}{d s^{4}}  \\phi{\\left (s \\right )} + \\frac{1}{R} \\frac{d^{4}}{d s^{4}}  u{\\left (s \\right )}\\right) - \\frac{GJ}{R} \\left(\\frac{d^{2}}{d s^{2}}  \\phi{\\left (s \\right )} + \\frac{1}{R} \\frac{d^{2}}{d s^{2}}  u{\\left (s \\right )}\\right) - R t y_{0} \\frac{d^{3}}{d s^{3}}  \\phi{\\left (s \\right )} + R t \\left(\\frac{d^{2}}{d s^{2}}  u{\\left (s \\right )} - \\frac{r_{y}^{2}}{R} \\left(\\frac{d^{2}}{d s^{2}}  \\phi{\\left (s \\right )} - \\frac{1}{R} \\frac{d^{2}}{d s^{2}}  u{\\left (s \\right )}\\right)\\right) + k_{uu} u{\\left (s \\right )} + k_{{u\\phi}} \\phi{\\left (s \\right )} - \\operatorname{f_{u}}{\\left (s \\right )} = 0$$"
      ],
      "text/plain": [
       "                                   ⎛              4      ⎞      ⎛             \n",
       "                                   ⎜             d       ⎟      ⎜             \n",
       "                                   ⎜            ───(u(s))⎟      ⎜            ─\n",
       "    ⎛              2      ⎞        ⎜  4           4      ⎟      ⎜  2          \n",
       "    ⎜             d       ⎟        ⎜ d          ds       ⎟      ⎜ d          d\n",
       "    ⎜            ───(φ(s))⎟   EI_w⋅⎜───(φ(s)) + ─────────⎟   GJ⋅⎜───(φ(s)) + ─\n",
       "    ⎜  4           2      ⎟        ⎜  4             R    ⎟      ⎜  2          \n",
       "    ⎜ d          ds       ⎟        ⎝ds                   ⎠      ⎝ds           \n",
       "EI₂⋅⎜───(u(s)) - ─────────⎟ + ──────────────────────────── - ─────────────────\n",
       "    ⎜  4             R    ⎟                R                             R    \n",
       "    ⎝ds                   ⎠                                                   \n",
       "\n",
       " 2      ⎞                          ⎛                 ⎛              2      ⎞⎞ \n",
       "d       ⎟                          ⎜                 ⎜             d       ⎟⎟ \n",
       "──(u(s))⎟                          ⎜                 ⎜            ───(u(s))⎟⎟ \n",
       " 2      ⎟                          ⎜                 ⎜  2           2      ⎟⎟ \n",
       "s       ⎟                          ⎜               2 ⎜ d          ds       ⎟⎟ \n",
       "────────⎟                          ⎜            r_y ⋅⎜───(φ(s)) - ─────────⎟⎟ \n",
       "   R    ⎟            3             ⎜  2              ⎜  2             R    ⎟⎟ \n",
       "        ⎠           d              ⎜ d               ⎝ds                   ⎠⎟ \n",
       "───────── - R⋅t⋅y₀⋅───(φ(s)) + R⋅t⋅⎜───(u(s)) - ────────────────────────────⎟ \n",
       "                     3             ⎜  2                      R              ⎟ \n",
       "                   ds              ⎝ds                                      ⎠ \n",
       "\n",
       "                                       \n",
       "                                       \n",
       "                                       \n",
       "                                       \n",
       "                                       \n",
       "                                       \n",
       "                                       \n",
       "                                       \n",
       "+ kᵤᵤ⋅u(s) + k_{u\\phi}⋅φ(s) - fᵤ(s) = 0\n",
       "                                       \n",
       "                                       "
      ]
     },
     "metadata": {},
     "output_type": "display_data"
    },
    {
     "data": {
      "image/png": "[encoded data removed]",
      "text/latex": [
       "$$- \\frac{EI_{2}}{R} \\left(\\frac{d^{2}}{d s^{2}}  u{\\left (s \\right )} - \\frac{1}{R} \\phi{\\left (s \\right )}\\right) + EI_{w} \\left(\\frac{d^{4}}{d s^{4}}  \\phi{\\left (s \\right )} + \\frac{1}{R} \\frac{d^{4}}{d s^{4}}  u{\\left (s \\right )}\\right) - GJ \\left(\\frac{d^{2}}{d s^{2}}  \\phi{\\left (s \\right )} + \\frac{1}{R} \\frac{d^{2}}{d s^{2}}  u{\\left (s \\right )}\\right) + R t \\left(r_{x}^{2} \\frac{d^{2}}{d s^{2}}  \\phi{\\left (s \\right )} + r_{y}^{2} \\left(\\frac{d^{2}}{d s^{2}}  \\phi{\\left (s \\right )} - \\frac{1}{R} \\frac{d^{2}}{d s^{2}}  u{\\left (s \\right )}\\right) + y_{0}^{2} \\frac{d^{2}}{d s^{2}}  \\phi{\\left (s \\right )} + y_{0} \\frac{d^{3}}{d s^{3}}  u{\\left (s \\right )}\\right) + k_{{\\phi\\phi}} \\phi{\\left (s \\right )} + k_{{u\\phi}} u{\\left (s \\right )} + t y_{0} \\phi{\\left (s \\right )} - \\operatorname{m_{\\phi}}{\\left (s \\right )} = 0$$"
      ],
      "text/plain": [
       "      ⎛  2             ⎞        ⎛              4      ⎞      ⎛              2 \n",
       "      ⎜ d          φ(s)⎟        ⎜             d       ⎟      ⎜             d  \n",
       "  EI₂⋅⎜───(u(s)) - ────⎟        ⎜            ───(u(s))⎟      ⎜            ───(\n",
       "      ⎜  2          R  ⎟        ⎜  4           4      ⎟      ⎜  2           2 \n",
       "      ⎝ds              ⎠        ⎜ d          ds       ⎟      ⎜ d          ds  \n",
       "- ────────────────────── + EI_w⋅⎜───(φ(s)) + ─────────⎟ - GJ⋅⎜───(φ(s)) + ────\n",
       "            R                   ⎜  4             R    ⎟      ⎜  2             \n",
       "                                ⎝ds                   ⎠      ⎝ds              \n",
       "\n",
       "     ⎞       ⎛                     ⎛              2      ⎞                    \n",
       "     ⎟       ⎜                     ⎜             d       ⎟                    \n",
       "u(s))⎟       ⎜                     ⎜            ───(u(s))⎟                    \n",
       "     ⎟       ⎜      2              ⎜  2           2      ⎟         2          \n",
       "     ⎟       ⎜  2  d             2 ⎜ d          ds       ⎟     2  d           \n",
       "─────⎟ + R⋅t⋅⎜rₓ ⋅───(φ(s)) + r_y ⋅⎜───(φ(s)) - ─────────⎟ + y₀ ⋅───(φ(s)) + y\n",
       "R    ⎟       ⎜      2              ⎜  2             R    ⎟         2          \n",
       "     ⎠       ⎝    ds               ⎝ds                   ⎠       ds           \n",
       "\n",
       "           ⎞                                                             \n",
       "           ⎟                                                             \n",
       "           ⎟                                                             \n",
       "    3      ⎟                                                             \n",
       "   d       ⎟                                                             \n",
       "₀⋅───(u(s))⎟ + k_{\\phi\\phi}⋅φ(s) + k_{u\\phi}⋅u(s) + t⋅y₀⋅φ(s) - mᵩ(s) = 0\n",
       "    3      ⎟                                                             \n",
       "  ds       ⎠                                                             "
      ]
     },
     "metadata": {},
     "output_type": "display_data"
    }
   ],
   "source": [
    "# Simplifying assumptions\n",
    "sub_rxry = [(rx, 0), (ry, 0), (y0, 0)]\n",
    "sub_y0 = [(y0, 0)]\n",
    "sub_r2 = [(rx**2, 0), (ry**2, 0), (y0**2, 0)]\n",
    "sub_vw = [(k_uv, 0), (k_uw, 0), (k_vp, 0), (k_wp, 0)]\n",
    "sub_phi = [(k_up, 0), (k_pp, 0)]\n",
    "sub_nowarp = [(EIw, 0)]\n",
    "\n",
    "display('Lateral-torsional')\n",
    "display(equil_eqns[2].subs(sub_vw))\n",
    "display(equil_eqns[3].subs(sub_vw))"
   ]
  },
  {
   "cell_type": "code",
   "execution_count": 9,
   "metadata": {},
   "outputs": [
    {
     "data": {
      "image/png": "[encoded data removed]",
      "text/latex": [
       "$$- d^{6} \\left(-1 + \\frac{R t}{GJ} r_{x}^{2} + \\frac{R t}{GJ} r_{y}^{2} + \\frac{R t}{GJ} y_{0}^{2}\\right) - d^{4} \\left(-2 + \\frac{R^{2} k_{{\\phi\\phi}}}{GJ} + \\frac{t y_{0}}{GJ} R^{2} - \\frac{2 t}{GJ} R r_{y}^{2} - \\frac{R^{3} t}{EI_{2}} - \\frac{R t}{EI_{2}} r_{x}^{2} - \\frac{4 t}{EI_{2}} R r_{y}^{2} - \\frac{R t}{EI_{2}} y_{0}^{2} + \\frac{R^{4} r_{x}^{2} t^{2}}{EI_{2} GJ} + \\frac{R^{4} r_{y}^{2} t^{2}}{EI_{2} GJ} + \\frac{R^{4} t^{2} y_{0}^{2}}{EI_{2} GJ} + \\frac{R^{2} r_{x}^{2} r_{y}^{2} t^{2}}{EI_{2} GJ} + \\frac{R^{2} r_{y}^{2} t^{2} y_{0}^{2}}{EI_{2} GJ}\\right) - d^{2} \\left(-1 + \\frac{2 k_{{u\\phi}}}{GJ} R^{3} + \\frac{R^{3} t}{GJ} + \\frac{R t}{GJ} r_{y}^{2} - \\frac{R^{4} k_{uu}}{EI_{2}} + \\frac{2 k_{{u\\phi}}}{EI_{2}} R^{3} - \\frac{R^{2} k_{{\\phi\\phi}}}{EI_{2}} - \\frac{t y_{0}}{EI_{2}} R^{2} + \\frac{R^{5} k_{uu} r_{x}^{2} t}{EI_{2} GJ} + \\frac{R^{5} k_{uu} r_{y}^{2} t}{EI_{2} GJ} + \\frac{R^{5} k_{uu} t y_{0}^{2}}{EI_{2} GJ} + \\frac{R^{5} k_{{\\phi\\phi}} t}{EI_{2} GJ} + \\frac{R^{5} t^{2} y_{0}}{EI_{2} GJ} + \\frac{2 R^{4} k_{{u\\phi}} t}{EI_{2} GJ} r_{y}^{2} + \\frac{R^{3} k_{{\\phi\\phi}} r_{y}^{2} t}{EI_{2} GJ} + \\frac{R^{3} r_{y}^{2} t^{2} y_{0}}{EI_{2} GJ}\\right) - \\frac{R^{4} k_{uu}}{GJ} - \\frac{R^{8} p^{6} t^{2} y_{0}^{2}}{EI_{2} GJ} - \\frac{R^{6} k_{uu} k_{{\\phi\\phi}}}{EI_{2} GJ} - \\frac{R^{6} k_{uu} t y_{0}}{EI_{2} GJ} + \\frac{R^{6} k_{{u\\phi}}^{2}}{EI_{2} GJ}$$"
      ],
      "text/plain": [
       "     ⎛         2          2           2⎞      ⎛      2                 2      \n",
       "   6 ⎜     R⋅rₓ ⋅t   R⋅r_y ⋅t   R⋅t⋅y₀ ⎟    4 ⎜     R ⋅k_{\\phi\\phi}   R ⋅t⋅y₀ \n",
       "- d ⋅⎜-1 + ─────── + ──────── + ───────⎟ - d ⋅⎜-2 + ─────────────── + ─────── \n",
       "     ⎝        GJ        GJ         GJ  ⎠      ⎝            GJ            GJ   \n",
       "\n",
       "         2      3         2            2           2    4   2  2    4    2  2 \n",
       "  2⋅R⋅r_y ⋅t   R ⋅t   R⋅rₓ ⋅t   4⋅R⋅r_y ⋅t   R⋅t⋅y₀    R ⋅rₓ ⋅t    R ⋅r_y ⋅t  \n",
       "- ────────── - ──── - ─────── - ────────── - ─────── + ───────── + ────────── \n",
       "      GJ       EI₂      EI₂        EI₂         EI₂       EI₂⋅GJ      EI₂⋅GJ   \n",
       "\n",
       "   4  2   2    2   2    2  2    2    2  2   2⎞      ⎛        3              3 \n",
       "  R ⋅t ⋅y₀    R ⋅rₓ ⋅r_y ⋅t    R ⋅r_y ⋅t ⋅y₀ ⎟    2 ⎜     2⋅R ⋅k_{u\\phi}   R ⋅\n",
       "+ ───────── + ────────────── + ──────────────⎟ - d ⋅⎜-1 + ────────────── + ───\n",
       "    EI₂⋅GJ        EI₂⋅GJ           EI₂⋅GJ    ⎠      ⎝           GJ          GJ\n",
       "\n",
       "         2      4          3              2                 2         5       \n",
       "t   R⋅r_y ⋅t   R ⋅kᵤᵤ   2⋅R ⋅k_{u\\phi}   R ⋅k_{\\phi\\phi}   R ⋅t⋅y₀   R ⋅kᵤᵤ⋅rₓ\n",
       "─ + ──────── - ────── + ────────────── - ─────────────── - ─────── + ─────────\n",
       "       GJ       EI₂          EI₂               EI₂           EI₂        EI₂⋅GJ\n",
       "\n",
       "2      5        2      5         2    5                   5  2         4      \n",
       " ⋅t   R ⋅kᵤᵤ⋅r_y ⋅t   R ⋅kᵤᵤ⋅t⋅y₀    R ⋅k_{\\phi\\phi}⋅t   R ⋅t ⋅y₀   2⋅R ⋅k_{u\\\n",
       "─── + ───────────── + ──────────── + ───────────────── + ──────── + ──────────\n",
       "          EI₂⋅GJ         EI₂⋅GJ            EI₂⋅GJ         EI₂⋅GJ            EI\n",
       "\n",
       "        2      3                 2      3    2  2   ⎞    4        8  6  2   2 \n",
       "phi}⋅r_y ⋅t   R ⋅k_{\\phi\\phi}⋅r_y ⋅t   R ⋅r_y ⋅t ⋅y₀⎟   R ⋅kᵤᵤ   R ⋅p ⋅t ⋅y₀  \n",
       "─────────── + ────────────────────── + ─────────────⎟ - ────── - ──────────── \n",
       "₂⋅GJ                  EI₂⋅GJ               EI₂⋅GJ   ⎠     GJ        EI₂⋅GJ    \n",
       "\n",
       "   6                     6             6          2\n",
       "  R ⋅kᵤᵤ⋅k_{\\phi\\phi}   R ⋅kᵤᵤ⋅t⋅y₀   R ⋅k_{u\\phi} \n",
       "- ─────────────────── - ─────────── + ─────────────\n",
       "         EI₂⋅GJ            EI₂⋅GJ         EI₂⋅GJ   "
      ]
     },
     "metadata": {},
     "output_type": "display_data"
    }
   ],
   "source": [
    "# Convert d/ds to d/dtheta\n",
    "d = symbols('d', real=True)\n",
    "sub_d = [(p**n, d**n/R**n) for n in [0, 2, 4, 6]]\n",
    "\n",
    "eq = (R**6 * (M[2, 2]*M[3, 3] - M[2, 3]*M[3, 2])).subs(sub_d)/(EI2*GJ)\n",
    "\n",
    "display(-eq.expand().collect(d).subs(sub_nowarp + sub_vw))"
   ]
  },
  {
   "cell_type": "code",
   "execution_count": 10,
   "metadata": {},
   "outputs": [
    {
     "data": {
      "image/png": "[encoded data removed]",
      "text/latex": [
       "$$d^{6} - d^{4} \\left(-2 + \\frac{R^{2} k_{{\\phi\\phi}}}{GJ} + \\frac{t y_{0}}{GJ} R^{2} - \\frac{R^{3} t}{EI_{2}}\\right) - d^{2} \\left(-1 + \\frac{2 k_{{u\\phi}}}{GJ} R^{3} + \\frac{R^{3} t}{GJ} - \\frac{R^{4} k_{uu}}{EI_{2}} + \\frac{2 k_{{u\\phi}}}{EI_{2}} R^{3} - \\frac{R^{2} k_{{\\phi\\phi}}}{EI_{2}} - \\frac{t y_{0}}{EI_{2}} R^{2} + \\frac{R^{5} k_{{\\phi\\phi}} t}{EI_{2} GJ} + \\frac{R^{5} t^{2} y_{0}}{EI_{2} GJ}\\right) - \\frac{R^{4} k_{uu}}{GJ} - \\frac{R^{6} k_{uu} k_{{\\phi\\phi}}}{EI_{2} GJ} - \\frac{R^{6} k_{uu} t y_{0}}{EI_{2} GJ} + \\frac{R^{6} k_{{u\\phi}}^{2}}{EI_{2} GJ}$$"
      ],
      "text/plain": [
       "        ⎛      2                 2         3  ⎞      ⎛        3              3\n",
       " 6    4 ⎜     R ⋅k_{\\phi\\phi}   R ⋅t⋅y₀   R ⋅t⎟    2 ⎜     2⋅R ⋅k_{u\\phi}   R \n",
       "d  - d ⋅⎜-2 + ─────────────── + ─────── - ────⎟ - d ⋅⎜-1 + ────────────── + ──\n",
       "        ⎝            GJ            GJ     EI₂ ⎠      ⎝           GJ          G\n",
       "\n",
       "      4          3              2                 2         5                 \n",
       "⋅t   R ⋅kᵤᵤ   2⋅R ⋅k_{u\\phi}   R ⋅k_{\\phi\\phi}   R ⋅t⋅y₀   R ⋅k_{\\phi\\phi}⋅t  \n",
       "── - ────── + ────────────── - ─────────────── - ─────── + ───────────────── +\n",
       "J     EI₂          EI₂               EI₂           EI₂           EI₂⋅GJ       \n",
       "\n",
       "  5  2   ⎞    4        6                     6             6          2\n",
       " R ⋅t ⋅y₀⎟   R ⋅kᵤᵤ   R ⋅kᵤᵤ⋅k_{\\phi\\phi}   R ⋅kᵤᵤ⋅t⋅y₀   R ⋅k_{u\\phi} \n",
       " ────────⎟ - ────── - ─────────────────── - ─────────── + ─────────────\n",
       "  EI₂⋅GJ ⎠     GJ            EI₂⋅GJ            EI₂⋅GJ         EI₂⋅GJ   "
      ]
     },
     "execution_count": 10,
     "metadata": {},
     "output_type": "execute_result"
    }
   ],
   "source": [
    "eq = (R**6 * (M[2, 2]*M[3, 3] - M[2, 3]*M[3, 2])).subs(sub_d)/(EI2*GJ)\n",
    "\n",
    "-eq.expand().collect(d).subs(sub_nowarp + sub_vw + sub_r2)"
   ]
  },
  {
   "cell_type": "markdown",
   "metadata": {},
   "source": [
    "# Radial-Tangential"
   ]
  },
  {
   "cell_type": "code",
   "execution_count": 11,
   "metadata": {},
   "outputs": [
    {
     "data": {
      "image/png": "[encoded data removed]",
      "text/latex": [
       "$$EA y_{0} \\left(y_{0} \\left(\\frac{d^{4}}{d s^{4}}  v{\\left (s \\right )} + \\frac{1}{R} \\frac{d^{3}}{d s^{3}}  w{\\left (s \\right )}\\right) + \\frac{d^{3}}{d s^{3}}  w{\\left (s \\right )} - \\frac{1}{R} \\frac{d^{2}}{d s^{2}}  v{\\left (s \\right )}\\right) - \\frac{EA}{R} \\left(y_{0} \\left(\\frac{d^{2}}{d s^{2}}  v{\\left (s \\right )} + \\frac{1}{R} \\frac{d}{d s} w{\\left (s \\right )}\\right) + \\frac{d}{d s} w{\\left (s \\right )} - \\frac{1}{R} v{\\left (s \\right )}\\right) + EI_{1} \\left(\\frac{d^{4}}{d s^{4}}  v{\\left (s \\right )} + \\frac{1}{R} \\frac{d^{3}}{d s^{3}}  w{\\left (s \\right )}\\right) + k_{vv} v{\\left (s \\right )} - \\operatorname{f_{v}}{\\left (s \\right )} = 0$$"
      ],
      "text/plain": [
       "                                                                ⎛   ⎛         \n",
       "      ⎛   ⎛              3      ⎞                 2      ⎞      ⎜   ⎜  2      \n",
       "      ⎜   ⎜             d       ⎟                d       ⎟      ⎜   ⎜ d       \n",
       "      ⎜   ⎜            ───(w(s))⎟               ───(v(s))⎟   EA⋅⎜y₀⋅⎜───(v(s))\n",
       "      ⎜   ⎜  4           3      ⎟     3           2      ⎟      ⎜   ⎜  2      \n",
       "      ⎜   ⎜ d          ds       ⎟    d          ds       ⎟      ⎝   ⎝ds       \n",
       "EA⋅y₀⋅⎜y₀⋅⎜───(v(s)) + ─────────⎟ + ───(w(s)) - ─────────⎟ - ─────────────────\n",
       "      ⎜   ⎜  4             R    ⎟     3             R    ⎟                    \n",
       "      ⎝   ⎝ds                   ⎠   ds                   ⎠                    \n",
       "\n",
       "   d       ⎞                  ⎞                                               \n",
       "   ──(w(s))⎟                  ⎟       ⎛              3      ⎞                 \n",
       "   ds      ⎟   d          v(s)⎟       ⎜             d       ⎟                 \n",
       " + ────────⎟ + ──(w(s)) - ────⎟       ⎜            ───(w(s))⎟                 \n",
       "      R    ⎟   ds          R  ⎟       ⎜  4           3      ⎟                 \n",
       "           ⎠                  ⎠       ⎜ d          ds       ⎟                 \n",
       "─────────────────────────────── + EI₁⋅⎜───(v(s)) + ─────────⎟ + kᵥᵥ⋅v(s) - fᵥ(\n",
       "      R                               ⎜  4             R    ⎟                 \n",
       "                                      ⎝ds                   ⎠                 \n",
       "\n",
       "      \n",
       "      \n",
       "      \n",
       "      \n",
       "      \n",
       "      \n",
       "s) = 0\n",
       "      \n",
       "      "
      ]
     },
     "metadata": {},
     "output_type": "display_data"
    },
    {
     "data": {
      "image/png": "[encoded data removed]",
      "text/latex": [
       "$$- EA \\left(1 + \\frac{y_{0}}{R}\\right) \\left(y_{0} \\left(\\frac{d^{3}}{d s^{3}}  v{\\left (s \\right )} + \\frac{1}{R} \\frac{d^{2}}{d s^{2}}  w{\\left (s \\right )}\\right) + \\frac{d^{2}}{d s^{2}}  w{\\left (s \\right )} - \\frac{1}{R} \\frac{d}{d s} v{\\left (s \\right )}\\right) - \\frac{EI_{1}}{R} \\left(\\frac{d^{3}}{d s^{3}}  v{\\left (s \\right )} + \\frac{1}{R} \\frac{d^{2}}{d s^{2}}  w{\\left (s \\right )}\\right) + k_{ww} w{\\left (s \\right )} - \\operatorname{f_{w}}{\\left (s \\right )} = 0$$"
      ],
      "text/plain": [
       "                                                                        ⎛     \n",
       "                                                                        ⎜     \n",
       "                                                                        ⎜     \n",
       "              ⎛   ⎛              2      ⎞                       ⎞       ⎜  3  \n",
       "              ⎜   ⎜             d       ⎟                       ⎟       ⎜ d   \n",
       "              ⎜   ⎜            ───(w(s))⎟               d       ⎟   EI₁⋅⎜───(v\n",
       "              ⎜   ⎜  3           2      ⎟     2         ──(v(s))⎟       ⎜  3  \n",
       "     ⎛    y₀⎞ ⎜   ⎜ d          ds       ⎟    d          ds      ⎟       ⎝ds   \n",
       "- EA⋅⎜1 + ──⎟⋅⎜y₀⋅⎜───(v(s)) + ─────────⎟ + ───(w(s)) - ────────⎟ - ──────────\n",
       "     ⎝    R ⎠ ⎜   ⎜  3             R    ⎟     2            R    ⎟             \n",
       "              ⎝   ⎝ds                   ⎠   ds                  ⎠             \n",
       "\n",
       "         2      ⎞                         \n",
       "        d       ⎟                         \n",
       "       ───(w(s))⎟                         \n",
       "         2      ⎟                         \n",
       "       ds       ⎟                         \n",
       "(s)) + ─────────⎟                         \n",
       "           R    ⎟                         \n",
       "                ⎠                         \n",
       "───────────────── + k_ww⋅w(s) - f_w(s) = 0\n",
       "   R                                      \n",
       "                                          "
      ]
     },
     "metadata": {},
     "output_type": "display_data"
    }
   ],
   "source": [
    "display(equil_eqns[0].subs(sub_ij).subs(k_vw, 0))\n",
    "display(equil_eqns[1].subs(sub_ij).subs(k_vw, 0))"
   ]
  },
  {
   "cell_type": "code",
   "execution_count": 12,
   "metadata": {},
   "outputs": [
    {
     "data": {
      "image/png": "[encoded data removed]",
      "text/latex": [
       "$$p^{6} + p^{4} \\left(\\frac{2}{R^{2}} - \\frac{k_{ww} y_{0}^{2}}{EI_{1}} - \\frac{k_{ww}}{EA}\\right) + p^{2} \\left(\\frac{1}{R^{4}} + \\frac{k_{vv}}{EI_{1}} + \\frac{2 k_{vv} y_{0}}{EI_{1} R} + \\frac{2 k_{ww} y_{0}}{EI_{1} R} + \\frac{k_{vv} y_{0}^{2}}{EI_{1} R^{2}} + \\frac{k_{vv}}{EA R^{2}}\\right) - \\frac{k_{ww}}{EI_{1} R^{2}} - \\frac{k_{vv} k_{ww}}{EA EI_{1}}$$"
      ],
      "text/plain": [
       "        ⎛            2       ⎞      ⎛                                        2\n",
       " 6    4 ⎜2    k_ww⋅y₀    k_ww⎟    2 ⎜1    kᵥᵥ   2⋅kᵥᵥ⋅y₀   2⋅k_ww⋅y₀   kᵥᵥ⋅y₀ \n",
       "p  + p ⋅⎜── - ──────── - ────⎟ + p ⋅⎜── + ─── + ──────── + ───────── + ───────\n",
       "        ⎜ 2     EI₁       EA ⎟      ⎜ 4   EI₁    EI₁⋅R       EI₁⋅R           2\n",
       "        ⎝R                   ⎠      ⎝R                                  EI₁⋅R \n",
       "\n",
       "        ⎞                    \n",
       "    kᵥᵥ ⎟    k_ww    kᵥᵥ⋅k_ww\n",
       " + ─────⎟ - ────── - ────────\n",
       "       2⎟        2    EA⋅EI₁ \n",
       "   EA⋅R ⎠   EI₁⋅R            "
      ]
     },
     "execution_count": 12,
     "metadata": {},
     "output_type": "execute_result"
    }
   ],
   "source": [
    "eq = (M[0, 0]*M[1, 1] - M[0, 1]*M[1, 0]).subs(sub_ij).subs(k_vw, 0)\n",
    "\n",
    "(-eq/(EA*EI1)).simplify().expand().collect(p)"
   ]
  },
  {
   "cell_type": "code",
   "execution_count": 13,
   "metadata": {},
   "outputs": [
    {
     "data": {
      "image/png": "[encoded data removed]",
      "text/latex": [
       "$$- \\frac{EA}{R} \\left(\\frac{d}{d s} w{\\left (s \\right )} - \\frac{1}{R} v{\\left (s \\right )}\\right) + EI_{1} \\left(\\frac{d^{4}}{d s^{4}}  v{\\left (s \\right )} + \\frac{1}{R} \\frac{d^{3}}{d s^{3}}  w{\\left (s \\right )}\\right) + k_{vv} v{\\left (s \\right )} + k_{vw} w{\\left (s \\right )} - \\operatorname{f_{v}}{\\left (s \\right )} = 0$$"
      ],
      "text/plain": [
       "                             ⎛              3      ⎞                          \n",
       "                             ⎜             d       ⎟                          \n",
       "     ⎛d          v(s)⎞       ⎜            ───(w(s))⎟                          \n",
       "  EA⋅⎜──(w(s)) - ────⎟       ⎜  4           3      ⎟                          \n",
       "     ⎝ds          R  ⎠       ⎜ d          ds       ⎟                          \n",
       "- ──────────────────── + EI₁⋅⎜───(v(s)) + ─────────⎟ + kᵥᵥ⋅v(s) + k_vw⋅w(s) - \n",
       "           R                 ⎜  4             R    ⎟                          \n",
       "                             ⎝ds                   ⎠                          \n",
       "\n",
       "         \n",
       "         \n",
       "         \n",
       "         \n",
       "         \n",
       "fᵥ(s) = 0\n",
       "         \n",
       "         "
      ]
     },
     "metadata": {},
     "output_type": "display_data"
    },
    {
     "data": {
      "image/png": "[encoded data removed]",
      "text/latex": [
       "$$- EA \\left(\\frac{d^{2}}{d s^{2}}  w{\\left (s \\right )} - \\frac{1}{R} \\frac{d}{d s} v{\\left (s \\right )}\\right) - \\frac{EI_{1}}{R} \\left(\\frac{d^{3}}{d s^{3}}  v{\\left (s \\right )} + \\frac{1}{R} \\frac{d^{2}}{d s^{2}}  w{\\left (s \\right )}\\right) + k_{vw} v{\\left (s \\right )} + k_{ww} w{\\left (s \\right )} - \\operatorname{f_{w}}{\\left (s \\right )} = 0$$"
      ],
      "text/plain": [
       "                                  ⎛              2      ⎞                     \n",
       "                                  ⎜             d       ⎟                     \n",
       "                                  ⎜            ───(w(s))⎟                     \n",
       "                                  ⎜  3           2      ⎟                     \n",
       "                                  ⎜ d          ds       ⎟                     \n",
       "     ⎛            d       ⎞   EI₁⋅⎜───(v(s)) + ─────────⎟                     \n",
       "     ⎜  2         ──(v(s))⎟       ⎜  3             R    ⎟                     \n",
       "     ⎜ d          ds      ⎟       ⎝ds                   ⎠                     \n",
       "- EA⋅⎜───(w(s)) - ────────⎟ - ─────────────────────────── + k_vw⋅v(s) + k_ww⋅w\n",
       "     ⎜  2            R    ⎟                R                                  \n",
       "     ⎝ds                  ⎠                                                   \n",
       "\n",
       "                \n",
       "                \n",
       "                \n",
       "                \n",
       "                \n",
       "                \n",
       "                \n",
       "                \n",
       "(s) - f_w(s) = 0\n",
       "                \n",
       "                "
      ]
     },
     "metadata": {},
     "output_type": "display_data"
    }
   ],
   "source": [
    "sub_up = [(k_vp, 0), (k_wp, 0)]\n",
    "sub_R = [(rx, 0), (ry, 0), (y0, 0), (k_uv, 0), (k_uw, 0)]\n",
    "\n",
    "sub_list = sub_R + sub_up\n",
    "\n",
    "eq_v = equil_eqns[0].subs(sub_list)\n",
    "eq_w = equil_eqns[1].subs(sub_list)\n",
    "\n",
    "display(eq_v)\n",
    "display(eq_w)"
   ]
  },
  {
   "cell_type": "code",
   "execution_count": 14,
   "metadata": {},
   "outputs": [
    {
     "data": {
      "image/png": "[encoded data removed]",
      "text/latex": [
       "$$EI_{1} R \\frac{d^{6}}{d s^{6}}  v{\\left (s \\right )} + \\frac{2 EI_{1}}{R} \\frac{d^{4}}{d s^{4}}  v{\\left (s \\right )} + \\frac{EI_{1}}{R^{2}} \\frac{\\partial}{\\partial s}\\left(\\frac{1}{R} \\frac{d}{d s} v{\\left (s \\right )}\\right) + R k_{vv} \\frac{d^{2}}{d s^{2}}  v{\\left (s \\right )} - R \\frac{d^{2}}{d s^{2}}  \\operatorname{f_{v}}{\\left (s \\right )} + \\frac{d}{d s} \\operatorname{f_{w}}{\\left (s \\right )} - \\frac{k_{ww}}{R} v{\\left (s \\right )}$$"
      ],
      "text/plain": [
       "                          4               ⎛d       ⎞                          \n",
       "                         d                ⎜──(v(s))⎟                          \n",
       "                  2⋅EI₁⋅───(v(s))       ∂ ⎜ds      ⎟                          \n",
       "        6                 4         EI₁⋅──⎜────────⎟           2             2\n",
       "       d                ds              ∂s⎝   R    ⎠          d             d \n",
       "EI₁⋅R⋅───(v(s)) + ─────────────── + ──────────────── + R⋅kᵥᵥ⋅───(v(s)) - R⋅───\n",
       "        6                R                  2                  2             2\n",
       "      ds                                   R                 ds            ds \n",
       "\n",
       "                                \n",
       "                                \n",
       "                                \n",
       "                                \n",
       "          d            k_ww⋅v(s)\n",
       "(fᵥ(s)) + ──(f_w(s)) - ─────────\n",
       "          ds               R    \n",
       "                                "
      ]
     },
     "execution_count": 14,
     "metadata": {},
     "output_type": "execute_result"
    }
   ],
   "source": [
    "# Combine w and w equations to eliminate EA terms\n",
    "eq_rad = ((eq_v.lhs.diff(s)*R - eq_w.lhs).simplify()).diff(s)\n",
    "\n",
    "# Inextensibility criterion: w' = v/R\n",
    "w_d = v(s)/R\n",
    "\n",
    "sub_new = [(w(s).diff(s, 5), v(s).diff(s, 4)/R),\n",
    "           (w(s).diff(s, 2), v(s).diff(s)/R),\n",
    "           (w(s).diff(s), v(s)/R)]\n",
    "\n",
    "eq_rad.subs(sub_new)"
   ]
  },
  {
   "cell_type": "code",
   "execution_count": null,
   "metadata": {},
   "outputs": [],
   "source": []
  }
 ],
 "metadata": {
  "anaconda-cloud": {},
  "kernelspec": {
   "display_name": "Python 2",
   "language": "python",
   "name": "python2"
  },
  "language_info": {
   "codemirror_mode": {
    "name": "ipython",
    "version": 2
   },
   "file_extension": ".py",
   "mimetype": "text/x-python",
   "name": "python",
   "nbconvert_exporter": "python",
   "pygments_lexer": "ipython2",
   "version": "2.7.13"
  }
 },
 "nbformat": 4,
 "nbformat_minor": 1
}
