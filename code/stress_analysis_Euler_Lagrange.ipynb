{
 "cells": [
  {
   "cell_type": "code",
   "execution_count": null,
   "metadata": {},
   "outputs": [],
   "source": [
    "import numpy as np\n",
    "from sympy import *\n",
    "from bikewheelcalc import BicycleWheel\n",
    "from IPython.display import display\n",
    "\n",
    "init_printing()"
   ]
  },
  {
   "cell_type": "markdown",
   "metadata": {},
   "source": [
    "## Coordinate system\n",
    "\n",
    "Cross-section of the rim at $\\theta=0$ (bottom of the wheel).\n",
    "\n",
    "$e_1, u$ lateral vector (points outwards from the drive side)\n",
    "\n",
    "$e_2, v$ radial inward vector\n",
    "\n",
    "$e_3, w$ axial vector normal to rim cross-section (CCW)\n",
    "\n",
    "### Things I like about this coordinate system\n",
    "\n",
    "- Right-handed coordinate system\n",
    "- u and phi have the same sign for a gyration of a rim cross-section about the wheel center\n",
    "\n",
    "### Things I don't like about this coordinate system\n",
    "\n",
    "- vw, and u-phi coupling are not adjacent\n",
    "- positive u towards left side of the bike"
   ]
  },
  {
   "cell_type": "code",
   "execution_count": null,
   "metadata": {},
   "outputs": [],
   "source": [
    "# setup symbols\n",
    "s = symbols('s', real=true)\n",
    "\n",
    "# deformation\n",
    "u = Function('u')\n",
    "v = Function('v')\n",
    "w = Function('w')\n",
    "phi = Function('phi')\n",
    "\n",
    "# Distributed loading functions\n",
    "fu = Function('f_u')\n",
    "fv = Function('f_v')\n",
    "fw = Function('f_w')\n",
    "m = Function('m_phi')\n",
    "\n",
    "# rim properties\n",
    "R, EA, EI1, EI2, GJ, EIw, mu, rx, ry, y0, r0 = symbols('R EA EI_1 EI_2 GJ EI_w mu r_x r_y y_0, r_0',\n",
    "                                                   real=true, finite=true,\n",
    "                                                   positive=true)\n",
    "\n",
    "t = symbols('t', real=true)  # Average net radial pull per unit length\n",
    "\n",
    "# spoke properties\n",
    "ns = symbols('n_s', integer=true, positive=true)\n",
    "T, EA, ls, alpha = symbols('T, EA, l, alpha', real=true, positive=true)\n",
    "k_uu, k_vv, k_ww, k_pp = symbols('k_uu k_vv k_ww, k_{\\phi\\phi}', real=true)\n",
    "k_uv, k_uw, k_up, k_vw, k_vp, k_wp = symbols('k_uv k_uw k_{u\\phi} k_vw k_{v\\phi} k_{w\\phi}', real=true)\n",
    "\n",
    "sub_no_k = [(k_uu, 0), (k_vv, 0), (k_ww, 0), (k_pp, 0),\n",
    "            (k_uv, 0), (k_uw, 0), (k_up, 0), (k_vw, 0), (k_vp, 0), (k_wp, 0)]\n",
    "\n",
    "# No coupling terms between v-w and u-phi\n",
    "sub_ij = [(k_uv, 0), (k_uw, 0), (k_vp, 0), (k_wp, 0)]"
   ]
  },
  {
   "cell_type": "code",
   "execution_count": null,
   "metadata": {},
   "outputs": [],
   "source": [
    "# curvatures\n",
    "k_1 = v(s).diff(s, 2) + w(s).diff(s)/R\n",
    "k_2 = u(s).diff(s, 2) + phi(s)/R\n",
    "k_3 = phi(s).diff(s) - u(s).diff(s)/R\n",
    "e_mem = w(s).diff(s) - v(s)/R + y0*(v(s).diff(s, 2) + w(s).diff(s)/R)\n",
    "\n",
    "display(k_1)\n",
    "display(k_2)\n",
    "display(k_3)\n",
    "display(e_mem)"
   ]
  },
  {
   "cell_type": "code",
   "execution_count": null,
   "metadata": {},
   "outputs": [],
   "source": [
    "U_rim = (EI1*k_1**2 + EI2*k_2**2 + GJ*k_3**2 + EIw*(k_3.diff(s))**2)/2 + EA*e_mem**2/2\n",
    "\n",
    "U_spokes = (k_uu*u(s)**2 + 2*k_uv*u(s)*v(s) + 2*k_uw*u(s)*w(s) + 2*k_up*u(s)*phi(s) +\n",
    "            k_vv*v(s)**2 + 2*k_vw*v(s)*w(s) + 2*k_vp*v(s)*phi(s) +\n",
    "            k_ww*w(s)**2 + 2*k_wp*w(s)*phi(s) +\n",
    "            k_pp*phi(s)**2)/2\n",
    "\n",
    "V_rim = fu(s)*u(s) + fv(s)*v(s) + fw(s)*w(s) + m(s)*phi(s) +\\\n",
    "    R*t*(u(s).diff(s)**2 + (r0**2)*(phi(s).diff(s) - u(s).diff(s)/R)**2 +\n",
    "         y0*(2*u(s).diff(s)*phi(s).diff(s) - phi(s)**2/R))/2\n",
    "\n",
    "equil_eqns = euler_equations(U_rim + U_spokes - V_rim, (v(s), w(s), u(s), phi(s)), s)"
   ]
  },
  {
   "cell_type": "code",
   "execution_count": null,
   "metadata": {},
   "outputs": [],
   "source": [
    "display(equil_eqns[0])\n",
    "display(equil_eqns[1])\n",
    "display(equil_eqns[2])\n",
    "display(equil_eqns[3])"
   ]
  },
  {
   "cell_type": "code",
   "execution_count": null,
   "metadata": {
    "scrolled": false
   },
   "outputs": [],
   "source": [
    "# Simplifying assumptions\n",
    "sub_R = [(rx, 0), (ry, 0), (y0, 0)]\n",
    "sub_vw = [(k_uv, 0), (k_uw, 0), (k_vp, 0), (k_wp, 0)]\n",
    "sub_phi = [(k_up, 0), (k_pp, 0)]\n",
    "sub_nowarp = [(EIw, 0)]\n",
    "\n",
    "sym_vars = [v(s), w(s), u(s), phi(s)]\n",
    "p = symbols('p')\n",
    "\n",
    "# equil_eqns_simp = [e.subs(sub_R) for e in equil_eqns]\n",
    "\n",
    "M = zeros(4)\n",
    "for eq in range(4):\n",
    "    for var in range(4):\n",
    "        for o in range(10, -1, -1):\n",
    "            M[eq, var] = M[eq, var] + equil_eqns[eq].lhs.expand().coeff(Derivative(sym_vars[var], s, o)) * p**o\n",
    "\n",
    "display(M[[0, 1], [0, 1]].subs(t, 0))\n",
    "display(M[2:, 2:].subs(t, 0))\n",
    "display(M[2:, 2:].subs([(EI2, 0), (GJ, 0), (EIw, 0), (k_uu, 0), (k_pp, 0)]))"
   ]
  },
  {
   "cell_type": "code",
   "execution_count": null,
   "metadata": {
    "scrolled": true
   },
   "outputs": [],
   "source": [
    "if False:\n",
    "    M_det = M.det()\n",
    "    display(collect(M_det.expand(), p))"
   ]
  },
  {
   "cell_type": "markdown",
   "metadata": {},
   "source": [
    "# Lateral-torsional"
   ]
  },
  {
   "cell_type": "code",
   "execution_count": null,
   "metadata": {},
   "outputs": [],
   "source": [
    "# Simplifying assumptions\n",
    "sub_rxry = [(rx, 0), (ry, 0), (y0, 0)]\n",
    "sub_y0 = [(y0, 0)]\n",
    "sub_r2 = [(r0**2, 0), (y0**2, 0)]\n",
    "sub_vw = [(k_uv, 0), (k_uw, 0), (k_vp, 0), (k_wp, 0)]\n",
    "sub_phi = [(k_up, 0), (k_pp, 0)]\n",
    "sub_nowarp = [(EIw, 0)]\n",
    "\n",
    "display('Lateral-torsional')\n",
    "display(equil_eqns[2].subs(sub_vw))\n",
    "display(equil_eqns[3].subs(sub_vw))"
   ]
  },
  {
   "cell_type": "code",
   "execution_count": null,
   "metadata": {},
   "outputs": [],
   "source": [
    "# Convert d/ds to d/dtheta\n",
    "d = symbols('d', real=True)\n",
    "sub_d = [(p**n, d**n/R**n) for n in [0, 2, 4, 6]]\n",
    "\n",
    "eq = (R**6 * (M[2, 2]*M[3, 3] - M[2, 3]*M[3, 2])).subs(sub_d)/(EI2*GJ)\n",
    "\n",
    "display(-eq.expand().collect(d).subs(sub_nowarp + sub_vw).subs([(t, t*EI2/R**3), (EI2, 1), (GJ, mu)]))"
   ]
  },
  {
   "cell_type": "code",
   "execution_count": null,
   "metadata": {},
   "outputs": [],
   "source": [
    "eq = (R**6 * (M[2, 2]*M[3, 3] - M[2, 3]*M[3, 2])).subs(sub_d)/(EI2*GJ)\n",
    "\n",
    "-eq.expand().collect(d).subs(sub_nowarp + sub_vw + sub_r2).subs([(t, t*EI2/R**3), (EI2, 1), (GJ, mu)])"
   ]
  },
  {
   "cell_type": "markdown",
   "metadata": {},
   "source": [
    "# Radial-Tangential"
   ]
  },
  {
   "cell_type": "code",
   "execution_count": null,
   "metadata": {},
   "outputs": [],
   "source": [
    "display(equil_eqns[0].subs(sub_ij).subs(k_vw, 0))\n",
    "display(equil_eqns[1].subs(sub_ij).subs(k_vw, 0))"
   ]
  },
  {
   "cell_type": "code",
   "execution_count": null,
   "metadata": {},
   "outputs": [],
   "source": [
    "eq = (M[0, 0]*M[1, 1] - M[0, 1]*M[1, 0]).subs(sub_ij).subs(k_vw, 0)\n",
    "\n",
    "(-eq/(EA*EI1)).simplify().expand().collect(p)"
   ]
  },
  {
   "cell_type": "code",
   "execution_count": null,
   "metadata": {},
   "outputs": [],
   "source": [
    "sub_up = [(k_vp, 0), (k_wp, 0)]\n",
    "sub_R = [(rx, 0), (ry, 0), (y0, 0), (k_uv, 0), (k_uw, 0)]\n",
    "\n",
    "sub_list = sub_R + sub_up\n",
    "\n",
    "eq_v = equil_eqns[0].subs(sub_list)\n",
    "eq_w = equil_eqns[1].subs(sub_list)\n",
    "\n",
    "display(eq_v)\n",
    "display(eq_w)"
   ]
  },
  {
   "cell_type": "code",
   "execution_count": null,
   "metadata": {},
   "outputs": [],
   "source": [
    "# Combine w and w equations to eliminate EA terms\n",
    "eq_rad = ((eq_v.lhs.diff(s)*R - eq_w.lhs).simplify()).diff(s)\n",
    "\n",
    "# Inextensibility criterion: w' = v/R\n",
    "w_d = v(s)/R\n",
    "\n",
    "sub_new = [(w(s).diff(s, 5), v(s).diff(s, 4)/R),\n",
    "           (w(s).diff(s, 2), v(s).diff(s)/R),\n",
    "           (w(s).diff(s), v(s)/R)]\n",
    "\n",
    "eq_rad.subs(sub_new)"
   ]
  },
  {
   "cell_type": "code",
   "execution_count": null,
   "metadata": {},
   "outputs": [],
   "source": []
  }
 ],
 "metadata": {
  "anaconda-cloud": {},
  "kernelspec": {
   "display_name": "Python [default]",
   "language": "python",
   "name": "python2"
  },
  "language_info": {
   "codemirror_mode": {
    "name": "ipython",
    "version": 2
   },
   "file_extension": ".py",
   "mimetype": "text/x-python",
   "name": "python",
   "nbconvert_exporter": "python",
   "pygments_lexer": "ipython2",
   "version": "2.7.14"
  }
 },
 "nbformat": 4,
 "nbformat_minor": 1
}
