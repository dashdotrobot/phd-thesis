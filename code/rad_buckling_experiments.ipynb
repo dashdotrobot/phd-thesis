{
 "cells": [
  {
   "cell_type": "code",
   "execution_count": null,
   "metadata": {},
   "outputs": [],
   "source": [
    "import pandas as pd\n",
    "import numpy as np\n",
    "\n",
    "import matplotlib.pyplot as plt\n",
    "import matplotlib as mpl\n",
    "import seaborn as sns\n",
    "\n",
    "%matplotlib inline"
   ]
  },
  {
   "cell_type": "code",
   "execution_count": null,
   "metadata": {},
   "outputs": [],
   "source": [
    "# Set default colors\n",
    "default_colors = ['#1f77b4', '#ff7f0e', '#2ca02c', '#d62728',\n",
    "                  '#9467bd', '#8c564b', '#e377c2', '#7f7f7f',\n",
    "                  '#bcbd22', '#17becf']\n",
    "\n",
    "mpl.rcParams['axes.prop_cycle'] = mpl.cycler(color=default_colors)\n",
    "\n",
    "# Default markers\n",
    "mrk = ['o', '*', 'd', 's', '^', 'p', 'v']"
   ]
  },
  {
   "cell_type": "markdown",
   "metadata": {},
   "source": [
    "## Load-displacement curves"
   ]
  },
  {
   "cell_type": "code",
   "execution_count": null,
   "metadata": {},
   "outputs": [],
   "source": [
    "pd1 = pd.read_csv('../data/rad_buckling_experiments/BR17125839_Pd.csv', header=0)\n",
    "pd2 = pd.read_csv('../data/rad_buckling_experiments/BR17282956_Pd.csv', header=0)\n",
    "pd3 = pd.read_csv('../data/rad_buckling_experiments/BR17282957_Pd.csv', header=0)"
   ]
  },
  {
   "cell_type": "code",
   "execution_count": null,
   "metadata": {},
   "outputs": [],
   "source": [
    "def trim_rad(pd, n_trim):\n",
    "    'Trim and shift non-linear settling portion of load-displacement curve.'\n",
    "    \n",
    "    pd = pd.drop(index=range(n_trim))\n",
    "    \n",
    "    pf = np.polyfit(pd['EXT_RAD'][:40], pd['FORCE'][:40], 1)\n",
    "    \n",
    "    v_offset = -pf[1]/pf[0]\n",
    "    \n",
    "    pd['EXT_RAD'] = pd['EXT_RAD'] - v_offset\n",
    "    \n",
    "    return pd\n",
    "\n",
    "# Trim non-linear settling portion at the beginning\n",
    "pd1 = trim_rad(pd1, 5)\n",
    "pd2 = trim_rad(pd2, 0)\n",
    "pd3 = trim_rad(pd3, 5)"
   ]
  },
  {
   "cell_type": "code",
   "execution_count": null,
   "metadata": {},
   "outputs": [],
   "source": [
    "kN = 0.00444822 # Conversion from lbs to kN\n",
    "\n",
    "cm = sns.color_palette('Blues', 3)\n",
    "\n",
    "with plt.style.context('seaborn-paper'):\n",
    "    fig, ax = plt.subplots(ncols=2, figsize=(6.5, 3.25))\n",
    "\n",
    "    ax[0].plot(pd1['EXT_RAD'], pd1['FORCE']*kN, '.:', color=cm[2])\n",
    "    ax[0].plot(pd2['EXT_RAD'], pd2['FORCE']*kN, '.:', color=cm[1])\n",
    "    ax[0].plot(pd3['EXT_RAD'], pd3['FORCE']*kN, 'C3.:')\n",
    "    \n",
    "    ax[0].set_ylim([0., 5.])\n",
    "    ax[0].set_xlim([0., 12.])\n",
    "    \n",
    "    ax[0].set_xlabel('Radial displacement [mm]')\n",
    "    ax[0].set_ylabel('Radial load [kN]')\n",
    "    \n",
    "    \n",
    "    ax[1].plot(pd1['EXT_LAT'], pd1['EXT_RAD'], '.:', color=cm[2])\n",
    "    ax[1].plot(pd2['EXT_LAT'], pd2['EXT_RAD'], '.:', color=cm[1])\n",
    "    ax[1].plot(pd3['EXT_LAT'], pd3['EXT_RAD'], 'C3.:')\n",
    "    \n",
    "    ax[1].set_xlim([-5., 42.])\n",
    "    ax[1].set_ylim([0., 12.])\n",
    "    \n",
    "    ax[1].set_xlabel('Lateral displacement [mm]')\n",
    "    ax[1].set_ylabel('Radial displacement [mm]')\n",
    "    \n",
    "    plt.tight_layout()\n",
    "    plt.savefig('../figs/buckling_ext_loads/_python_NU_experiments.pdf')"
   ]
  },
  {
   "cell_type": "markdown",
   "metadata": {},
   "source": [
    "### Peak loads and strength difference"
   ]
  },
  {
   "cell_type": "code",
   "execution_count": null,
   "metadata": {},
   "outputs": [],
   "source": [
    "print 'Wheel 1: {:.2f} kN ({:.1f} lbs)'.format(pd1['FORCE'].max()*kN, pd1['FORCE'].max())\n",
    "print 'Wheel 2: {:.2f} kN ({:.1f} lbs)'.format(pd2['FORCE'].max()*kN, pd2['FORCE'].max())\n",
    "print 'Wheel 3: {:.2f} kN ({:.1f} lbs)'.format(pd3['FORCE'].max()*kN, pd3['FORCE'].max())\n",
    "\n",
    "print '\\nStrength difference:'\n",
    "print '{:.2f} kN ({:.1f} lbs)'.format(pd1['FORCE'].max()*kN - pd3['FORCE'].max()*kN,\n",
    "                                    pd1['FORCE'].max() - pd3['FORCE'].max())"
   ]
  },
  {
   "cell_type": "markdown",
   "metadata": {},
   "source": [
    "# Post-mortem: spoke tensions and deformation"
   ]
  },
  {
   "cell_type": "code",
   "execution_count": null,
   "metadata": {},
   "outputs": [],
   "source": [
    "pm1 = pd.read_csv('../data/rad_buckling_experiments/BR17125839_post_mortem.csv', header=0)\n",
    "pm2 = pd.read_csv('../data/rad_buckling_experiments/BR17282956_post_mortem.csv', header=0)\n",
    "pm3 = pd.read_csv('../data/rad_buckling_experiments/BR17282957_post_mortem.csv', header=0)"
   ]
  },
  {
   "cell_type": "code",
   "execution_count": null,
   "metadata": {
    "scrolled": false
   },
   "outputs": [],
   "source": [
    "def c(x, i):\n",
    "    'Shift elements of x so that the ith element is in the center'\n",
    "    \n",
    "    return np.roll(x, len(x)/2 - i)\n",
    "\n",
    "\n",
    "def plot_wheel(pm, spk_load, ax1):\n",
    "    Tdiff = c((pm['T_POST'] - pm['T_PRE']).tolist(), spk_load)\n",
    "    lat_def = c((pm['LAT_DEF'] - pm['LAT_DEF'].mean()).tolist(), spk_load)\n",
    "    \n",
    "    ax1.bar(range(1, 37, 2), Tdiff[::2], color='C0', alpha=0.8)\n",
    "    ax1.bar(range(2, 37, 2), Tdiff[1::2], color='C1', alpha=0.8)\n",
    "    ax1.bar(18, Tdiff[17], color='C3')\n",
    "    \n",
    "    ax2 = ax1.twinx()\n",
    "    ax2.plot(range(1, 37), -lat_def, color='#333333')\n",
    "    \n",
    "    \n",
    "    ax1.set_xticks([])\n",
    "    ax1.set_ylim([-1000, 1000])\n",
    "    ax2.set_ylim([-10, 10])\n",
    "    \n",
    "    ax1.set_yticklabels([])\n",
    "    ax2.set_yticklabels([])\n",
    "\n",
    "\n",
    "with plt.style.context('seaborn-paper'):\n",
    "    fig, ax = plt.subplots(ncols=3, figsize=(5.5, 2.25))\n",
    "    \n",
    "    plot_wheel(pm1, 6, ax[0])\n",
    "    plot_wheel(pm2, 14, ax[1])\n",
    "    plot_wheel(pm3, 14, ax[2])\n",
    "    \n",
    "    plt.tight_layout()\n",
    "    plt.savefig('../figs/buckling_ext_loads/_python_NU_experiments_postmortem.pdf')"
   ]
  },
  {
   "cell_type": "code",
   "execution_count": null,
   "metadata": {},
   "outputs": [],
   "source": []
  }
 ],
 "metadata": {
  "anaconda-cloud": {},
  "kernelspec": {
   "display_name": "Python [default]",
   "language": "python",
   "name": "python2"
  },
  "language_info": {
   "codemirror_mode": {
    "name": "ipython",
    "version": 2
   },
   "file_extension": ".py",
   "mimetype": "text/x-python",
   "name": "python",
   "nbconvert_exporter": "python",
   "pygments_lexer": "ipython2",
   "version": "2.7.14"
  }
 },
 "nbformat": 4,
 "nbformat_minor": 1
}
