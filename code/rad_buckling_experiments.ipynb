{
 "cells": [
  {
   "cell_type": "code",
   "execution_count": null,
   "metadata": {},
   "outputs": [],
   "source": [
    "import pandas as pd\n",
    "import numpy as np\n",
    "\n",
    "from bikewheelcalc import BicycleWheel, Hub, Rim\n",
    "import bikewheellib as bl\n",
    "\n",
    "import statsmodels.api as sm\n",
    "import statsmodels.formula.api as smf\n",
    "\n",
    "import matplotlib.pyplot as plt\n",
    "import matplotlib as mpl\n",
    "import seaborn as sns\n",
    "\n",
    "%matplotlib inline"
   ]
  },
  {
   "cell_type": "code",
   "execution_count": null,
   "metadata": {},
   "outputs": [],
   "source": [
    "# Set default colors\n",
    "default_colors = ['#1f77b4', '#ff7f0e', '#2ca02c', '#d62728',\n",
    "                  '#9467bd', '#8c564b', '#e377c2', '#7f7f7f',\n",
    "                  '#bcbd22', '#17becf']\n",
    "\n",
    "mpl.rcParams['axes.prop_cycle'] = mpl.cycler(color=default_colors)\n",
    "\n",
    "# Default markers\n",
    "mrk = ['o', '*', 'd', 's', '^', 'p', 'v']"
   ]
  },
  {
   "cell_type": "markdown",
   "metadata": {},
   "source": [
    "## Load-displacement curves"
   ]
  },
  {
   "cell_type": "code",
   "execution_count": null,
   "metadata": {},
   "outputs": [],
   "source": [
    "kN = 0.00444822 # Conversion from lbs to kN\n",
    "\n",
    "pd1 = pd.read_csv('../data/rad_buckling_experiments/BR17125839_Pd.csv', header=0)\n",
    "pd2 = pd.read_csv('../data/rad_buckling_experiments/BR17282956_Pd.csv', header=0)\n",
    "pd3 = pd.read_csv('../data/rad_buckling_experiments/BR17282957_Pd.csv', header=0)\n",
    "\n",
    "pd1['FORCE_kN'] = pd1['FORCE']*kN\n",
    "pd2['FORCE_kN'] = pd2['FORCE']*kN\n",
    "pd3['FORCE_kN'] = pd3['FORCE']*kN\n",
    "\n",
    "rad_results = pd.DataFrame({'LAT_LOAD': [58., 58., 220.],\n",
    "                            'RAD_STIFF': 0.,\n",
    "                            'RAD_STIFF_err': 0.})"
   ]
  },
  {
   "cell_type": "code",
   "execution_count": null,
   "metadata": {},
   "outputs": [],
   "source": [
    "def trim_rad(pdn, n_trim):\n",
    "    'Trim and shift non-linear settling portion of load-displacement curve.'\n",
    "    \n",
    "    pdn = pdn.drop(index=range(n_trim))\n",
    "    \n",
    "    pf = np.polyfit(pdn['EXT_RAD'][:40], pdn['FORCE'][:40], 1)\n",
    "    \n",
    "    v_offset = -pf[1]/pf[0]\n",
    "    \n",
    "    pdn['EXT_RAD'] = pdn['EXT_RAD'] - v_offset\n",
    "    \n",
    "    return pdn\n",
    "\n",
    "# Trim non-linear settling portion at the beginning\n",
    "pd1 = trim_rad(pd1, 5)\n",
    "pd2 = trim_rad(pd2, 0)\n",
    "pd3 = trim_rad(pd3, 5)"
   ]
  },
  {
   "cell_type": "code",
   "execution_count": null,
   "metadata": {},
   "outputs": [],
   "source": [
    "cm = sns.color_palette('Blues', 3)\n",
    "\n",
    "with plt.style.context('seaborn-paper'):\n",
    "    fig, ax = plt.subplots(ncols=2, figsize=(6.5, 3.25))\n",
    "\n",
    "    ax[0].plot(pd1['EXT_RAD'], pd1['FORCE_kN'], '.:', color=cm[2])\n",
    "    ax[0].plot(pd2['EXT_RAD'], pd2['FORCE_kN'], '.:', color=cm[1])\n",
    "    ax[0].plot(pd3['EXT_RAD'], pd3['FORCE_kN'], 'C3.:')\n",
    "    \n",
    "    ax[0].set_ylim([0., 5.])\n",
    "    ax[0].set_xlim([0., 12.])\n",
    "    \n",
    "    ax[0].set_xlabel('Radial displacement [mm]')\n",
    "    ax[0].set_ylabel('Radial load [kN]')\n",
    "    \n",
    "    \n",
    "    ax[1].plot(pd1['EXT_LAT'], pd1['EXT_RAD'], '.:', color=cm[2])\n",
    "    ax[1].plot(pd2['EXT_LAT'], pd2['EXT_RAD'], '.:', color=cm[1])\n",
    "    ax[1].plot(pd3['EXT_LAT'], pd3['EXT_RAD'], 'C3.:')\n",
    "    \n",
    "    ax[1].set_xlim([-5., 42.])\n",
    "    ax[1].set_ylim([0., 12.])\n",
    "    \n",
    "    ax[1].set_xlabel('Lateral displacement [mm]')\n",
    "    ax[1].set_ylabel('Radial displacement [mm]')\n",
    "    \n",
    "    plt.tight_layout()\n",
    "    plt.savefig('../figs/buckling_ext_loads/_python_NU_experiments.svg')"
   ]
  },
  {
   "cell_type": "markdown",
   "metadata": {},
   "source": [
    "### Peak loads and strength difference"
   ]
  },
  {
   "cell_type": "code",
   "execution_count": null,
   "metadata": {},
   "outputs": [],
   "source": [
    "print 'Wheel 1: {:.2f} kN ({:.1f} lbs)'.format(pd1['FORCE_kN'].max(), pd1['FORCE'].max())\n",
    "print 'Wheel 2: {:.2f} kN ({:.1f} lbs)'.format(pd2['FORCE_kN'].max(), pd2['FORCE'].max())\n",
    "print 'Wheel 3: {:.2f} kN ({:.1f} lbs)'.format(pd3['FORCE_kN'].max(), pd3['FORCE'].max())\n",
    "\n",
    "print '\\nStrength difference:'\n",
    "print '{:.2f} kN ({:.1f} lbs)'.format(pd1['FORCE_kN'].max() - pd3['FORCE_kN'].max(),\n",
    "                                      pd1['FORCE'].max() - pd3['FORCE'].max())"
   ]
  },
  {
   "cell_type": "markdown",
   "metadata": {},
   "source": [
    "### Spoke buckling load (onset of nonlinearity)"
   ]
  },
  {
   "cell_type": "code",
   "execution_count": null,
   "metadata": {},
   "outputs": [],
   "source": [
    "for i, pdn in enumerate([pd1, pd2, pd3]):\n",
    "    \n",
    "    # Linear fit to initial slope\n",
    "    lf = np.polyfit(pdn['EXT_RAD'][:40], pdn['FORCE'][:40], 1)\n",
    "    \n",
    "    # Percentage deviation from linear slope\n",
    "    P_diff = (lf[0]*pdn['EXT_RAD'] + lf[1] - pdn['FORCE']) / pdn['FORCE']\n",
    "    \n",
    "    # Index of nonlinearity point\n",
    "    i_nl = P_diff[(P_diff > 0.05) & (pdn['FORCE'] > 100)].index[0]\n",
    "    \n",
    "    # Calculate radial stiffness\n",
    "    i_fit = int(np.floor(0.8*i_nl))\n",
    "    lf2 = smf.ols('FORCE_kN ~ EXT_RAD', data=pdn.iloc[:i_fit]).fit()\n",
    "    \n",
    "    rad_results.loc[i, 'LOAD_NONLIN_kN'] = pdn['FORCE_kN'][i_nl]\n",
    "    \n",
    "    rad_results.loc[i, 'RAD_STIFF'] = lf2.params[1]\n",
    "    rad_results.loc[i, 'RAD_STIFF_err'] = lf2.bse[1]\n",
    "    rad_results.loc[i, 'PEAK_LOAD_kN'] = pdn['FORCE_kN'].max()\n",
    "    rad_results.loc[i, 'EXT_RAD_MAX'] = pdn['EXT_RAD'].max()\n",
    "    \n",
    "    plt.plot(pdn['EXT_RAD'], pdn['FORCE'])\n",
    "    plt.plot(pdn['EXT_RAD'][i_nl], pdn['FORCE'][i_nl], 'r*')\n",
    "    \n",
    "rad_results"
   ]
  },
  {
   "cell_type": "markdown",
   "metadata": {},
   "source": [
    "# Post-mortem: spoke tensions and deformation"
   ]
  },
  {
   "cell_type": "code",
   "execution_count": null,
   "metadata": {},
   "outputs": [],
   "source": [
    "pm1 = pd.read_csv('../data/rad_buckling_experiments/BR17125839_post_mortem.csv', header=0)\n",
    "pm2 = pd.read_csv('../data/rad_buckling_experiments/BR17282956_post_mortem.csv', header=0)\n",
    "pm3 = pd.read_csv('../data/rad_buckling_experiments/BR17282957_post_mortem.csv', header=0)"
   ]
  },
  {
   "cell_type": "code",
   "execution_count": null,
   "metadata": {
    "scrolled": false
   },
   "outputs": [],
   "source": [
    "def c(x, i):\n",
    "    'Shift elements of x so that the ith element is in the center'\n",
    "    \n",
    "    return np.roll(x, len(x)/2 - i)\n",
    "\n",
    "\n",
    "def plot_wheel(pm, spk_load, ax1):\n",
    "    Tdiff = c((pm['T_POST'] - pm['T_PRE']).tolist(), spk_load)\n",
    "    lat_def = c((pm['LAT_DEF'] - pm['LAT_DEF'].mean()).tolist(), spk_load)\n",
    "    \n",
    "    ax1.bar(range(1, 37, 2), Tdiff[::2], color='C0', alpha=0.8)\n",
    "    ax1.bar(range(2, 37, 2), Tdiff[1::2], color='C1', alpha=0.8)\n",
    "    ax1.bar(18, Tdiff[17], color='C3')\n",
    "    \n",
    "    ax2 = ax1.twinx()\n",
    "    ax2.plot(range(1, 37), -lat_def, color='#333333')\n",
    "    \n",
    "    ax1.set_xticks([])\n",
    "    ax1.set_ylim([-1000, 1000])\n",
    "    ax2.set_ylim([-10, 10])\n",
    "    \n",
    "    ax1.set_yticklabels([])\n",
    "    ax2.set_yticklabels([])\n",
    "\n",
    "\n",
    "with plt.style.context('seaborn-paper'):\n",
    "    fig, ax = plt.subplots(ncols=3, figsize=(5.5, 2.25))\n",
    "    \n",
    "    plot_wheel(pm1, 6, ax[0])\n",
    "    plot_wheel(pm2, 14, ax[1])\n",
    "    plot_wheel(pm3, 14, ax[2])\n",
    "    \n",
    "    ax[1].set_xlabel('Spoke position')\n",
    "    \n",
    "    plt.tight_layout()\n",
    "    plt.savefig('../figs/buckling_ext_loads/_python_NU_experiments_postmortem.pdf')"
   ]
  },
  {
   "cell_type": "code",
   "execution_count": null,
   "metadata": {},
   "outputs": [],
   "source": [
    "for i, pm in enumerate([pm1, pm2, pm3]):\n",
    "    \n",
    "    rad_results.loc[i, 'T_PRE'] = pm['T_PRE'].mean()\n",
    "    rad_results.loc[i, 'T_PRE_std'] = pm['T_PRE'].std()\n",
    "    \n",
    "    rad_results.loc[i, 'T_POST'] = pm['T_POST'].mean()\n",
    "    rad_results.loc[i, 'T_POST_min'] = pm['T_POST'].min()\n",
    "    rad_results.loc[i, 'T_POST_max'] = pm['T_POST'].max()\n",
    "    \n",
    "rad_results.transpose()"
   ]
  },
  {
   "cell_type": "markdown",
   "metadata": {},
   "source": [
    "# Compare against competing failure mode model"
   ]
  },
  {
   "cell_type": "code",
   "execution_count": null,
   "metadata": {},
   "outputs": [],
   "source": [
    "w = BicycleWheel()\n",
    "\n",
    "# Include a small correction (3 mm on each side) to the hub width due\n",
    "#   to the hub flange thickness and projection of the spoke elbow\n",
    "w.hub = Hub(diam1=0.058, width1=0.025+0.001)\n",
    "\n",
    "# CR18-700\n",
    "w.rim = Rim(radius=0.304,\n",
    "            area=0.538 / (2*np.pi*2700.*0.304),\n",
    "            I11=25.9 / 26.0e9,  # From acoustic test\n",
    "            I22=113. / 69.0e9,  # From acoustic test\n",
    "            I33=266. / 69.0e9,  # From acoustic test\n",
    "            Iw=0.0 / 69.0e9,\n",
    "            young_mod=69.0e9,\n",
    "            shear_mod=26.0e9)\n",
    "\n",
    "# Neglect the (unknown) shear center offset\n",
    "w.rim.sec_params = {'y_c': 0.0, 'y_s': 0.0}\n",
    "\n",
    "w.lace_radial(n_spokes=36, diameter=1.83e-3, young_mod=210e9, offset=0.0)\n",
    "\n",
    "R = w.rim.radius\n",
    "EI2 = w.rim.young_mod*w.rim.I22\n",
    "GJ = w.rim.shear_mod*w.rim.I11\n",
    "EA = w.spokes[0].EA\n",
    "\n",
    "# Estimate from theory\n",
    "K_lat0 = bl.lateral_stiffness(w, tension=0.)\n",
    "\n",
    "# Fitted from load-displacement curves\n",
    "K_rad = bl.calc_rad_stiff(w)\n",
    "\n",
    "# Determined by four-point bend test\n",
    "Tc = bl.calc_buckling_tension(w)[0]\n",
    "\n",
    "P_c_theor = K_lat0*R / (1 + EA/Tc * K_lat0/K_rad) / 1000.\n",
    "P_c_exp = rad_results.loc[[0, 1], 'PEAK_LOAD_kN'].mean()\n",
    "\n",
    "print 'K_lat^0     {:7.1f} N/mm'.format(K_lat0 / 1000)\n",
    "print 'K_rad       {:7.1f} kN/mm'.format(K_rad / 1e6)\n",
    "print 'EA_eff:     {:7.1f} kN'.format(EA/1000)\n",
    "print 'Tc:         {:7.1f} N'.format(Tc)\n",
    "print 'P_c theory: {:7.2f} kN'.format(P_c_theor)\n",
    "print 'P_c exp:    {:7.2f} kN'.format(P_c_exp)\n",
    "\n",
    "print ''\n",
    "print 'Error: {:1.1%}'.format(np.abs(P_c_theor - P_c_exp)/P_c_exp)"
   ]
  },
  {
   "cell_type": "code",
   "execution_count": null,
   "metadata": {},
   "outputs": [],
   "source": []
  }
 ],
 "metadata": {
  "anaconda-cloud": {},
  "kernelspec": {
   "display_name": "Python [default]",
   "language": "python",
   "name": "python2"
  },
  "language_info": {
   "codemirror_mode": {
    "name": "ipython",
    "version": 2
   },
   "file_extension": ".py",
   "mimetype": "text/x-python",
   "name": "python",
   "nbconvert_exporter": "python",
   "pygments_lexer": "ipython2",
   "version": "2.7.14"
  }
 },
 "nbformat": 4,
 "nbformat_minor": 1
}
