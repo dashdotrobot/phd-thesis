{
 "cells": [
  {
   "cell_type": "markdown",
   "metadata": {},
   "source": [
    "# Hinged-column model"
   ]
  },
  {
   "cell_type": "code",
   "execution_count": null,
   "metadata": {},
   "outputs": [],
   "source": [
    "from sympy import *\n",
    "import numpy as np\n",
    "import matplotlib.pyplot as plt\n",
    "from IPython.display import display\n",
    "import seaborn as sns\n",
    "\n",
    "init_printing()\n",
    "%matplotlib inline"
   ]
  },
  {
   "cell_type": "code",
   "execution_count": null,
   "metadata": {},
   "outputs": [],
   "source": [
    "P, R, k_p, k_u, phi = symbols('P R k_p k_u phi', real=true)\n",
    "\n",
    "# Total potential energy\n",
    "U_rot = k_p*phi**2/2\n",
    "U_lin = k_u*(R*sin(phi))**2/2\n",
    "\n",
    "V = P*R*(1-cos(phi))\n",
    "\n",
    "# Set first variation to zero\n",
    "P_pb_rot = solve(diff(U_rot - V, phi), P)[0]\n",
    "P_pb_lin = solve(diff(U_lin - V, phi), P)[0]\n",
    "\n",
    "P_pb_com = solve(diff(U_rot+U_lin - V, phi), P)[0]\n",
    "display(P_pb_com)"
   ]
  },
  {
   "cell_type": "code",
   "execution_count": null,
   "metadata": {},
   "outputs": [],
   "source": [
    "# Plots\n",
    "p = np.linspace(0.01, np.pi/2, 100)\n",
    "\n",
    "f1 = lambdify(phi, P_pb_com.subs([(R, 1), (k_p, 1), (k_u, 0)]), np)\n",
    "f2 = lambdify(phi, P_pb_com.subs([(R, 1), (k_p, 0.75), (k_u, 0.25)]), np)\n",
    "f3 = lambdify(phi, P_pb_com.subs([(R, 1), (k_p, 0.25), (k_u, 0.75)]), np)\n",
    "f4 = lambdify(phi, P_pb_com.subs([(R, 1), (k_p, 0), (k_u, 1)]), np)\n",
    "\n",
    "cp = sns.color_palette('Reds', 4)\n",
    "\n",
    "with plt.style.context('seaborn-paper'):\n",
    "\n",
    "    fig, ax = plt.subplots(figsize=(2.4, 2.5))\n",
    "\n",
    "    ax.plot(p, f1(p), label=r'$k_u=0$', color=cp[0])\n",
    "    ax.plot(p, f2(p), label=r'$k_{\\phi}^\\prime=3k_u$', color=cp[1])\n",
    "    ax.plot(p, f3(p), label=r'$3k_u=k_{\\phi}^\\prime$', color=cp[2])\n",
    "    ax.plot(p, f4(p), label=r'$k_{\\phi}=0$', color=cp[3])\n",
    "\n",
    "    ax.set_xlim([0., np.pi/2])\n",
    "    ax.set_ylim([0., 1.6])\n",
    "    ax.set_xticks([0., np.pi/8, np.pi/4, 3*np.pi/8, np.pi/2])\n",
    "    ax.set_xticklabels(['0', '', r'\\$\\pi/4\\$', '', r'\\$\\pi/2\\$'])\n",
    "    ax.set_yticks([0., 0.5, 1., 1.5])\n",
    "    ax.set_yticklabels(['0', '0.5', '1', '1.5'])\n",
    "\n",
    "    ax.set_xlabel(r'\\$\\phi\\$')\n",
    "    ax.set_ylabel(r'\\$P/P_c\\$')\n",
    "\n",
    "    plt.tight_layout()\n",
    "    plt.savefig('../figs/buckling_ext_loads/_python_Pd_hinged-column.pdf')"
   ]
  },
  {
   "cell_type": "code",
   "execution_count": null,
   "metadata": {},
   "outputs": [],
   "source": []
  }
 ],
 "metadata": {
  "kernelspec": {
   "display_name": "Python 3",
   "language": "python",
   "name": "python3"
  },
  "language_info": {
   "codemirror_mode": {
    "name": "ipython",
    "version": 3
   },
   "file_extension": ".py",
   "mimetype": "text/x-python",
   "name": "python",
   "nbconvert_exporter": "python",
   "pygments_lexer": "ipython3",
   "version": "3.7.0"
  }
 },
 "nbformat": 4,
 "nbformat_minor": 1
}
