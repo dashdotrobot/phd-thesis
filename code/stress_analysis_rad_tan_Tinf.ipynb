{
 "cells": [
  {
   "cell_type": "code",
   "execution_count": 1,
   "metadata": {},
   "outputs": [],
   "source": [
    "import numpy as np\n",
    "from numpy import sin, cos, sinh, cosh, pi, sqrt\n",
    "from bikewheelcalc import BicycleWheel\n",
    "from IPython.display import display\n",
    "\n",
    "import bikewheellib as bl\n",
    "import matplotlib.pyplot as plt\n",
    "\n",
    "%matplotlib inline"
   ]
  },
  {
   "cell_type": "code",
   "execution_count": 2,
   "metadata": {},
   "outputs": [],
   "source": [
    "def v_RT_rad(th, l_vv, l_ww, C=None):\n",
    "    'Radial displacement under radial point load'\n",
    "\n",
    "    g, a, b = solve_roots(l_vv, l_ww)\n",
    "\n",
    "    if C is None:\n",
    "        D, E, F = solve_BCs(l_vv, l_ww)\n",
    "    else:\n",
    "        D, E, F = (C[0], C[1], C[2])\n",
    "    \n",
    "    return (D*cosh(g*th) + E*cos(a*th)*cosh(b*th) +\n",
    "            F*sin(a*th)*sinh(b*th))\n",
    "\n",
    "def w_RT_rad(th, l_vv, l_ww, C=None):\n",
    "    'Tangential displacement under radial point load'\n",
    "\n",
    "    g, a, b = solve_roots(l_vv, l_ww)\n",
    "    \n",
    "    if C is None:\n",
    "        D, E, F = solve_BCs(l_vv, l_ww)\n",
    "    else:\n",
    "        D, E, F = (C[0], C[1], C[2])\n",
    "    \n",
    "    return (D/g*sinh(g*th) +\n",
    "            (E*b - F*a)/(a**2 + b**2)*cos(a*th)*sinh(b*th) +\n",
    "            (E*a + F*b)/(a**2 + b**2)*sin(a*th)*cosh(b*th))\n",
    "\n",
    "def solve_roots(l_vv, l_ww):\n",
    "\n",
    "    r2 = np.roots([1., 2, 1 + l_vv, -l_ww])\n",
    "\n",
    "    # Find which root is real\n",
    "    r_real = r2[np.isreal(r2)][0]\n",
    "    r_cplx = r2[np.iscomplex(r2)][0]\n",
    "\n",
    "    g = np.sqrt(np.abs(r_real))\n",
    "    a = np.sqrt(r_cplx).imag\n",
    "    b = np.sqrt(r_cplx).real\n",
    "\n",
    "    return [g, a, b]\n",
    "\n",
    "def solve_BCs(l_vv, l_ww):\n",
    "    'Solve boundary conditions for radial-tangential problem.'\n",
    "\n",
    "    g, a, b = solve_roots(l_vv, l_ww)\n",
    "\n",
    "    D = 2*a*b*g/sinh(g*pi)\n",
    "    E = -(b*(a**2+b**2-g**2)*sin(a*pi)*cosh(b*pi) + a*(a**2+b**2+g**2)*cos(a*pi)*sinh(b*pi)) /\\\n",
    "        (cosh(b*pi)**2 - cos(a*pi)**2)\n",
    "\n",
    "    F = -(a*(a**2+b**2+g**2)*sin(a*pi)*cosh(b*pi) - b*(a**2+b**2-g**2)*cos(a*pi)*sinh(b*pi)) /\\\n",
    "        (cosh(b*pi)**2 - cos(a*pi)**2)\n",
    "\n",
    "    C = (D, E, F)\n",
    "\n",
    "    # Numerically integrate to find Z\n",
    "    tt = np.linspace(0., np.pi, 1000)\n",
    "    Z = 2./pi * np.trapz(v_RT_rad(tt, l_vv, l_ww, C)*cos(tt) + l_ww/l_vv*w_RT_rad(tt, l_vv, l_ww, C)*sin(tt), tt)\n",
    "\n",
    "    return (D/Z, E/Z, F/Z)\n",
    "\n",
    "def v_RT_tan(th, l_vv, l_ww):\n",
    "    'Radial displacement under tangential point load.'\n",
    "    \n",
    "    g, a, b = solve_roots(l_vv, l_ww)\n",
    "    \n",
    "    D, E, F = solve_BCs(l_vv, l_ww)\n",
    "    A, B, C = (D/g, (E*b-F*a)/(a**2+b**2), (E*a+F*b)/(a**2+b**2))\n",
    "    \n",
    "    return l_ww/l_vv*(A*sinh(g*th) + B*cos(a*th)*sinh(b*th) +\n",
    "                      C*sin(a*th)*cosh(b*th))\n",
    "\n",
    "def w_RT_tan(th, l_vv, l_ww, C=None):\n",
    "    'Tangential displacement under tangential point load.'\n",
    "    \n",
    "    g, a, b = solve_roots(l_vv, l_ww)\n",
    "    \n",
    "    D, E, F = solve_BCs(l_vv, l_ww)\n",
    "    A, B, C = (D/g, (E*b-F*a)/(a**2+b**2), (E*a+F*b)/(a**2+b**2))\n",
    "    \n",
    "    return l_ww/l_vv*(A/g*cosh(g*th) +\n",
    "                      (B*b - C*a)/(a**2 + b**2)*cos(a*th)*cosh(b*th) +\n",
    "                      (B*a + C*b)/(a**2 + b**2)*sin(a*th)*sinh(b*th))\n",
    "\n",
    "def v_Het(th, l_vv):\n",
    "    eta = sqrt(l_vv + 1)\n",
    "    a = sqrt((eta-1)/2)\n",
    "    b = sqrt((eta+1)/2)\n",
    "    \n",
    "    A = (a*cosh(a*pi)*sin(b*pi) + b*sinh(a*pi)*cos(b*pi)) / \\\n",
    "        (eta*(sinh(a*pi)**2 + sin(b*pi)**2))\n",
    "    B = (a*sinh(a*pi)*cos(b*pi) - b*cosh(a*pi)*sin(b*pi)) / \\\n",
    "        (eta*(sinh(a*pi)**2 + sin(b*pi)**2))\n",
    "        \n",
    "    v = pi/(4*a*b)*l_vv * (2*a*b/(pi*eta**2) -\n",
    "                           A*cosh(a*th)*cos(b*th) +\n",
    "                           B*sinh(a*th)*sin(b*th))\n",
    "    return v"
   ]
  },
  {
   "cell_type": "code",
   "execution_count": 3,
   "metadata": {},
   "outputs": [],
   "source": [
    "wh = BicycleWheel()\n",
    "wh.hub = wh.Hub(diam1=0.05, width1=0.020, width2=0.040)\n",
    "\n",
    "R = 0.304\n",
    "GJ = 25.0\n",
    "EI1 = 100\n",
    "EI2 = GJ / 0.1\n",
    "\n",
    "wh.rim = wh.Rim(radius=0.304,\n",
    "              area=100e-6,\n",
    "              I11=GJ / 26.0e9,\n",
    "              I22=EI2 / 69.0e9,  # 266.0\n",
    "              I33=EI1 / 69.0e9,\n",
    "              Iw=0.0 / 69.0e9,\n",
    "              young_mod=69.0e9,\n",
    "              shear_mod=26.0e9)\n",
    "\n",
    "wh.lace_cross(n_spokes=36, n_cross=3, diameter=2.0e-3, young_mod=200e9, offset=0.0)\n",
    "\n",
    "k_spokes = bl.calc_continuum_stiff(wh)\n",
    "k_vv = k_spokes[1, 1]\n",
    "k_ww = k_spokes[2, 2]\n",
    "\n",
    "l_vv = k_vv*R**4/EI1\n",
    "l_ww = k_ww*R**4/EI1"
   ]
  },
  {
   "cell_type": "code",
   "execution_count": 4,
   "metadata": {},
   "outputs": [
    {
     "name": "stdout",
     "output_type": "stream",
     "text": [
      "[-0.45328467192033928, -0.23473841935937156, -0.010625762342228978, 0.053374400506899504]\n"
     ]
    },
    {
     "data": {
      "image/png": "[encoded data removed]",
      "text/plain": [
       "<matplotlib.figure.Figure at 0xb85fdd8>"
      ]
     },
     "metadata": {},
     "output_type": "display_data"
    }
   ],
   "source": [
    "with plt.style.context(('seaborn-paper')):\n",
    "    fig, ax = plt.subplots(ncols=3, figsize=(6.5, 2))\n",
    "    \n",
    "    # Spoke numbers\n",
    "    s_num = (np.arange(36)-18)%36\n",
    "    \n",
    "    # Calculate change in spoke tension for radial load\n",
    "    delta_T = [s.EA/s.length *\\\n",
    "               s.n.dot(np.array([0.,\n",
    "                                 1./(pi*R*k_vv) * v_RT_rad(s.rim_pt[1] - pi, l_vv, l_ww),\n",
    "                                 1./(pi*R*k_vv) * w_RT_rad(s.rim_pt[1] - pi, l_vv, l_ww)]))\n",
    "               for s in wh.spokes]\n",
    "    \n",
    "    ax[0].set_xlim([-1, 37])\n",
    "    ax[0].bar(s_num, delta_T, width=0.5)\n",
    "    ax[0].set_xlabel('Spoke number')\n",
    "    ax[0].set_ylabel('\\$\\Delta T/P_{rad}\\$')\n",
    "    \n",
    "    print delta_T[0:4]\n",
    "    \n",
    "    # Calculate change in spoke tension for radial load\n",
    "\n",
    "    delta_T = [s.EA/s.length *\\\n",
    "               s.n.dot(np.array([0.,\n",
    "                                 1./(pi*R*k_ww) * v_RT_tan(s.rim_pt[1] - pi, l_vv, l_ww),\n",
    "                                 1./(pi*R*k_ww) * w_RT_tan(s.rim_pt[1] - pi, l_vv, l_ww)]))\n",
    "               for s in wh.spokes]\n",
    "    \n",
    "    ax[1].set_xlim([-1, 37])\n",
    "    ax[1].bar(s_num, delta_T, width=0.5)\n",
    "    ax[1].set_xlabel('Spoke number')\n",
    "    ax[1].set_ylabel('\\$\\Delta T/P_{tan}\\$')\n",
    "    \n",
    "    \n",
    "    # Calculate change in spoke tension for radial load\n",
    "    P_rad = 500\n",
    "    P_tan = -50\n",
    "\n",
    "    delta_T = [s.EA/s.length *\\\n",
    "               s.n.dot(np.array([0.,\n",
    "                                 (P_rad/(pi*R*k_vv) * v_RT_rad(s.rim_pt[1] - pi, l_vv, l_ww) +\n",
    "                                  P_tan/(pi*R*k_ww) * v_RT_tan(s.rim_pt[1] - pi, l_vv, l_ww)),\n",
    "                                 (P_rad/(pi*R*k_vv) * w_RT_rad(s.rim_pt[1] - pi, l_vv, l_ww) +\n",
    "                                  P_tan/(pi*R*k_ww) * w_RT_tan(s.rim_pt[1] - pi, l_vv, l_ww))]))\n",
    "               for s in wh.spokes]\n",
    "    \n",
    "    ax[2].set_xlim([-1, 37])\n",
    "    ax[2].bar(s_num, delta_T, width=0.5)\n",
    "    ax[2].set_xlabel('Spoke number')\n",
    "    ax[2].set_ylabel('\\$\\Delta T\\$ [N]')\n",
    "\n",
    "\n",
    "plt.tight_layout()\n",
    "plt.savefig('../figs/stress_analysis/_python_rad_tan_Tinf.pdf')"
   ]
  },
  {
   "cell_type": "markdown",
   "metadata": {},
   "source": [
    "# Check that $w'=v$ by numerical integration"
   ]
  },
  {
   "cell_type": "code",
   "execution_count": 5,
   "metadata": {},
   "outputs": [
    {
     "name": "stdout",
     "output_type": "stream",
     "text": [
      "-2.13365658475e-10\n",
      "-2.1336543643e-10\n",
      "-2.13364714785e-10\n",
      "-2.1336687972e-10\n"
     ]
    },
    {
     "data": {
      "image/png": "[encoded data removed]",
      "text/plain": [
       "<matplotlib.figure.Figure at 0xbf31a20>"
      ]
     },
     "metadata": {},
     "output_type": "display_data"
    }
   ],
   "source": [
    "tt = np.linspace(0, np.pi, 1000)\n",
    "\n",
    "plt.plot(tt, v_RT_rad(tt, 1000, 0.1*1000))\n",
    "plt.plot(tt, v_Het(tt, 1000))\n",
    "\n",
    "print np.trapz(v_RT_rad(tt, 1000, 0.01*1000), tt)\n",
    "print np.trapz(v_RT_rad(tt, 1000, 0.1*1000), tt)\n",
    "print np.trapz(v_RT_rad(tt, 1000, 1.0*1000), tt)\n",
    "print np.trapz(v_Het(tt, 1000), tt)"
   ]
  },
  {
   "cell_type": "code",
   "execution_count": null,
   "metadata": {},
   "outputs": [],
   "source": []
  }
 ],
 "metadata": {
  "kernelspec": {
   "display_name": "Python 2",
   "language": "python",
   "name": "python2"
  },
  "language_info": {
   "codemirror_mode": {
    "name": "ipython",
    "version": 2
   },
   "file_extension": ".py",
   "mimetype": "text/x-python",
   "name": "python",
   "nbconvert_exporter": "python",
   "pygments_lexer": "ipython2",
   "version": "2.7.13"
  }
 },
 "nbformat": 4,
 "nbformat_minor": 1
}
