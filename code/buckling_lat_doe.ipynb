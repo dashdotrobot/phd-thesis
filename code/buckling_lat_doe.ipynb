{
 "cells": [
  {
   "cell_type": "markdown",
   "metadata": {},
   "source": [
    "# Buckling under lateral force: ABAQUS sims and plots"
   ]
  },
  {
   "cell_type": "code",
   "execution_count": null,
   "metadata": {},
   "outputs": [],
   "source": [
    "import bikewheellib as bl\n",
    "import pandas as pd\n",
    "import numpy as np\n",
    "import matplotlib.pyplot as plt\n",
    "import seaborn as sns\n",
    "from doetools import LateralBucklingDOE, wheel_library\n",
    "from IPython.display import display\n",
    "from shutil import copy2\n",
    "from imp import find_module\n",
    "\n",
    "%matplotlib inline"
   ]
  },
  {
   "cell_type": "markdown",
   "metadata": {},
   "source": [
    "## ABAQUS Explicit dynamic"
   ]
  },
  {
   "cell_type": "code",
   "execution_count": null,
   "metadata": {},
   "outputs": [],
   "source": [
    "exp_dir = '../data/doe/doe_lat_buckling_exp'\n",
    "\n",
    "if False:\n",
    "\n",
    "    doe_opts = {'spk_paired': False, 'spk_eltype': 'beam',\n",
    "                'sim_type': 'exp', 'sim_u3': 0.04, 'sim_alpha': 1e3}\n",
    "\n",
    "    doe = LateralBucklingDOE(out_dir=exp_dir)\n",
    "\n",
    "    # Create wheel\n",
    "    wheel = wheel_library.create_predefined_wheel('vintage_rd')\n",
    "\n",
    "    # Get buckling tension\n",
    "    Tc_theor, nc = bl.calc_buckling_tension(wheel)\n",
    "\n",
    "    for Tn in [0.0, 0.1, 0.2, 0.3, 0.4, 0.5, 0.6, 0.7, 0.8, 0.9, 0.95]:\n",
    "        jobname = 'Tn{:.2f}'.format(Tn)\n",
    "\n",
    "        wheel = wheel_library.create_predefined_wheel('vintage_rd')\n",
    "        \n",
    "        doe_opts.update({'jobname': jobname, 'spk_Tn': Tn, 'spk_T': Tn * Tc_theor})\n",
    "        doe.add_experiment(wheel, opts=doe_opts)\n",
    "\n",
    "    print('\\nCreated {0:d} simulations'.format(len(doe.db)))\n",
    "\n",
    "    doe.write_input_files(N_batches=3)\n",
    "    doe.to_csv()\n",
    "    \n",
    "    # Copy postprocessing script\n",
    "    copy2(src=find_module('doetools')[1] + '/postproc_lat_buckling.py',\n",
    "          dst=exp_dir)"
   ]
  },
  {
   "cell_type": "markdown",
   "metadata": {},
   "source": [
    "## ABAQUS Standard Riks"
   ]
  },
  {
   "cell_type": "code",
   "execution_count": null,
   "metadata": {},
   "outputs": [],
   "source": [
    "riks_dir = '../data/doe/doe_lat_buckling_riks'\n",
    "\n",
    "if True:\n",
    "\n",
    "    doe_opts = {'spk_paired': False, 'spk_eltype': 'beam',\n",
    "                'sim_type': 'riks', 'sim_u3': 0.06, 'sim_Pmax': 600.}\n",
    "\n",
    "    doe = LateralBucklingDOE(out_dir=riks_dir)\n",
    "\n",
    "    # Create wheel\n",
    "    wheel = wheel_library.create_predefined_wheel('vintage_rd')\n",
    "\n",
    "    # Get buckling tension\n",
    "    Tc_theor, nc = bl.calc_buckling_tension(wheel)\n",
    "\n",
    "    for Tn in [0.0, 0.1, 0.2, 0.3, 0.4, 0.5, 0.6, 0.7, 0.8, 0.9, 0.95]:\n",
    "        jobname = 'Tn{:.2f}'.format(Tn)\n",
    "        \n",
    "        wheel = wheel_library.create_predefined_wheel('vintage_rd')\n",
    "\n",
    "        doe_opts.update({'jobname': jobname, 'spk_Tn': Tn,'spk_T': Tn*Tc_theor})\n",
    "        doe.add_experiment(wheel, opts=doe_opts)\n",
    "\n",
    "    print('\\nCreated {0:d} simulations'.format(len(doe.db)))\n",
    "\n",
    "    doe.write_input_files(N_batches=4)\n",
    "    doe.to_csv()\n",
    "    \n",
    "    # Copy postprocessing script\n",
    "    copy2(src=find_module('doetools')[1] + '/postproc_lat_riks.py',\n",
    "          dst=riks_dir)"
   ]
  },
  {
   "cell_type": "markdown",
   "metadata": {},
   "source": [
    "## Plots"
   ]
  },
  {
   "cell_type": "code",
   "execution_count": null,
   "metadata": {},
   "outputs": [],
   "source": [
    "# Load DOE database\n",
    "print 'Loading database...'\n",
    "doe_r = LateralBucklingDOE(out_dir=riks_dir, db_file=riks_dir+'/_doe_db.csv')\n",
    "\n",
    "# Populate DOE database with results\n",
    "print 'Extracting results...'\n",
    "doe_r.extract_results()\n",
    "print '\\nDone'"
   ]
  },
  {
   "cell_type": "code",
   "execution_count": null,
   "metadata": {},
   "outputs": [],
   "source": [
    "cp = sns.color_palette('Reds', 6)\n",
    "\n",
    "with plt.style.context('seaborn-paper'):\n",
    "\n",
    "    fig, ax = plt.subplots(figsize=(3, 3))\n",
    "\n",
    "    j = 0\n",
    "    for i, r in doe.db[doe.db['spk_Tn'].between(0.1, 0.6)].iterrows():\n",
    "        pd_data = pd.read_csv(riks_dir + '/' + r.name + '_riks_Pd.csv')\n",
    "\n",
    "        u = pd_data['U3 [m]'] - pd_data['U3 [m]'][0]\n",
    "        P = pd_data['RF3 [N]']\n",
    "\n",
    "        ax.plot(pd_data['U3 [m]'] - pd_data['U3 [m]'][0], pd_data['RF3 [N]'],\n",
    "                color=cp[j],\n",
    "                label='{:.1f}'.format(r.spk_Tn))\n",
    "        j += 1\n",
    "\n",
    "        i_zero = np.where(np.diff(np.sign(P)))[0][1:]\n",
    "\n",
    "        ax.plot(u[i_zero], P[i_zero], 'k*', label='_nolegend_', markersize=8)\n",
    "\n",
    "    ax.set_xlim([0., 0.06])\n",
    "    ax.set_xlabel('Lateral displacement [mm]')\n",
    "    ax.set_ylabel('Lateral load [N]')\n",
    "\n",
    "    ax.set_ylim([-200., 600.])\n",
    "\n",
    "    plt.tight_layout()\n",
    "    # plt.savefig('../figs/buckling_ext_loads/_python_lat_riks.pdf')"
   ]
  },
  {
   "cell_type": "code",
   "execution_count": null,
   "metadata": {},
   "outputs": [],
   "source": []
  }
 ],
 "metadata": {
  "kernelspec": {
   "display_name": "Python 2",
   "language": "python",
   "name": "python2"
  },
  "language_info": {
   "codemirror_mode": {
    "name": "ipython",
    "version": 2
   },
   "file_extension": ".py",
   "mimetype": "text/x-python",
   "name": "python",
   "nbconvert_exporter": "python",
   "pygments_lexer": "ipython2",
   "version": "2.7.13"
  }
 },
 "nbformat": 4,
 "nbformat_minor": 1
}
