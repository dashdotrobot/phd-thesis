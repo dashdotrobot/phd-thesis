{
 "cells": [
  {
   "cell_type": "markdown",
   "metadata": {},
   "source": [
    "# Buckling under radial force: laterally restrained spokes"
   ]
  },
  {
   "cell_type": "code",
   "execution_count": null,
   "metadata": {},
   "outputs": [],
   "source": [
    "import bikewheellib as bl\n",
    "from doetools import RadialBucklingDOE, wheel_library\n",
    "from shutil import copy2\n",
    "from imp import find_module\n",
    "\n",
    "import numpy as np\n",
    "import pandas as pd\n",
    "import seaborn as sns\n",
    "import matplotlib.pyplot as plt\n",
    "import matplotlib as mpl\n",
    "\n",
    "%matplotlib inline"
   ]
  },
  {
   "cell_type": "code",
   "execution_count": null,
   "metadata": {},
   "outputs": [],
   "source": [
    "# Set default colors\n",
    "mpl.rcParams['axes.prop_cycle'] = mpl.cycler(color=['#1f77b4', '#ff7f0e', '#2ca02c', '#d62728',\n",
    "                                                    '#9467bd', '#8c564b', '#e377c2', '#7f7f7f',\n",
    "                                                    '#bcbd22', '#17becf'])"
   ]
  },
  {
   "cell_type": "markdown",
   "metadata": {},
   "source": [
    "## Truss spokes (no spoke buckling), paired spokes"
   ]
  },
  {
   "cell_type": "code",
   "execution_count": null,
   "metadata": {},
   "outputs": [],
   "source": [
    "truss_dir = '../data/doe/doe_rad_buckling_truss'\n",
    "\n",
    "if True:\n",
    "    doe = RadialBucklingDOE(out_dir=truss_dir,\n",
    "                            opts={'spk_paired': True,\n",
    "                                  'spk_eltype': 'truss',\n",
    "                                  'sim_type': 'exp',\n",
    "                                  'sim_u2': 'auto',\n",
    "                                  'rim_perturb': [0.01e-3, 0.01e-3, 0.01e-3]})\n",
    "\n",
    "    wheel_types = ['cheap_MTB', 'vintage_rd', 'racing_700',\n",
    "                   'folding', 'track', 'tandem', 'high_wheel']\n",
    "\n",
    "    for w_type in wheel_types:\n",
    "        \n",
    "        wheel = wheel_library.create_predefined_wheel(w_type)\n",
    "        wheel_library.convert_to_paired(wheel)\n",
    "        \n",
    "        Tc, nc = bl.calc_buckling_tension(wheel)\n",
    "\n",
    "        for Tn in [0.0, 0.10, 0.2, 0.3, 0.4, 0.5, 0.6, 0.7, 0.8, 0.9, 0.95]:\n",
    "            \n",
    "            wheel.apply_tension(Tn*Tc)\n",
    "            \n",
    "            jobname = '{:s}_{:.2f}'.format(w_type, Tn)\n",
    "            doe.add_experiment(wheel, opts={'jobname': jobname,\n",
    "                                            'wheel_type': w_type,\n",
    "                                            'spk_Tn': Tn,\n",
    "                                            'spk_T': Tn * Tc})\n",
    "\n",
    "    print('\\nCreated {0:d} simulations'.format(len(doe.db)))\n",
    "\n",
    "    doe.write_input_files(N_batches=4)\n",
    "    doe.to_csv()\n",
    "    \n",
    "    # Copy postprocessing script\n",
    "    copy2(src=find_module('doetools')[1] + '/postproc_rad_buckling.py',\n",
    "          dst=truss_dir)"
   ]
  },
  {
   "cell_type": "code",
   "execution_count": null,
   "metadata": {},
   "outputs": [],
   "source": [
    "# Load DOE database\n",
    "print 'Loading database...'\n",
    "doe_t = RadialBucklingDOE(out_dir=truss_dir, db_file=truss_dir+'/_doe_db.csv')\n",
    "\n",
    "# Populate DOE database with results\n",
    "print 'Extracting results...'\n",
    "doe_t.extract_results()\n",
    "print '\\nDone'"
   ]
  },
  {
   "cell_type": "code",
   "execution_count": null,
   "metadata": {},
   "outputs": [],
   "source": [
    "# Calculate lateral stiffness for each wheel\n",
    "doe_t.db['K_lat'] = doe_t.db.apply(lambda x: \n",
    "                                   bl.lateral_stiffness(doe_t.wheel_from_row(x),\n",
    "                                                        tension=x['spk_T']),\n",
    "                                   axis=1)\n",
    "\n",
    "# Calculate P_c, normalized by P_c(T = 0)\n",
    "f = lambda r: r['Pc_nonlin'] / doe_t.db[(doe_t.db['wheel_type'] == r['wheel_type']) &\n",
    "                                   (doe_t.db['spk_Tn'] == 0.0)]['Pc_nonlin'][0]\n",
    "\n",
    "doe_t.db['Pc_norm'] = doe_t.db.apply(f, axis=1)"
   ]
  },
  {
   "cell_type": "code",
   "execution_count": null,
   "metadata": {},
   "outputs": [],
   "source": [
    "cp = sns.color_palette('Reds', 5)\n",
    "\n",
    "with plt.style.context('seaborn-paper'):\n",
    "    fig, ax = plt.subplots(ncols=3, figsize=(6.5, 2.17))\n",
    "\n",
    "    d = doe_t.db[(doe_t.db['wheel_type'] == 'vintage_rd') & doe_t.db['spk_Tn'].isin([0.2, 0.4, 0.6, 0.8, 0.95])]\n",
    "    \n",
    "    c = 0\n",
    "    for i, r in d.iterrows():\n",
    "        pd_data = pd.read_csv(truss_dir + '/' + r.name + '_collapse_Pd.csv')\n",
    "\n",
    "        ax[0].plot(np.abs(1000*pd_data['U3 [m]']), np.abs(0.001*pd_data['RF2 [N]']), color=cp[c])\n",
    "        c = c + 1\n",
    "\n",
    "    ax[0].set_xlim([0., 8.])\n",
    "    ax[0].set_ylim([0., 25.])\n",
    "    ax[0].set_xticks([0, 2, 4, 6, 8])\n",
    "    ax[0].set_yticks([0, 5, 10, 15, 20, 25])\n",
    "\n",
    "    ax[0].set_xlabel('Lateral displacement [mm]')\n",
    "    ax[0].set_ylabel('Radial load [kN]')\n",
    "    \n",
    "    mrk = ['o', '*', 'd', 's', '^', 'p', 'v']\n",
    "\n",
    "    type_order = doe_t.db[['wheel_type', 'Pc_nb']].groupby('wheel_type').max().sort_values(by='Pc_nb').index\n",
    "\n",
    "    for i, t in enumerate(type_order):\n",
    "        d = doe_t.db[doe_t.db['wheel_type'] == t]\n",
    "        ax[1].plot(d['rim_radius']*d['K_lat']/1000,\n",
    "                   d['Pc_nonlin']/1000, mrk[i],\n",
    "                   label=t.replace('_', ' '))\n",
    "\n",
    "    ax[1].plot([0., 100.], [0., 100.], 'k--')\n",
    "\n",
    "    ax[1].axis([0., 100., 0., 100.])\n",
    "    ax[1].set_xlabel(r'\\$K_{lat} R\\$ [kN]')\n",
    "    ax[1].set_ylabel(r'\\$P_c\\$ [kN]')\n",
    "\n",
    "    ax[1].legend(loc='best')\n",
    "    \n",
    "    \n",
    "    by_Tn = doe_t.db[['spk_Tn', 'Pc_norm']].groupby('spk_Tn')\n",
    "\n",
    "    (_, caps, _) = ax[2].errorbar(by_Tn.mean().index,\n",
    "                                  by_Tn.mean()['Pc_norm'],\n",
    "                                  yerr=by_Tn.std()['Pc_norm'],\n",
    "                                  fmt='o', capsize=3, label='FEA')\n",
    "\n",
    "    for cap in caps:\n",
    "        cap.set_markeredgewidth(1)\n",
    "\n",
    "    xx = np.linspace(0, 1, 20)\n",
    "    ax[2].plot([0., 1.], [1., 0.], 'k--', label='linear')\n",
    "    ax[2].plot(xx, 1 - xx**2, 'k-.', label='quadratic')\n",
    "\n",
    "    ax[2].set_xlim([0., 1.])\n",
    "    ax[2].set_xlabel(r'\\$T/T_c\\$')\n",
    "    ax[2].set_ylabel(r'\\$P_c/P_{c,0}\\$')\n",
    "    \n",
    "    \n",
    "    plt.tight_layout()\n",
    "    plt.savefig('../figs/buckling_ext_loads/_python_rad_buckling.pdf')"
   ]
  },
  {
   "cell_type": "code",
   "execution_count": null,
   "metadata": {},
   "outputs": [],
   "source": []
  }
 ],
 "metadata": {
  "kernelspec": {
   "display_name": "Python [default]",
   "language": "python",
   "name": "python2"
  },
  "language_info": {
   "codemirror_mode": {
    "name": "ipython",
    "version": 2
   },
   "file_extension": ".py",
   "mimetype": "text/x-python",
   "name": "python",
   "nbconvert_exporter": "python",
   "pygments_lexer": "ipython2",
   "version": "2.7.14"
  }
 },
 "nbformat": 4,
 "nbformat_minor": 1
}
