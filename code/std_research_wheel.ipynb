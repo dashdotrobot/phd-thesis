{
 "cells": [
  {
   "cell_type": "markdown",
   "metadata": {},
   "source": [
    "# Standard Research Wheel Properties"
   ]
  },
  {
   "cell_type": "code",
   "execution_count": null,
   "metadata": {},
   "outputs": [],
   "source": [
    "import numpy as np"
   ]
  },
  {
   "cell_type": "markdown",
   "metadata": {},
   "source": [
    "## Double-butted spokes"
   ]
  },
  {
   "cell_type": "code",
   "execution_count": null,
   "metadata": {},
   "outputs": [],
   "source": [
    "d_thick = 0.00199\n",
    "d_thin = 0.00172\n",
    "l_thin = 0.205\n",
    "l_tot = 0.275\n",
    "\n",
    "E = 210e9\n",
    "\n",
    "d_eff = np.sqrt(l_tot/(l_thin/d_thin**2 + (l_tot - l_thin)/d_thick**2))\n",
    "\n",
    "print 'd_eff =  {:4.2f} [mm]'.format(d_eff*1000)\n",
    "print 'EA_eff = {:4.0f} [kN]'.format(E*np.pi/4*d_eff**2 / 1000)"
   ]
  },
  {
   "cell_type": "markdown",
   "metadata": {},
   "source": [
    "## Rim"
   ]
  },
  {
   "cell_type": "code",
   "execution_count": null,
   "metadata": {},
   "outputs": [],
   "source": [
    "m_rim = 0.538    # [kg]\n",
    "rho_rim = 2700.  # [kg/m^3] (aluminum)\n",
    "R = 0.304        # [m]\n",
    "\n",
    "A_rim = m_rim / (2*np.pi*2700.*0.304)\n",
    "\n",
    "print 'A = {:.0f} mm^2'.format(A_rim * 1e6)"
   ]
  }
 ],
 "metadata": {
  "kernelspec": {
   "display_name": "Python 3",
   "language": "python",
   "name": "python3"
  },
  "language_info": {
   "codemirror_mode": {
    "name": "ipython",
    "version": 3
   },
   "file_extension": ".py",
   "mimetype": "text/x-python",
   "name": "python",
   "nbconvert_exporter": "python",
   "pygments_lexer": "ipython3",
   "version": "3.7.0"
  }
 },
 "nbformat": 4,
 "nbformat_minor": 2
}
