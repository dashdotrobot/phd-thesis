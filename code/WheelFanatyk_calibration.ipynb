{
 "cells": [
  {
   "cell_type": "code",
   "execution_count": 1,
   "metadata": {},
   "outputs": [],
   "source": [
    "import numpy as np\n",
    "import pandas as pd\n",
    "import seaborn as sns\n",
    "import matplotlib.pyplot as plt\n",
    "\n",
    "pd.set_option('precision', 1)\n",
    "\n",
    "%matplotlib inline"
   ]
  },
  {
   "cell_type": "code",
   "execution_count": 2,
   "metadata": {},
   "outputs": [],
   "source": [
    "d = []\n",
    "r = []\n",
    "defl = np.arange(0.2, 0.86, 0.05)\n",
    "\n",
    "d.append(0.90)\n",
    "r.append([2281, 1764, 1429, 1197, 1026, 896, 793, 711, 643, 586, 538, 497, 461, 430])\n",
    "\n",
    "d.append(0.95)\n",
    "r.append([2185, 1672, 1344, 1117, 952, 826, 728, 650, 585, 532, 487, 448, 415, 385])\n",
    "\n",
    "d.append(1.2)\n",
    "r.append([2011, 1679, 1406, 1185, 1009, 869, 760, 675, 609, 558, 517, 483, 453, 425])\n",
    "\n",
    "d.append(1.5)\n",
    "r.append([2185, 1672, 1344, 1117, 952, 826, 728, 650, 585, 532, 487, 448, 415, 385])\n",
    "\n",
    "d.append(1.7)\n",
    "r.append([1863, 1501, 1219, 1002, 838, 714, 619, 546, 487, 436, 390, 347, 305, 266])\n",
    "\n",
    "d.append(1.8)\n",
    "r.append([1837, 1455, 1168, 956, 799, 682, 592, 519, 455, 396, 339, 285, 238, 205])\n",
    "\n",
    "d.append(2.0)\n",
    "r.append([1813, 1401, 1100, 884, 729, 617, 531, 461, 398, 339, 284, 237, 204, 198])\n",
    "\n",
    "\n",
    "df = pd.DataFrame()\n",
    "\n",
    "for dd, rr in zip(d, r):\n",
    "    df = df.append(pd.DataFrame({'diam': dd,\n",
    "                                 'T': rr,\n",
    "                                 'defl': defl[:len(rr)]}), ignore_index=True)\n",
    "\n",
    "df['d_inv'] = 1.0 / df['defl']"
   ]
  },
  {
   "cell_type": "code",
   "execution_count": 3,
   "metadata": {},
   "outputs": [
    {
     "data": {
      "text/html": [
       "<div>\n",
       "<style scoped>\n",
       "    .dataframe tbody tr th:only-of-type {\n",
       "        vertical-align: middle;\n",
       "    }\n",
       "\n",
       "    .dataframe tbody tr th {\n",
       "        vertical-align: top;\n",
       "    }\n",
       "\n",
       "    .dataframe thead th {\n",
       "        text-align: right;\n",
       "    }\n",
       "</style>\n",
       "<table border=\"1\" class=\"dataframe\">\n",
       "  <thead>\n",
       "    <tr style=\"text-align: right;\">\n",
       "      <th>diam</th>\n",
       "      <th>0.9</th>\n",
       "      <th>0.95</th>\n",
       "      <th>1.2</th>\n",
       "      <th>1.5</th>\n",
       "      <th>1.7</th>\n",
       "      <th>1.8</th>\n",
       "      <th>2.0</th>\n",
       "    </tr>\n",
       "  </thead>\n",
       "  <tbody>\n",
       "    <tr>\n",
       "      <th>a</th>\n",
       "      <td>480.8</td>\n",
       "      <td>466.4</td>\n",
       "      <td>434.1</td>\n",
       "      <td>466.4</td>\n",
       "      <td>423.5</td>\n",
       "      <td>428.2</td>\n",
       "      <td>427.2</td>\n",
       "    </tr>\n",
       "    <tr>\n",
       "      <th>b</th>\n",
       "      <td>-156.8</td>\n",
       "      <td>-189.8</td>\n",
       "      <td>-93.3</td>\n",
       "      <td>-189.8</td>\n",
       "      <td>-219.4</td>\n",
       "      <td>-273.6</td>\n",
       "      <td>-323.5</td>\n",
       "    </tr>\n",
       "  </tbody>\n",
       "</table>\n",
       "</div>"
      ],
      "text/plain": [
       "diam    0.9    0.9    1.2    1.5    1.7    1.8    2.0\n",
       "a     480.8  466.4  434.1  466.4  423.5  428.2  427.2\n",
       "b    -156.8 -189.8  -93.3 -189.8 -219.4 -273.6 -323.5"
      ]
     },
     "execution_count": 3,
     "metadata": {},
     "output_type": "execute_result"
    }
   ],
   "source": [
    "a = df.groupby('diam').apply(lambda x: np.polyfit(x['d_inv'], x['T'], 1)[0])\n",
    "b = df.groupby('diam').apply(lambda x: np.polyfit(x['d_inv'], x['T'], 1)[1])\n",
    "\n",
    "pd.concat([a, b], keys={'a', 'b'}, axis=1).transpose()"
   ]
  }
 ],
 "metadata": {
  "anaconda-cloud": {},
  "kernelspec": {
   "display_name": "Python [default]",
   "language": "python",
   "name": "python2"
  },
  "language_info": {
   "codemirror_mode": {
    "name": "ipython",
    "version": 2
   },
   "file_extension": ".py",
   "mimetype": "text/x-python",
   "name": "python",
   "nbconvert_exporter": "python",
   "pygments_lexer": "ipython2",
   "version": "2.7.14"
  }
 },
 "nbformat": 4,
 "nbformat_minor": 2
}
