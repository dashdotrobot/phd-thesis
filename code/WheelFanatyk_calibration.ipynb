{
 "cells": [
  {
   "cell_type": "code",
   "execution_count": 16,
   "metadata": {},
   "outputs": [],
   "source": [
    "import numpy as np\n",
    "import pandas as pd\n",
    "import seaborn as sns\n",
    "import matplotlib.pyplot as plt\n",
    "\n",
    "%matplotlib inline"
   ]
  },
  {
   "cell_type": "code",
   "execution_count": 7,
   "metadata": {},
   "outputs": [],
   "source": [
    "d = []\n",
    "r = []\n",
    "defl = np.arange(0.2, 0.86, 0.05)\n",
    "\n",
    "d.append(0.90)\n",
    "r.append([2281, 1764, 1429, 1197, 1026, 896, 793, 711, 643, 586, 538, 497, 461, 430])\n",
    "\n",
    "d.append(0.95)\n",
    "r.append([2185, 1672, 1344, 1117, 952, 826, 728, 650, 585, 532, 487, 448, 415, 385])\n",
    "\n",
    "d.append(1.2)\n",
    "r.append([2011, 1679, 1406, 1185, 1009, 869, 760, 675, 609, 558, 517, 483, 453, 425])\n",
    "\n",
    "d.append(1.5)\n",
    "r.append([2185, 1672, 1344, 1117, 952, 826, 728, 650, 585, 532, 487, 448, 415, 385])\n",
    "\n",
    "d.append(1.7)\n",
    "r.append([1863, 1501, 1219, 1002, 838, 714, 619, 546, 487, 436, 390, 347, 305, 266])\n",
    "\n",
    "d.append(1.8)\n",
    "r.append([1837, 1455, 1168, 956, 799, 682, 592, 519, 455, 396, 339, 285, 238, 205])\n",
    "\n",
    "d.append(2.0)\n",
    "r.append([1813, 1401, 1100, 884, 729, 617, 531, 461, 398, 339, 284, 237, 204, 198])"
   ]
  },
  {
   "cell_type": "code",
   "execution_count": 20,
   "metadata": {},
   "outputs": [],
   "source": [
    "df = pd.DataFrame()\n",
    "\n",
    "for dd, rr in zip(d, r):\n",
    "    df = df.append(pd.DataFrame({'diam': dd,\n",
    "                                 'T': rr,\n",
    "                                 'defl': defl[:len(rr)]}), ignore_index=True)\n",
    "\n",
    "df['d_inv'] = 1.0 / df['defl']"
   ]
  },
  {
   "cell_type": "code",
   "execution_count": null,
   "metadata": {},
   "outputs": [],
   "source": []
  }
 ],
 "metadata": {
  "anaconda-cloud": {},
  "kernelspec": {
   "display_name": "Python [default]",
   "language": "python",
   "name": "python2"
  },
  "language_info": {
   "codemirror_mode": {
    "name": "ipython",
    "version": 2
   },
   "file_extension": ".py",
   "mimetype": "text/x-python",
   "name": "python",
   "nbconvert_exporter": "python",
   "pygments_lexer": "ipython2",
   "version": "2.7.14"
  }
 },
 "nbformat": 4,
 "nbformat_minor": 2
}
