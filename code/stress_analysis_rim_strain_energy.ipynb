{
 "cells": [
  {
   "cell_type": "code",
   "execution_count": null,
   "metadata": {},
   "outputs": [],
   "source": [
    "import numpy as np\n",
    "from sympy import *\n",
    "from bikewheelcalc import BicycleWheel\n",
    "from IPython.display import display\n",
    "\n",
    "init_printing()"
   ]
  },
  {
   "cell_type": "code",
   "execution_count": null,
   "metadata": {},
   "outputs": [],
   "source": [
    "# setup symbols\n",
    "s = symbols('s', real=True)\n",
    "x, y = symbols('x y', real=True)\n",
    "a = symbols('alpha', real=True)  # warping function\n",
    "\n",
    "# deformation\n",
    "u = Function('u')\n",
    "v = Function('v')\n",
    "w = Function('w')\n",
    "phi = Function('phi')\n",
    "\n",
    "# rim properties\n",
    "R, E, G, A, I1, I2, J, Iw, mu, rx, ry, y0 = symbols('R E G A I_1 I_2 J I_w mu r_x r_y y_0',\n",
    "                                                   real=True, finite=True,\n",
    "                                                   positive=True)\n",
    "\n",
    "tw = symbols('t_w', real=True)  # wall thickness of beam section\n",
    "\n",
    "t = symbols('t', real=true)  # Average net radial pull per unit length"
   ]
  },
  {
   "cell_type": "code",
   "execution_count": null,
   "metadata": {},
   "outputs": [],
   "source": [
    "up = u(s).diff(s)\n",
    "upp = u(s).diff(s, 2)\n",
    "\n",
    "vp = v(s).diff(s)\n",
    "vpp = v(s).diff(s, 2)\n",
    "\n",
    "wp = w(s).diff(s)\n",
    "wpp = w(s).diff(s, 2)\n",
    "\n",
    "phip = phi(s).diff(s)\n",
    "phipp = phi(s).diff(s, 2)\n",
    "\n",
    "# Rotation vector\n",
    "w1 = vp + w(s)/R\n",
    "w2 = up\n",
    "w3 = phi(s)\n",
    "\n",
    "# Displacement field\n",
    "u_xy = u(s) - w3*x + w2*(y-y0)\n",
    "v_xy = v(s) + w3*x\n",
    "w_xy = w(s) + (phip - up/R)*a -w2*x + w1*(y-y0)\n",
    "\n",
    "# Longitudinal strain\n",
    "e33 = w_xy.diff(s) - v_xy/R\n",
    "\n",
    "# Shear strain (linearized)\n",
    "g_shr = -2*tw*( (phip - up/R) )\n",
    "\n",
    "display(e33)\n",
    "display(g_shr)"
   ]
  },
  {
   "cell_type": "code",
   "execution_count": null,
   "metadata": {},
   "outputs": [],
   "source": [
    "# Total Potential Energy (must be integrated over cross-section)\n",
    "u_T = (E*e33**2 + G*g_shr**2).expand()\n",
    "\n",
    "# Remove all terms that depend linearly on x or y\n",
    "u_T_0 = A*u_T.subs([(x, 0), (y, 0), (a, 0), (tw, 0)])\n",
    "u_T_w = Iw*Poly(u_T, a).coeffs()[0]\n",
    "u_T_t = J*Poly(u_T, tw).coeffs()[0]\n",
    "u_T_Ix = I2*Poly(u_T, x).coeffs()[0]\n",
    "u_T_Iy = I1*Poly(u_T, y).coeffs()[0]"
   ]
  },
  {
   "cell_type": "code",
   "execution_count": null,
   "metadata": {},
   "outputs": [],
   "source": [
    "u_T_0.expand().collect(y0)"
   ]
  },
  {
   "cell_type": "markdown",
   "metadata": {},
   "source": [
    "The expression above is equal to\n",
    "\n",
    "$$EA \\left [ \\left(w' - \\frac{v}{R} \\right) - y_0\\left(v'' + \\frac{w'}{R}\\right) \\right ]^2$$"
   ]
  },
  {
   "cell_type": "code",
   "execution_count": null,
   "metadata": {},
   "outputs": [],
   "source": [
    "u_T_t"
   ]
  },
  {
   "cell_type": "markdown",
   "metadata": {},
   "source": [
    "With $J=\\int t_w^2 dA$, the expression above is equal to\n",
    "\n",
    "$$GJ \\left(\\phi' - \\frac{u'}{R} \\right)^2$$"
   ]
  },
  {
   "cell_type": "code",
   "execution_count": null,
   "metadata": {},
   "outputs": [],
   "source": [
    "u_T_w"
   ]
  },
  {
   "cell_type": "markdown",
   "metadata": {},
   "source": [
    "With $I_w=\\int \\alpha^2 dA$, the expression above is equal to\n",
    "\n",
    "$$EI_w \\left( \\phi'' - \\frac{u''}{R} \\right)^2$$"
   ]
  },
  {
   "cell_type": "code",
   "execution_count": null,
   "metadata": {},
   "outputs": [],
   "source": [
    "u_T_Ix"
   ]
  },
  {
   "cell_type": "markdown",
   "metadata": {},
   "source": [
    "With $I_2 = \\int x^2 dA$, the expression above is equal to\n",
    "\n",
    "$$EI_2 \\left(u'' + \\frac{\\phi}{R} \\right)^2$$"
   ]
  },
  {
   "cell_type": "code",
   "execution_count": null,
   "metadata": {},
   "outputs": [],
   "source": [
    "u_T_Iy"
   ]
  },
  {
   "cell_type": "markdown",
   "metadata": {},
   "source": [
    "With $I_1=\\int y^2 dA$, the expression above is equal to\n",
    "\n",
    "$$EI_1 \\left(v'' + \\frac{w'}{R} \\right)^2$$"
   ]
  },
  {
   "cell_type": "code",
   "execution_count": null,
   "metadata": {},
   "outputs": [],
   "source": []
  }
 ],
 "metadata": {
  "kernelspec": {
   "display_name": "Python 3",
   "language": "python",
   "name": "python3"
  },
  "language_info": {
   "codemirror_mode": {
    "name": "ipython",
    "version": 3
   },
   "file_extension": ".py",
   "mimetype": "text/x-python",
   "name": "python",
   "nbconvert_exporter": "python",
   "pygments_lexer": "ipython3",
   "version": "3.7.0"
  }
 },
 "nbformat": 4,
 "nbformat_minor": 1
}
