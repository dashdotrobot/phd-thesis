{
 "cells": [
  {
   "cell_type": "code",
   "execution_count": null,
   "metadata": {},
   "outputs": [],
   "source": [
    "import numpy as np\n",
    "from wheel_library import wheel_from_name\n",
    "from bikewheelcalc import ModeMatrix\n",
    "from IPython.display import display\n",
    "\n",
    "import matplotlib.pyplot as plt\n",
    "\n",
    "%matplotlib inline"
   ]
  },
  {
   "cell_type": "code",
   "execution_count": null,
   "metadata": {},
   "outputs": [],
   "source": [
    "# Radial-spoked wheel\n",
    "wh0 = wheel_from_name('std_elbows_in')\n",
    "wh0.apply_tension(0.01)\n",
    "rr0 = ModeMatrix(wh0, N=36)\n",
    "\n",
    "K = rr0.K_rim(buckling=False) + rr0.K_spk(smeared_spokes=True)\n",
    "F_ext = rr0.F_ext(f_theta=[0., np.pi],\n",
    "                  f=np.array([[0., 0., -1., 0.], [0., 0., 1., 0.]]))\n",
    "\n",
    "dm0 = np.linalg.solve(K, F_ext)\n",
    "\n",
    "th = np.linspace(0., 2*np.pi, 100)\n",
    "v0 = rr0.B_theta(theta=th, comps=[1]).dot(dm0)\n",
    "w0 = rr0.B_theta(theta=th, comps=[2]).dot(dm0)\n",
    "\n",
    "\n",
    "# 3-cross wheel\n",
    "wh3 = wheel_from_name('std_elbows_in')\n",
    "wh3.lace_cross(n_spokes=len(wh3.spokes), n_cross=3,\n",
    "               diameter=wh3.spokes[0].diameter, young_mod=wh3.spokes[0].young_mod)\n",
    "wh3.apply_tension(0.01)\n",
    "rr3 = ModeMatrix(wh3, N=36)\n",
    "\n",
    "K3 = rr3.K_rim(buckling=False) + rr3.K_spk(smeared_spokes=False)\n",
    "F_ext3 = rr3.F_ext(f_theta=[0., np.pi],\n",
    "                   f=np.array([[0., 0., -1., 0.], [0., 0., 1., 0.]]))\n",
    "\n",
    "dm3 = np.linalg.solve(K3, F_ext3)\n",
    "\n",
    "th = np.linspace(0., 2*np.pi, 100)\n",
    "v3 = rr3.B_theta(theta=th, comps=[1]).dot(dm3)\n",
    "w3 = rr3.B_theta(theta=th, comps=[2]).dot(dm3)"
   ]
  },
  {
   "cell_type": "code",
   "execution_count": null,
   "metadata": {},
   "outputs": [],
   "source": [
    "fig, ax = plt.subplots(ncols=2, figsize=(8, 4))\n",
    "\n",
    "ax[0].set_title('Radial spokes')\n",
    "ax[0].plot(th, v0 / np.max(w0), label='radial');\n",
    "ax[0].plot(th, w0 / np.max(w0), label='tangential');\n",
    "\n",
    "ax[1].set_title('3-cross spokes')\n",
    "ax[1].plot(th, v3 / np.max(w0))\n",
    "ax[1].plot(th, w3 / np.max(w0))\n",
    "\n",
    "for a in ax:\n",
    "    a.set_xlim([0., 2*np.pi]);\n",
    "    a.set_xticks([])\n",
    "    a.set_xlabel(r'$\\theta$')\n",
    "    a.set_ylim([-1.3, 1.3])\n",
    "    \n",
    "ax[0].set_ylabel('Normalized displacement')\n",
    "ax[0].legend();"
   ]
  },
  {
   "cell_type": "code",
   "execution_count": null,
   "metadata": {},
   "outputs": [],
   "source": []
  }
 ],
 "metadata": {
  "anaconda-cloud": {},
  "kernelspec": {
   "display_name": "Python 3",
   "language": "python",
   "name": "python3"
  },
  "language_info": {
   "codemirror_mode": {
    "name": "ipython",
    "version": 3
   },
   "file_extension": ".py",
   "mimetype": "text/x-python",
   "name": "python",
   "nbconvert_exporter": "python",
   "pygments_lexer": "ipython3",
   "version": "3.7.0"
  }
 },
 "nbformat": 4,
 "nbformat_minor": 1
}
