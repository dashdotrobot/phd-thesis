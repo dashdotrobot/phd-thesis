{
 "cells": [
  {
   "cell_type": "code",
   "execution_count": null,
   "metadata": {},
   "outputs": [],
   "source": [
    "from sympy import *\n",
    "import numpy as np\n",
    "import pandas as pd\n",
    "from IPython.display import display\n",
    "\n",
    "init_printing()"
   ]
  },
  {
   "cell_type": "markdown",
   "metadata": {},
   "source": [
    "# Spoke stiffness matrix\n",
    "Linearized force applied to the rim by a single spoke. The spoke is fixed at the hub end and the nipple end displaces by an amount $u_n$. Spoke orientation is described by unit vectors $\\hat{n}_1$ along the axis and two mutually orthogonal unit vectors $\\hat{n}_2, \\hat{n}_3$.\n",
    "\n",
    "Linearized elongation of the spoke is\n",
    "\n",
    "$\\Delta l = u_n \\cdot \\hat{n}_1$\n",
    "\n",
    "Linearized rotation angle of the spoke is\n",
    "\n",
    "$\\Omega_1 = \\frac{u_n\\cdot \\hat{n}_2}{l}$, \n",
    "$\\Omega_2 = \\frac{u_n\\cdot \\hat{n}_3}{l}$\n",
    "\n",
    "Hooke's law gives the change in axial force, while the rotation of the spoke direction produces transverse forces:\n",
    "\n",
    "$f_1 = \\frac{EA}{l}\\Delta l = \\frac{EA}{l} u_n \\cdot \\hat{n}_1$\n",
    "\n",
    "$f_2 = \\frac{T}{l} \\sin{\\Omega_1} = \\frac{T}{l} u_n \\cdot \\hat{n}_2$\n",
    "\n",
    "$f_3 = \\frac{T}{l} \\sin{\\Omega_2} = \\frac{T}{l} u_n \\cdot \\hat{n}_3$\n",
    "\n",
    "Finally, the vector force is\n",
    "\n",
    "$\\mathbf{f} = f_1 \\hat{n}_1 + f_2 \\hat{n}_2 + f_3 \\hat{n}_3$\n",
    "\n",
    "$\\mathbf{f} = \\left( \\frac{EA}{l} \\hat{n}_1\\hat{n}_1 + \\frac{T}{l} [\\hat{n}_2\\hat{n}_2 + \\hat{n}_3\\hat{n}_3] \\right) \\cdot u_n$"
   ]
  },
  {
   "cell_type": "code",
   "execution_count": null,
   "metadata": {},
   "outputs": [],
   "source": [
    "# spoke angles and properties\n",
    "a, b = symbols('alpha beta', real=True)\n",
    "c1, c2, c3 = symbols('c_1 c_2 c_3', real=True)\n",
    "T, ks, ls, ns, R = symbols('T k_s l_s n_s R', real=True, positive=True)\n",
    "\n",
    "# spoke unit vector components (u,v,w)\n",
    "n0 = Matrix([c1, c2, c3])\n",
    "\n",
    "# stiffness matrix for a single spoke\n",
    "k_f = (ks - T/ls)*n0*n0.T + T/ls*eye(3)\n",
    "\n",
    "k_f"
   ]
  },
  {
   "cell_type": "markdown",
   "metadata": {
    "collapsed": true
   },
   "source": [
    "# Torque and spoke nipple offset\n",
    "The displacement of the spoke nipple $u_n$ is related to the displacement of the rim shear center $u$ by\n",
    "\n",
    "$u_n = u + \\phi \\hat{e}_3 \\times b_s$\n",
    "\n",
    "where $\\hat{e}_3$ is the unit vector along the beam axis and $b_s$ is the position of the spoke nipple relative to the rim shear center."
   ]
  },
  {
   "cell_type": "code",
   "execution_count": null,
   "metadata": {},
   "outputs": [],
   "source": [
    "u, phi = symbols('u phi', real=true)\n",
    "b1, b2 = symbols('b_1 b_2', real=true)\n",
    "\n",
    "e3 = Matrix([0, 0, 1])\n",
    "bs = Matrix([b1, b2, 0])\n",
    "\n",
    "dTau_dphi = bs.cross(e3).T * k_f * bs.cross(e3)\n",
    "df_dphi = k_f.dot(e3.cross(bs))\n",
    "\n",
    "display(df_dphi)\n",
    "\n",
    "k_s = zeros(4, 4)\n",
    "k_s[0:3, 0:3] = k_f\n",
    "k_s[0:3, 3] = df_dphi\n",
    "\n",
    "k_s[3, 0] = df_dphi[0]\n",
    "k_s[3, 1] = df_dphi[1]\n",
    "k_s[3, 2] = df_dphi[2]\n",
    "\n",
    "k_s[3, 3] = dTau_dphi\n",
    "\n",
    "display(k_s)"
   ]
  },
  {
   "cell_type": "markdown",
   "metadata": {},
   "source": [
    "# Continuum stiffness\n",
    "The continuum stiffness per unit length is obtained by summing the components of the spoke stiffnes matrix in a cylindrical frame for all the spokes in a single periodic grouping and dividing by the arc length of the group\n",
    "\n",
    "$\\bar{k}_{spokes} = \\frac{n_s}{2\\pi R n_p} \\sum_{i=1}^{n_p} k_{s, i}$"
   ]
  },
  {
   "cell_type": "markdown",
   "metadata": {},
   "source": [
    "# Special cases\n",
    "## radial spokes, no offset\n",
    "$b_1 = b_2 = c_3 = 0$"
   ]
  },
  {
   "cell_type": "code",
   "execution_count": null,
   "metadata": {},
   "outputs": [],
   "source": [
    "# Find net radial tension per unit length\n",
    "k_cont = ns/(4*pi*R) * (k_s.subs([(c1, c1), (c3, 0), (b1, 0), (b2, 0)]) +\\\n",
    "    k_s.subs([(c1, -c1), (c3, 0), (b1, 0), (b2, 0)]))\n",
    "\n",
    "simplify(k_cont)"
   ]
  },
  {
   "cell_type": "markdown",
   "metadata": {},
   "source": [
    "## radial spokes, z-offset, no radial offset\n",
    "$b_2 = c_3 = 0, b_1 = \\pm d$"
   ]
  },
  {
   "cell_type": "code",
   "execution_count": null,
   "metadata": {},
   "outputs": [],
   "source": [
    "d = symbols('d', real=true)\n",
    "k_cont = ns/(4*pi*R) * (k_s.subs([(c1, c1), (c3, 0), (b1, d), (b2, 0)]) +\n",
    "                        k_s.subs([(c1, -c1), (c3, 0), (b1, -d), (b2, 0)]))\n",
    "\n",
    "simplify(k_cont)"
   ]
  },
  {
   "cell_type": "markdown",
   "metadata": {
    "collapsed": true
   },
   "source": [
    "## Symmetric-dished n-cross\n",
    "$b_1=b_2=0, c_1=\\pm c_1, c_3=\\pm c_3$"
   ]
  },
  {
   "cell_type": "code",
   "execution_count": null,
   "metadata": {},
   "outputs": [],
   "source": [
    "k_cont = ns/(8*pi*R) * (k_s.subs([(c1, c1), (c3, c3), (b1, 0), (b2, 0)]) +\n",
    "                        k_s.subs([(c1, -c1), (c3, c3), (b1, 0), (b2, 0)]) +\n",
    "                        k_s.subs([(c1, c1), (c3, -c3), (b1, 0), (b2, 0)]) +\n",
    "                        k_s.subs([(c1, -c1), (c3, -c3), (b1, 0), (b2, 0)]))\n",
    "\n",
    "simplify(k_cont * 2*pi*R/ns)"
   ]
  },
  {
   "cell_type": "markdown",
   "metadata": {},
   "source": [
    "## Asymmetric-dished n-cross with arbitrary spoke offset\n",
    "$c_1 = +c_{1l}, -c_{1r}$\n",
    "\n",
    "$c_2= +c_{2l}, +c_{2r}$\n",
    "\n",
    "$c_3 = \\pm c_{3l}, \\pm c_{3r}$"
   ]
  },
  {
   "cell_type": "code",
   "execution_count": null,
   "metadata": {
    "scrolled": true
   },
   "outputs": [],
   "source": [
    "c1l, c1r = symbols('c_1l c_1r', real=True)\n",
    "c2l, c2r = symbols('c_2l c_2r', real=True)\n",
    "c3l, c3r = symbols('c_3l c_3r', real=True)\n",
    "lsl, lsr, ls = symbols('l_l l_r l_s', real=True)\n",
    "d = symbols('d', real=True)\n",
    "\n",
    "# Get the tensions in terms of the average net radial tension\n",
    "T1, T2, Tb = symbols('T_1 T_2 T_b', real=True)\n",
    "Tsol = solve([Eq(T1*c1l - T2*c1r), Eq(2*pi*R*Tb, ns*(T1*c2l + T2*c2r)/2)], [T1, T2])\n",
    "\n",
    "display(Tsol)\n",
    "\n",
    "k_cont = ns/(8*pi*R) * (k_s.subs([(c1, c1l), (c2, c2l), (c3, c3l), (T, T1), (b1, b1), (b2, b2), (ls, lsl)]) +\n",
    "                        k_s.subs([(c1, -c1r), (c2, c2r), (c3, c3r), (T, T2), (b1, -b1), (b2, b2), (ls, lsr)]) +\n",
    "                        k_s.subs([(c1, c1l), (c2, c2l), (c3, -c3l), (T, T1), (b1, b1), (b2, b2), (ls, lsl)]) +\n",
    "                        k_s.subs([(c1, -c1r), (c2, c2r), (c3, -c3r), (T, T2), (b1, -b1), (b2, b2), (ls, lsr)]))\n",
    "\n",
    "display(simplify(k_cont.subs([(T1, 0), (T2, 0)])))\n",
    "display(simplify(k_cont.subs(Tsol).subs([(ks, 0), (lsl, ls), (lsr, ls)])))"
   ]
  },
  {
   "cell_type": "code",
   "execution_count": null,
   "metadata": {},
   "outputs": [],
   "source": []
  }
 ],
 "metadata": {
  "anaconda-cloud": {},
  "kernelspec": {
   "display_name": "Python 3",
   "language": "python",
   "name": "python3"
  },
  "language_info": {
   "codemirror_mode": {
    "name": "ipython",
    "version": 3
   },
   "file_extension": ".py",
   "mimetype": "text/x-python",
   "name": "python",
   "nbconvert_exporter": "python",
   "pygments_lexer": "ipython3",
   "version": "3.7.0"
  }
 },
 "nbformat": 4,
 "nbformat_minor": 1
}
