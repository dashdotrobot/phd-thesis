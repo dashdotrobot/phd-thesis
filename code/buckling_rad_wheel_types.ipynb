{
 "cells": [
  {
   "cell_type": "markdown",
   "metadata": {},
   "source": [
    "# Buckling under radial force: ABAQUS sim and plots"
   ]
  },
  {
   "cell_type": "code",
   "execution_count": 1,
   "metadata": {},
   "outputs": [],
   "source": [
    "import bikewheellib as bl\n",
    "from doetools import RadialBucklingDOE, wheel_library\n",
    "from shutil import copy2\n",
    "from imp import find_module\n",
    "\n",
    "%matplotlib inline"
   ]
  },
  {
   "cell_type": "markdown",
   "metadata": {},
   "source": [
    "## Truss spokes (no spoke buckling), paired spokes"
   ]
  },
  {
   "cell_type": "code",
   "execution_count": 3,
   "metadata": {},
   "outputs": [
    {
     "name": "stdout",
     "output_type": "stream",
     "text": [
      "\n",
      "Created 77 simulations\n"
     ]
    }
   ],
   "source": [
    "truss_dir = '../data/doe/doe_rad_buckling_truss'\n",
    "\n",
    "if True:\n",
    "    doe = RadialBucklingDOE(out_dir=truss_dir,\n",
    "                            opts={'spk_paired': True,\n",
    "                                  'spk_eltype': 'truss',\n",
    "                                  'sim_type': 'exp',\n",
    "                                  'sim_u2': 0.01,\n",
    "                                  'rim_perturb': [0.01e-3, 0.01e-3, 0.01e-3]})\n",
    "\n",
    "    wheel_types = ['cheap_MTB', 'vintage_rd', 'racing_700',\n",
    "                   'folding', 'track', 'tandem', 'high_wheel']\n",
    "\n",
    "    for w_type in wheel_types:\n",
    "        \n",
    "        wheel = wheel_library.create_predefined_wheel(w_type)\n",
    "        wheel_library.convert_to_paired(wheel)\n",
    "        \n",
    "        Tc, nc = bl.calc_buckling_tension(wheel)\n",
    "\n",
    "        for Tn in [0.0, 0.10, 0.2, 0.3, 0.4, 0.5, 0.6, 0.7, 0.8, 0.9, 0.95]:\n",
    "            \n",
    "            wheel.apply_tension(Tn*Tc)\n",
    "            \n",
    "            jobname = '{:s}_{:.2f}'.format(w_type, Tn)\n",
    "            doe.add_experiment(wheel, opts={'jobname': jobname,\n",
    "                                            'wheel_type': w_type,\n",
    "                                            'spk_Tn': Tn,\n",
    "                                            'spk_T': Tn * Tc})\n",
    "\n",
    "    print('\\nCreated {0:d} simulations'.format(len(doe.db)))\n",
    "\n",
    "    doe.write_input_files(N_batches=4)\n",
    "    doe.to_csv()\n",
    "    \n",
    "    # Copy postprocessing script\n",
    "    copy2(src=find_module('doetools')[1] + '/postproc_rad_buckling.py',\n",
    "          dst=truss_dir)"
   ]
  },
  {
   "cell_type": "markdown",
   "metadata": {},
   "source": [
    "## Beam spokes, alternating spokes"
   ]
  },
  {
   "cell_type": "code",
   "execution_count": 4,
   "metadata": {},
   "outputs": [
    {
     "name": "stdout",
     "output_type": "stream",
     "text": [
      "\n",
      "Created 77 simulations\n"
     ]
    }
   ],
   "source": [
    "beam_dir = '../data/doe/doe_rad_buckling_beam'\n",
    "\n",
    "if True:\n",
    "    doe = RadialBucklingDOE(out_dir=beam_dir,\n",
    "                            opts={'spk_paired': False,\n",
    "                                  'spk_eltype': 'beam',\n",
    "                                  'sim_type': 'exp',\n",
    "                                  'sim_u2': 0.01})\n",
    "\n",
    "    wheel_types = ['cheap_MTB', 'vintage_rd', 'racing_700',\n",
    "                   'folding', 'track', 'tandem', 'high_wheel']\n",
    "\n",
    "    for w_type in wheel_types:\n",
    "        \n",
    "        wheel = wheel_library.create_predefined_wheel(w_type)\n",
    "        \n",
    "        Tc, nc = bl.calc_buckling_tension(wheel)\n",
    "\n",
    "        for Tn in [0.0, 0.10, 0.2, 0.3, 0.4, 0.5, 0.6, 0.7, 0.8, 0.9, 0.95]:\n",
    "            \n",
    "            wheel.apply_tension(Tn*Tc)\n",
    "            \n",
    "            jobname = '{:s}_{:.2f}'.format(w_type, Tn)\n",
    "            doe.add_experiment(wheel, opts={'jobname': jobname,\n",
    "                                            'wheel_type': w_type,\n",
    "                                            'spk_Tn': Tn,\n",
    "                                            'spk_T': Tn * Tc})\n",
    "\n",
    "    print('\\nCreated {0:d} simulations'.format(len(doe.db)))\n",
    "\n",
    "    doe.write_input_files(N_batches=4)\n",
    "    doe.to_csv()\n",
    "    \n",
    "    # Copy postprocessing script\n",
    "    copy2(src=find_module('doetools')[1] + '/postproc_rad_buckling.py',\n",
    "          dst=beam_dir)"
   ]
  },
  {
   "cell_type": "code",
   "execution_count": null,
   "metadata": {},
   "outputs": [],
   "source": []
  }
 ],
 "metadata": {
  "kernelspec": {
   "display_name": "Python 2",
   "language": "python",
   "name": "python2"
  },
  "language_info": {
   "codemirror_mode": {
    "name": "ipython",
    "version": 2
   },
   "file_extension": ".py",
   "mimetype": "text/x-python",
   "name": "python",
   "nbconvert_exporter": "python",
   "pygments_lexer": "ipython2",
   "version": "2.7.13"
  }
 },
 "nbformat": 4,
 "nbformat_minor": 1
}
