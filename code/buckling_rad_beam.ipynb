{
 "cells": [
  {
   "cell_type": "markdown",
   "metadata": {},
   "source": [
    "# Buckling under radial force: realistic (beam) spokes"
   ]
  },
  {
   "cell_type": "code",
   "execution_count": null,
   "metadata": {},
   "outputs": [],
   "source": [
    "import bikewheellib as bl\n",
    "from doetools import RadialBucklingDOE, wheel_library\n",
    "from shutil import copy2\n",
    "from imp import find_module\n",
    "\n",
    "import numpy as np\n",
    "import pandas as pd\n",
    "import seaborn as sns\n",
    "import matplotlib.pyplot as plt\n",
    "import matplotlib as mpl\n",
    "\n",
    "%matplotlib inline"
   ]
  },
  {
   "cell_type": "code",
   "execution_count": null,
   "metadata": {},
   "outputs": [],
   "source": [
    "# Set default colors\n",
    "default_colors = ['#1f77b4', '#ff7f0e', '#2ca02c', '#d62728',\n",
    "                  '#9467bd', '#8c564b', '#e377c2', '#7f7f7f',\n",
    "                  '#bcbd22', '#17becf']\n",
    "\n",
    "mpl.rcParams['axes.prop_cycle'] = mpl.cycler(color=default_colors)"
   ]
  },
  {
   "cell_type": "markdown",
   "metadata": {},
   "source": [
    "## ABAQUS numerical experiment"
   ]
  },
  {
   "cell_type": "code",
   "execution_count": null,
   "metadata": {},
   "outputs": [],
   "source": [
    "beam_dir = '../data/doe/doe_rad_buckling_beam'\n",
    "\n",
    "if True:\n",
    "    doe = RadialBucklingDOE(out_dir=beam_dir,\n",
    "                            opts={'spk_paired': False,\n",
    "                                  'spk_eltype': 'beam',\n",
    "                                  'sim_type': 'exp',\n",
    "                                  'sim_u2': 0.01})\n",
    "\n",
    "    wheel_types = ['cheap_MTB', 'vintage_rd', 'racing_700',\n",
    "                   'folding', 'track', 'tandem', 'high_wheel']\n",
    "\n",
    "    for w_type in wheel_types:\n",
    "        \n",
    "        wheel = wheel_library.create_predefined_wheel(w_type)\n",
    "        \n",
    "        Tc, nc = bl.calc_buckling_tension(wheel)\n",
    "\n",
    "        for Tn in [0.0, 0.10, 0.2, 0.3, 0.4, 0.5, 0.6, 0.7, 0.8, 0.9, 0.95]:\n",
    "            \n",
    "            wheel.apply_tension(Tn*Tc)\n",
    "            \n",
    "            jobname = '{:s}_{:.2f}'.format(w_type, Tn)\n",
    "            doe.add_experiment(wheel, opts={'jobname': jobname,\n",
    "                                            'wheel_type': w_type,\n",
    "                                            'spk_Tn': Tn,\n",
    "                                            'spk_T': Tn * Tc})\n",
    "\n",
    "    print('\\nCreated {0:d} simulations'.format(len(doe.db)))\n",
    "\n",
    "    doe.write_input_files(N_batches=4)\n",
    "    doe.to_csv()\n",
    "    \n",
    "    # Copy postprocessing script\n",
    "    copy2(src=find_module('doetools')[1] + '/postproc_rad_buckling.py',\n",
    "          dst=beam_dir)"
   ]
  },
  {
   "cell_type": "code",
   "execution_count": null,
   "metadata": {},
   "outputs": [],
   "source": [
    "# Load DOE database\n",
    "print 'Loading database...'\n",
    "doe = RadialBucklingDOE(out_dir=beam_dir, db_file=beam_dir+'/_doe_db.csv')\n",
    "\n",
    "# Populate DOE database with results\n",
    "print 'Extracting results...'\n",
    "doe.extract_results()\n",
    "print '\\nDone'"
   ]
  },
  {
   "cell_type": "code",
   "execution_count": null,
   "metadata": {},
   "outputs": [],
   "source": [
    "# Calculate normalized buckling load\n",
    "f = lambda r: r['Pc_max'] / doe.db[(doe.db['wheel_type'] == r['wheel_type']) &\n",
    "                                   (doe.db['spk_Tn'] == 0.0)]['Pc_max'][0]\n",
    "\n",
    "doe.db['Pc_max_norm'] = doe.db.apply(f, axis=1)"
   ]
  },
  {
   "cell_type": "code",
   "execution_count": null,
   "metadata": {},
   "outputs": [],
   "source": [
    "cp = sns.color_palette('Reds', 4)\n",
    "\n",
    "with plt.style.context('seaborn-paper'):\n",
    "    \n",
    "    fig, ax = plt.subplots(ncols=2, figsize=(5., 2.5))\n",
    "    \n",
    "    d = doe.db[(doe.db['wheel_type'] == 'vintage_rd') & doe.db['spk_Tn'].isin([0.2, 0.4, 0.6, 0.8])]\n",
    "    \n",
    "    c = 0\n",
    "    for i, r in d.iterrows():\n",
    "        pd_data = pd.read_csv(beam_dir + '/' + r.name + '_collapse_Pd.csv')\n",
    "\n",
    "        i_Pc = np.argmin(np.abs(pd_data['RF2 [N]'] - r['Pc_max']))\n",
    "\n",
    "        ax[0].plot(1000*pd_data['U2 [m]'], pd_data['RF2 [N]']/1000,\n",
    "                   label=r'$T/T_c$ = {:.1f}'.format(r['spk_Tn']), color=cp[c])\n",
    "        c = c + 1\n",
    "        ax[0].plot(1000*pd_data['U2 [m]'][i_Pc], pd_data['RF2 [N]'][i_Pc]/1000, 'ko', label='_no_legend_')\n",
    "\n",
    "    ax[0].set_xlim([0., 8.])\n",
    "    ax[0].set_xticks(range(0, 9, 2))\n",
    "    \n",
    "    ax[0].set_ylim([0., 5.])\n",
    "    ax[0].set_yticks(range(6))\n",
    "\n",
    "    ax[0].set_xlabel('Radial displacement [mm]')\n",
    "    ax[0].set_ylabel('Radial load [kN]')\n",
    "    \n",
    "    \n",
    "    mrk = ['o', '*', 'd', 's', '^', 'p', 'v']\n",
    "    type_order = doe.db[['wheel_type', 'Pc_nb']].groupby('wheel_type').max().sort_values(by='Pc_nb').index\n",
    "\n",
    "    for i, w in enumerate(type_order):\n",
    "        d = doe.db[doe.db['wheel_type'] == w]\n",
    "\n",
    "        plt.plot(d['spk_Tn'], d['Pc_max_norm'], label=w.replace('_', ' '),\n",
    "                 marker=mrk[i], markersize=6)\n",
    "\n",
    "    ax[1].set_ylim([0., 2.]);\n",
    "    ax[1].set_xlim([0., 1.]);\n",
    "    ax[1].set_xticks([0., 0.25, 0.5, 0.75, 1])\n",
    "    ax[1].set_xticklabels(['0', '0.25', '0.5', '0.75', '1'])\n",
    "\n",
    "    ax[1].set_xlabel(r'\\$T/T_c\\$')\n",
    "    ax[1].set_ylabel(r'\\$P_c / P_{c,0}\\$')\n",
    "    \n",
    "    ax[1].legend()\n",
    "    \n",
    "    plt.tight_layout()\n",
    "    plt.savefig('../figs/buckling_ext_loads/_python_buckling_rad_beam.pdf')"
   ]
  },
  {
   "cell_type": "code",
   "execution_count": null,
   "metadata": {},
   "outputs": [],
   "source": []
  }
 ],
 "metadata": {
  "anaconda-cloud": {},
  "kernelspec": {
   "display_name": "Python [default]",
   "language": "python",
   "name": "python2"
  },
  "language_info": {
   "codemirror_mode": {
    "name": "ipython",
    "version": 2
   },
   "file_extension": ".py",
   "mimetype": "text/x-python",
   "name": "python",
   "nbconvert_exporter": "python",
   "pygments_lexer": "ipython2",
   "version": "2.7.14"
  }
 },
 "nbformat": 4,
 "nbformat_minor": 2
}
