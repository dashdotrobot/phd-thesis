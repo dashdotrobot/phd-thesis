{
 "cells": [
  {
   "cell_type": "markdown",
   "metadata": {},
   "source": [
    "# Buckling under radial force: realistic (beam) spokes"
   ]
  },
  {
   "cell_type": "code",
   "execution_count": null,
   "metadata": {},
   "outputs": [],
   "source": [
    "import bikewheellib as bl\n",
    "from doetools import RadialBucklingDOE, wheel_library\n",
    "from shutil import copy2\n",
    "from imp import find_module\n",
    "\n",
    "import numpy as np\n",
    "import pandas as pd\n",
    "import seaborn as sns\n",
    "import matplotlib.pyplot as plt\n",
    "import matplotlib as mpl\n",
    "\n",
    "%matplotlib inline"
   ]
  },
  {
   "cell_type": "code",
   "execution_count": null,
   "metadata": {},
   "outputs": [],
   "source": [
    "# Set default colors\n",
    "mpl.rcParams['axes.prop_cycle'] = mpl.cycler(color=['#1f77b4', '#ff7f0e', '#2ca02c', '#d62728',\n",
    "                                                    '#9467bd', '#8c564b', '#e377c2', '#7f7f7f',\n",
    "                                                    '#bcbd22', '#17becf'])"
   ]
  },
  {
   "cell_type": "markdown",
   "metadata": {},
   "source": [
    "## ABAQUS numerical experiment"
   ]
  },
  {
   "cell_type": "code",
   "execution_count": null,
   "metadata": {},
   "outputs": [],
   "source": [
    "beam_dir = '../data/doe/doe_rad_buckling_beam'\n",
    "\n",
    "if True:\n",
    "    doe = RadialBucklingDOE(out_dir=beam_dir,\n",
    "                            opts={'spk_paired': False,\n",
    "                                  'spk_eltype': 'beam',\n",
    "                                  'sim_type': 'exp',\n",
    "                                  'sim_u2': 0.01})\n",
    "\n",
    "    wheel_types = ['cheap_MTB', 'vintage_rd', 'racing_700',\n",
    "                   'folding', 'track', 'tandem', 'high_wheel']\n",
    "\n",
    "    for w_type in wheel_types:\n",
    "        \n",
    "        wheel = wheel_library.create_predefined_wheel(w_type)\n",
    "        \n",
    "        Tc, nc = bl.calc_buckling_tension(wheel)\n",
    "\n",
    "        for Tn in [0.0, 0.10, 0.2, 0.3, 0.4, 0.5, 0.6, 0.7, 0.8, 0.9, 0.95]:\n",
    "            \n",
    "            wheel.apply_tension(Tn*Tc)\n",
    "            \n",
    "            jobname = '{:s}_{:.2f}'.format(w_type, Tn)\n",
    "            doe.add_experiment(wheel, opts={'jobname': jobname,\n",
    "                                            'wheel_type': w_type,\n",
    "                                            'spk_Tn': Tn,\n",
    "                                            'spk_T': Tn * Tc})\n",
    "\n",
    "    print('\\nCreated {0:d} simulations'.format(len(doe.db)))\n",
    "\n",
    "    doe.write_input_files(N_batches=4)\n",
    "    doe.to_csv()\n",
    "    \n",
    "    # Copy postprocessing script\n",
    "    copy2(src=find_module('doetools')[1] + '/postproc_rad_buckling.py',\n",
    "          dst=beam_dir)"
   ]
  },
  {
   "cell_type": "code",
   "execution_count": null,
   "metadata": {},
   "outputs": [],
   "source": []
  }
 ],
 "metadata": {
  "anaconda-cloud": {},
  "kernelspec": {
   "display_name": "Python [default]",
   "language": "python",
   "name": "python2"
  },
  "language_info": {
   "codemirror_mode": {
    "name": "ipython",
    "version": 2
   },
   "file_extension": ".py",
   "mimetype": "text/x-python",
   "name": "python",
   "nbconvert_exporter": "python",
   "pygments_lexer": "ipython2",
   "version": "2.7.14"
  }
 },
 "nbformat": 4,
 "nbformat_minor": 2
}
