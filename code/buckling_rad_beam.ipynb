{
 "cells": [
  {
   "cell_type": "markdown",
   "metadata": {},
   "source": [
    "# Buckling under radial force: realistic (beam) spokes"
   ]
  },
  {
   "cell_type": "code",
   "execution_count": null,
   "metadata": {},
   "outputs": [],
   "source": [
    "import bikewheellib as bl\n",
    "from doetools import RadialBucklingDOE, wheel_library\n",
    "from shutil import copy2\n",
    "from imp import find_module\n",
    "\n",
    "import numpy as np\n",
    "import pandas as pd\n",
    "import seaborn as sns\n",
    "import matplotlib.pyplot as plt\n",
    "import matplotlib as mpl\n",
    "\n",
    "%matplotlib inline"
   ]
  },
  {
   "cell_type": "code",
   "execution_count": null,
   "metadata": {},
   "outputs": [],
   "source": [
    "# Set default colors\n",
    "default_colors = ['#1f77b4', '#ff7f0e', '#2ca02c', '#d62728',\n",
    "                  '#9467bd', '#8c564b', '#e377c2', '#7f7f7f',\n",
    "                  '#bcbd22', '#17becf']\n",
    "\n",
    "mpl.rcParams['axes.prop_cycle'] = mpl.cycler(color=default_colors)\n",
    "\n",
    "# Default markers\n",
    "mrk = ['o', '*', 'd', 's', '^', 'p', 'v']"
   ]
  },
  {
   "cell_type": "markdown",
   "metadata": {},
   "source": [
    "## ABAQUS numerical experiment"
   ]
  },
  {
   "cell_type": "code",
   "execution_count": null,
   "metadata": {},
   "outputs": [],
   "source": [
    "beam_dir = '../data/doe/doe_rad_buckling_beam'\n",
    "\n",
    "if True:\n",
    "    doe = RadialBucklingDOE(out_dir=beam_dir,\n",
    "                            opts={'spk_paired': False,\n",
    "                                  'spk_eltype': 'beam',\n",
    "                                  'sim_type': 'exp',\n",
    "                                  'sim_u2': 0.01})\n",
    "\n",
    "    wheel_types = ['cheap_MTB', 'vintage_rd', 'racing_700',\n",
    "                   'folding', 'track', 'tandem', 'high_wheel']\n",
    "\n",
    "    for w_type in wheel_types:\n",
    "        \n",
    "        wheel = wheel_library.create_predefined_wheel(w_type)\n",
    "        \n",
    "        Tc, nc = bl.calc_buckling_tension(wheel)\n",
    "\n",
    "        for Tn in [0.0, 0.10, 0.2, 0.3, 0.4, 0.5, 0.6, 0.7, 0.8, 0.9, 0.95]:\n",
    "            \n",
    "            wheel.apply_tension(Tn*Tc)\n",
    "            \n",
    "            jobname = '{:s}_{:.2f}'.format(w_type, Tn)\n",
    "            doe.add_experiment(wheel, opts={'jobname': jobname,\n",
    "                                            'wheel_type': w_type,\n",
    "                                            'spk_Tn': Tn,\n",
    "                                            'spk_T': Tn * Tc})\n",
    "\n",
    "    print('\\nCreated {0:d} simulations'.format(len(doe.db)))\n",
    "\n",
    "    doe.write_input_files(N_batches=4)\n",
    "    doe.to_csv()\n",
    "    \n",
    "    # Copy postprocessing script\n",
    "    copy2(src=find_module('doetools')[1] + '/postproc_rad_buckling.py',\n",
    "          dst=beam_dir)"
   ]
  },
  {
   "cell_type": "code",
   "execution_count": null,
   "metadata": {},
   "outputs": [],
   "source": [
    "# Load DOE database\n",
    "print 'Loading database...'\n",
    "doe = RadialBucklingDOE(out_dir=beam_dir, db_file=beam_dir+'/_doe_db.csv')\n",
    "\n",
    "# Populate DOE database with results\n",
    "print 'Extracting results...'\n",
    "doe.extract_results()\n",
    "print '\\nDone'"
   ]
  },
  {
   "cell_type": "code",
   "execution_count": null,
   "metadata": {},
   "outputs": [],
   "source": [
    "# Remove racing_700 Tn=0.5 - wheel buckled during pretensioning (??)\n",
    "doe.db = doe.db.drop('racing_700_0.50')"
   ]
  },
  {
   "cell_type": "code",
   "execution_count": null,
   "metadata": {},
   "outputs": [],
   "source": [
    "# Calculate normalized buckling load\n",
    "f = lambda r: r['Pc_max'] / doe.db[(doe.db['wheel_type'] == r['wheel_type']) &\n",
    "                                   (doe.db['spk_Tn'] == 0.0)]['Pc_max'][0]\n",
    "\n",
    "doe.db['Pc_max_norm'] = doe.db.apply(f, axis=1)"
   ]
  },
  {
   "cell_type": "code",
   "execution_count": null,
   "metadata": {},
   "outputs": [],
   "source": [
    "cp = sns.color_palette('Reds', 4)\n",
    "\n",
    "with plt.style.context('seaborn-paper'):\n",
    "    \n",
    "    fig, ax = plt.subplots(ncols=2, figsize=(5., 2.5))\n",
    "    \n",
    "    d = doe.db[(doe.db['wheel_type'] == 'vintage_rd') & doe.db['spk_Tn'].isin([0.2, 0.4, 0.6, 0.8])]\n",
    "    \n",
    "    c = 0\n",
    "    for i, r in d.iterrows():\n",
    "        pd_data = pd.read_csv(beam_dir + '/' + r.name + '_collapse_Pd.csv')\n",
    "\n",
    "        i_Pc = np.argmin(np.abs(pd_data['RF2 [N]'] - r['Pc_max']))\n",
    "\n",
    "        ax[0].plot(1000*pd_data['U2 [m]'], pd_data['RF2 [N]']/1000,\n",
    "                   label=r'$T/T_c$ = {:.1f}'.format(r['spk_Tn']), color=cp[c])\n",
    "        c = c + 1\n",
    "        ax[0].plot(1000*pd_data['U2 [m]'][i_Pc], pd_data['RF2 [N]'][i_Pc]/1000, 'ko', label='_no_legend_')\n",
    "\n",
    "    ax[0].set_xlim([0., 6.])\n",
    "    ax[0].set_xticks(range(0, 7, 2))\n",
    "    \n",
    "    ax[0].set_ylim([0., 4])\n",
    "    ax[0].set_yticks(range(5))\n",
    "\n",
    "    ax[0].set_xlabel('Radial displacement [mm]')\n",
    "    ax[0].set_ylabel('Radial load [kN]')\n",
    "    \n",
    "    type_order = doe.db[['wheel_type', 'Pc_nb']].groupby('wheel_type').max().sort_values(by='Pc_nb').index\n",
    "\n",
    "    for i, w in enumerate(type_order):\n",
    "        d = doe.db[doe.db['wheel_type'] == w]\n",
    "\n",
    "        plt.plot(d['spk_Tn'], d['Pc_max_norm'], label=w.replace('_', ' '),\n",
    "                 marker=mrk[i], markersize=6)\n",
    "\n",
    "    ax[1].set_ylim([0., 2.]);\n",
    "    ax[1].set_xlim([0., 1.]);\n",
    "    ax[1].set_xticks([0., 0.25, 0.5, 0.75, 1])\n",
    "    ax[1].set_xticklabels(['0', '0.25', '0.5', '0.75', '1'])\n",
    "\n",
    "    ax[1].set_xlabel(r'\\$T/T_c\\$')\n",
    "    ax[1].set_ylabel(r'\\$P_c / P_{c,0}\\$')\n",
    "    \n",
    "    ax[1].legend(numpoints=1)\n",
    "    \n",
    "    plt.tight_layout()\n",
    "    plt.savefig('../figs/buckling_ext_loads/_python_buckling_rad_beam.pdf')"
   ]
  },
  {
   "cell_type": "code",
   "execution_count": null,
   "metadata": {},
   "outputs": [],
   "source": [
    "by_type = doe.db[['wheel_type', 'Pc_max', 'Pc_nb', 'Pc_nb_2']].groupby('wheel_type')\n",
    "\n",
    "d = pd.DataFrame(data={'Pc_nb': by_type.mean()['Pc_nb'],\n",
    "                       'Pc_max': by_type.mean()['Pc_max'],\n",
    "                       'err_pos': by_type.max()['Pc_max'] - by_type.mean()['Pc_max'],\n",
    "                       'err_neg': by_type.mean()['Pc_max'] - by_type.min()['Pc_max']})\n",
    "\n",
    "d = d.sort_values(by='Pc_nb')\n",
    "\n",
    "with plt.style.context('seaborn-paper'):\n",
    "    fig, ax = plt.subplots(figsize=(3.5, 3.5))\n",
    "    \n",
    "    m = 0\n",
    "    for i, t in d.iterrows():\n",
    "\n",
    "        err = np.array([t['err_pos'], t['err_neg']]).reshape(2, 1)\n",
    "\n",
    "        (_, caps, _) = plt.errorbar(t['Pc_nb']/1000,\n",
    "                                    t['Pc_max']/1000,\n",
    "                                    yerr=err/1000,\n",
    "                                    fmt=mrk[m], markersize=6, capsize=5,\n",
    "                                    label=i.replace('_', ' '))\n",
    "\n",
    "        for cap in caps:\n",
    "            cap.set_markeredgewidth(2)\n",
    "        m = m + 1\n",
    "\n",
    "    # Plot \"exact\" curve\n",
    "    plt.plot([0., 15.], [0., 15.], 'k--')\n",
    "        \n",
    "    ax.set_xlim([0., 13.])\n",
    "    ax.set_xticks(range(0,13,2))\n",
    "    \n",
    "    ax.set_ylim([0., 13.])\n",
    "    ax.set_yticks(range(0,13,2))\n",
    "    \n",
    "    plt.ylabel('ABAQUS peak load [kN]')\n",
    "    plt.xlabel('\\$P_c\\$, Eqn. \\eqref{eq:P_c_nb} [kN]')\n",
    "    plt.legend(loc='best')\n",
    "\n",
    "    plt.tight_layout()\n",
    "    plt.savefig('../figs/buckling_ext_loads/_python_buckling_rad_Pc_nb.pdf')"
   ]
  },
  {
   "cell_type": "markdown",
   "metadata": {},
   "source": [
    "## Post-buckling behavior as a function of $\\lambda_{uu}$"
   ]
  },
  {
   "cell_type": "code",
   "execution_count": null,
   "metadata": {},
   "outputs": [],
   "source": [
    "def calc_lambda_uu(r):\n",
    "    w = doe.wheel_from_row(r)\n",
    "    \n",
    "    Tc, nc = bl.calc_buckling_tension(w)\n",
    "    \n",
    "    k = bl.calc_continuum_stiff(w, tension=0.)\n",
    "    \n",
    "    EI = w.rim.young_mod*w.rim.I22\n",
    "    GJ = w.rim.shear_mod*w.rim.I11\n",
    "    \n",
    "    return k[0, 0]*w.rim.radius**4/(GJ*EI/(GJ+EI))\n",
    "\n",
    "doe.db['lambda_uu'] = doe.db.apply(calc_lambda_uu, axis=1)"
   ]
  },
  {
   "cell_type": "code",
   "execution_count": null,
   "metadata": {},
   "outputs": [],
   "source": [
    "with plt.style.context('seaborn-paper'):\n",
    "    fig, ax = plt.subplots(ncols=7, figsize=(6.5, 1.0))\n",
    "\n",
    "    by_type = doe.db[['wheel_type', 'lambda_uu']].groupby('wheel_type')\n",
    "\n",
    "    p = 0\n",
    "    for i, r in by_type.mean().sort_values(by='lambda_uu').iterrows():\n",
    "        print i, r['lambda_uu']\n",
    "        pd_data = pd.read_csv(beam_dir + '/' + i + '_0.60_collapse_Pd.csv')\n",
    "\n",
    "        ax[p].plot(pd_data['U2 [m]'], pd_data['RF2 [N]'], color='k')\n",
    "\n",
    "        ax[p].set_xticks([])\n",
    "        ax[p].set_yticks([])\n",
    "\n",
    "        p = p + 1\n",
    "        \n",
    "    plt.savefig('../figs/buckling_ext_loads/_python_LD_curves.pdf')"
   ]
  },
  {
   "cell_type": "markdown",
   "metadata": {},
   "source": [
    "## Plot all load-displacement curves"
   ]
  },
  {
   "cell_type": "code",
   "execution_count": null,
   "metadata": {},
   "outputs": [],
   "source": [
    "fig, ax = plt.subplots(nrows=7, figsize=(3, 21))\n",
    "\n",
    "cp = sns.color_palette('Reds', 11)\n",
    "\n",
    "for i, wt in enumerate(doe.db['wheel_type'].unique()):\n",
    "    \n",
    "    d = doe.db[(doe.db['wheel_type'] == wt)]\n",
    "    c = 0\n",
    "    for ii, r in d.iterrows():\n",
    "        pd_data = pd.read_csv(beam_dir + '/' + r.name + '_collapse_Pd.csv')\n",
    "\n",
    "        i_Pc = np.argmin(np.abs(pd_data['RF2 [N]'] - r['Pc_max']))\n",
    "\n",
    "        ax[i].plot(1000*pd_data['U2 [m]'], pd_data['RF2 [N]']/1000,\n",
    "                   label=r'$T/T_c$ = {:.1f}'.format(r['spk_Tn']), color=cp[c])\n",
    "        c = c + 1\n",
    "        ax[i].plot(1000*pd_data['U2 [m]'][i_Pc], pd_data['RF2 [N]'][i_Pc]/1000, 'ko', label='_no_legend_')\n",
    "        \n",
    "        ax[i].set_title(wt)\n",
    "        \n",
    "    plt.tight_layout()"
   ]
  },
  {
   "cell_type": "markdown",
   "metadata": {},
   "source": []
  }
 ],
 "metadata": {
  "anaconda-cloud": {},
  "kernelspec": {
   "display_name": "Python 2",
   "language": "python",
   "name": "python2"
  },
  "language_info": {
   "codemirror_mode": {
    "name": "ipython",
    "version": 2
   },
   "file_extension": ".py",
   "mimetype": "text/x-python",
   "name": "python",
   "nbconvert_exporter": "python",
   "pygments_lexer": "ipython2",
   "version": "2.7.13"
  }
 },
 "nbformat": 4,
 "nbformat_minor": 2
}
