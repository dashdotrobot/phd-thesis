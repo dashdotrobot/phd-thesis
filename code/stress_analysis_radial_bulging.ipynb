{
 "cells": [
  {
   "cell_type": "code",
   "execution_count": 1,
   "metadata": {},
   "outputs": [],
   "source": [
    "from sympy import *\n",
    "import numpy as np\n",
    "import pandas as pd\n",
    "from IPython.display import display\n",
    "import matplotlib.pyplot as plt\n",
    "\n",
    "init_printing()\n",
    "%matplotlib inline"
   ]
  },
  {
   "cell_type": "markdown",
   "metadata": {},
   "source": [
    "# Symmetric wheel with in-plane radial spokes\n",
    "\n",
    "Segment of rim of arc length $2\\pi R/n_s$ containing one spoke. By symmetry, $C$, $M$, $V$ are equal at the two ends. $\\phi$ is half the angle between spokes.\n",
    "\n",
    "![beam_diagram_1](beam_diagram_1.png)\n",
    "\n",
    "Equilibrium of forces give\n",
    "\n",
    "$$\\sum F_x = 2V\\sin{\\phi} + C\\cos{\\phi} - C\\cos{\\phi}= 0$$\n",
    "$$\\sum F_y = 2C\\sin{\\phi} - T = 0$$\n",
    "\n",
    "The shear force $V=0$, while the axial compression is\n",
    "\n",
    "$$C = \\frac{T}{2\\sin{\\phi}} \\approx \\frac{n_s T}{2\\pi}$$\n",
    "\n",
    "![beam_diagram_2](beam_diagram_2.png)\n",
    "\n",
    "At an angle $\\theta < \\phi$, sum of forces and sum of moments about the right end gives\n",
    "\n",
    "$$\\sum F_1 = C - C'\\cos{\\theta} - V'\\sin{\\theta}$$\n",
    "\n",
    "$$\\sum F_2 = C'\\sin{\\theta} - V'\\cos{\\theta}$$\n",
    "\n",
    "$$\\sum M_r = -M + M' - CR(1-\\cos{\\theta}) = 0$$\n",
    "\n",
    "## Mechanics and deformation\n",
    "\n",
    "Now that the moment distribution is known, we can integrate $M(\\theta)^2$ to get the strain energy in the entire arc $2\\phi$. As is customary for slender beams, we neglect the strain energy associated with axial compression and shear.\n",
    "\n",
    "$$U = 2 \\int_0^\\phi \\frac{(M')^2}{2EI} \\, r d\\theta$$\n",
    "\n",
    "The unknown end moment $M$ is determined by the condition that the rotation of the cross-section between spokes must be zero. From Castigliano's theorem:\n",
    "\n",
    "$$\\frac{\\partial U}{\\partial M} = 0$$\n",
    "\n",
    "The inward displacement due to the internal moment alone is\n",
    "\n",
    "$$v_M = \\frac{\\partial U}{\\partial T}$$"
   ]
  },
  {
   "cell_type": "code",
   "execution_count": 2,
   "metadata": {},
   "outputs": [],
   "source": [
    "r, R, EI, EA = symbols('r R EI EA', real=True)\n",
    "M, C, T, C_t, V_t = symbols('M C T C_t V_t', real=True)\n",
    "Tb = symbols('T_b', real=True)\n",
    "\n",
    "theta, phi = symbols('theta phi', real=True)\n",
    "\n",
    "# Solve for internal axial force and shear\n",
    "CVsol = solve([Eq(C - C_t*cos(theta) - V_t*sin(theta)),\n",
    "               Eq(C_t*sin(theta) - V_t*cos(theta))], [C_t, V_t])\n",
    "\n",
    "C_t = CVsol[C_t]\n",
    "V_t = CVsol[V_t]\n",
    "\n",
    "M_t = M + R*C*(1-cos(theta))\n",
    "\n",
    "# Integrate over one half-arc and multiply by 2 (symmetry)\n",
    "U = 2 * R/(2*EI)*integrate(M_t**2, (theta, 0, phi))\n",
    "Msol = solve(U.diff(M), M)[0]\n",
    "\n",
    "v_M = U.subs([(M, Msol), (C, T/(2*sin(phi)))]).diff(T).simplify()"
   ]
  },
  {
   "cell_type": "markdown",
   "metadata": {},
   "source": [
    "### Internal moment"
   ]
  },
  {
   "cell_type": "code",
   "execution_count": 3,
   "metadata": {},
   "outputs": [
    {
     "data": {
      "image/png": "[encoded data removed]",
      "text/latex": [
       "$$\\frac{C R}{\\phi} \\left(- \\phi + \\sin{\\left (\\phi \\right )}\\right)$$"
      ],
      "text/plain": [
       "C⋅R⋅(-φ + sin(φ))\n",
       "─────────────────\n",
       "        φ        "
      ]
     },
     "metadata": {},
     "output_type": "display_data"
    }
   ],
   "source": [
    "display(Msol)"
   ]
  },
  {
   "cell_type": "markdown",
   "metadata": {},
   "source": [
    "### Radial displacement due to internal moment"
   ]
  },
  {
   "cell_type": "code",
   "execution_count": 4,
   "metadata": {},
   "outputs": [
    {
     "data": {
      "image/png": "[encoded data removed]",
      "text/latex": [
       "$$\\frac{R^{4} T_{b}}{2 EI} \\left(\\frac{\\phi^{2}}{\\sin^{2}{\\left (\\phi \\right )}} + \\frac{\\phi}{\\tan{\\left (\\phi \\right )}} - 2\\right)$$"
      ],
      "text/plain": [
       "       ⎛    2               ⎞\n",
       " 4     ⎜   φ        φ       ⎟\n",
       "R ⋅T_b⋅⎜─────── + ────── - 2⎟\n",
       "       ⎜   2      tan(φ)    ⎟\n",
       "       ⎝sin (φ)             ⎠\n",
       "─────────────────────────────\n",
       "             2⋅EI            "
      ]
     },
     "metadata": {},
     "output_type": "display_data"
    }
   ],
   "source": [
    "display(v_M.subs(T, 2*phi*R*Tb))"
   ]
  },
  {
   "cell_type": "markdown",
   "metadata": {},
   "source": [
    "### Average radial displacement due to compressive hoop stress\n",
    "\n",
    "The net average change in length of the rim centerline is $2\\pi \\Delta R$, corresponding to an average hoop strain $\\Delta R/R$."
   ]
  },
  {
   "cell_type": "code",
   "execution_count": 5,
   "metadata": {},
   "outputs": [
    {
     "data": {
      "image/png": "[encoded data removed]",
      "text/latex": [
       "$$\\frac{R T}{2 EA \\sin^{2}{\\left (\\phi \\right )}} \\left(\\frac{\\phi}{2} + \\frac{1}{2} \\sin{\\left (\\phi \\right )} \\cos{\\left (\\phi \\right )}\\right)$$"
      ],
      "text/plain": [
       "    ⎛φ   sin(φ)⋅cos(φ)⎞\n",
       "R⋅T⋅⎜─ + ─────────────⎟\n",
       "    ⎝2         2      ⎠\n",
       "───────────────────────\n",
       "              2        \n",
       "      2⋅EA⋅sin (φ)     "
      ]
     },
     "metadata": {},
     "output_type": "display_data"
    },
    {
     "data": {
      "image/png": "[encoded data removed]",
      "text/latex": [
       "$$\\frac{R T}{2 EA \\phi}$$"
      ],
      "text/plain": [
       " R⋅T  \n",
       "──────\n",
       "2⋅EA⋅φ"
      ]
     },
     "metadata": {},
     "output_type": "display_data"
    }
   ],
   "source": [
    "# Approximate displacement due to hoop stress\n",
    "v_C = (C*R/EA).subs(C, T/(2*phi))\n",
    "\n",
    "# Castigliano's method to get exact displacement due to hoop stress\n",
    "U_EA = 2 * R/(2*EA)*integrate(C_t**2, (theta, 0, phi))\n",
    "v_C_exact = U_EA.subs(C, T/(2*sin(phi))).diff(T)\n",
    "\n",
    "display(v_C_exact)\n",
    "display(v_C)"
   ]
  },
  {
   "cell_type": "code",
   "execution_count": 6,
   "metadata": {},
   "outputs": [
    {
     "data": {
      "image/png": "[encoded data removed]",
      "text/latex": [
       "$$\\frac{\\phi}{\\sin^{2}{\\left (\\phi \\right )}} \\left(\\frac{\\phi}{2} + \\frac{1}{2} \\sin{\\left (\\phi \\right )} \\cos{\\left (\\phi \\right )}\\right)$$"
      ],
      "text/plain": [
       "  ⎛φ   sin(φ)⋅cos(φ)⎞\n",
       "φ⋅⎜─ + ─────────────⎟\n",
       "  ⎝2         2      ⎠\n",
       "─────────────────────\n",
       "          2          \n",
       "       sin (φ)       "
      ]
     },
     "metadata": {},
     "output_type": "display_data"
    },
    {
     "data": {
      "image/png": "[encoded data removed]",
      "text/latex": [
       "$$\\frac{EA R^{2}}{2 EI} \\left(\\frac{\\phi^{2}}{\\sin^{2}{\\left (\\phi \\right )}} + \\frac{\\phi}{\\tan{\\left (\\phi \\right )}} - 2\\right)$$"
      ],
      "text/plain": [
       "      ⎛    2               ⎞\n",
       "    2 ⎜   φ        φ       ⎟\n",
       "EA⋅R ⋅⎜─────── + ────── - 2⎟\n",
       "      ⎜   2      tan(φ)    ⎟\n",
       "      ⎝sin (φ)             ⎠\n",
       "────────────────────────────\n",
       "            2⋅EI            "
      ]
     },
     "metadata": {},
     "output_type": "display_data"
    }
   ],
   "source": [
    "display(v_C_exact / v_C)\n",
    "display(v_M / v_C)"
   ]
  },
  {
   "cell_type": "code",
   "execution_count": 7,
   "metadata": {},
   "outputs": [
    {
     "data": {
      "image/png": "[encoded data removed]",
      "text/latex": [
       "$$\\frac{\\phi^{4}}{45} + \\mathcal{O}\\left(\\phi^{6}\\right)$$"
      ],
      "text/plain": [
       " 4        \n",
       "φ     ⎛ 6⎞\n",
       "── + O⎝φ ⎠\n",
       "45        "
      ]
     },
     "execution_count": 7,
     "metadata": {},
     "output_type": "execute_result"
    }
   ],
   "source": [
    "v_ratio_exact = (v_M/v_C_exact)\n",
    "\n",
    "series(v_ratio_exact.subs(EA*R**2/EI, 1), phi)"
   ]
  },
  {
   "cell_type": "markdown",
   "metadata": {},
   "source": [
    "## Relative importance of bending deflection"
   ]
  },
  {
   "cell_type": "code",
   "execution_count": 8,
   "metadata": {},
   "outputs": [
    {
     "data": {
      "image/png": "[encoded data removed]",
      "text/latex": [
       "$$\\frac{R^{2}}{2 r^{2}} \\left(\\frac{\\phi^{2}}{\\sin^{2}{\\left (\\phi \\right )}} + \\frac{\\phi}{\\tan{\\left (\\phi \\right )}} - 2\\right)$$"
      ],
      "text/plain": [
       "   ⎛    2               ⎞\n",
       " 2 ⎜   φ        φ       ⎟\n",
       "R ⋅⎜─────── + ────── - 2⎟\n",
       "   ⎜   2      tan(φ)    ⎟\n",
       "   ⎝sin (φ)             ⎠\n",
       "─────────────────────────\n",
       "              2          \n",
       "           2⋅r           "
      ]
     },
     "metadata": {},
     "output_type": "display_data"
    }
   ],
   "source": [
    "v_ratio = (v_M / v_C).simplify().subs(EA*R**2/EI, (R/r)**2)\n",
    "\n",
    "display(v_ratio)"
   ]
  },
  {
   "cell_type": "markdown",
   "metadata": {},
   "source": [
    "The relative importance of bending deflection compared with contraction of the centerline under compression is\n",
    "\n",
    "$$\\frac{v_M}{v_C} = \\left(\\frac{R}{r}\\right)^2 f(\\phi)$$\n",
    "\n",
    "where\n",
    "\n",
    "$$f(\\phi) = \\frac{1}{2} \\left( \\frac{\\phi}{\\sin{\\phi}}+\\cos{\\phi} - 2\\frac{\\sin{\\phi}}{\\phi} \\right)$$\n",
    "\n",
    "The leading-order term of the Taylor series approximation of $f(\\phi)$ is\n",
    "\n",
    "$$f(\\phi) \\approx \\frac{1}{45} \\phi^4$$\n",
    "\n",
    "Therefore, to a VERY close approximation:\n",
    "\n",
    "$$\\frac{v_M}{v_C} \\approx \\frac{1}{45} \\left(\\frac{R}{r}\\right)^2 \\left(\\frac{\\pi}{n_s}\\right)^4$$"
   ]
  },
  {
   "cell_type": "code",
   "execution_count": 9,
   "metadata": {},
   "outputs": [
    {
     "data": {
      "image/png": "[encoded data removed]",
      "text/plain": [
       "<matplotlib.figure.Figure at 0xd748f60>"
      ]
     },
     "metadata": {},
     "output_type": "display_data"
    }
   ],
   "source": [
    "f_phi = lambdify(phi, v_ratio.subs(R/r, 1.0))\n",
    "\n",
    "pp = np.linspace(0.001, np.pi/15, 100)\n",
    "fig, ax = plt.subplots(figsize=(4, 4))\n",
    "\n",
    "ax.plot(pp, [f_phi(p) for p in pp], label=r'$f(\\phi)$')\n",
    "ax.plot(pp[::8], 1./45.*pp[::8]**4, 'ko', label=r'$\\frac{1}{45}\\phi^4$')\n",
    "\n",
    "ax.set_xticks([0., np.pi/64, np.pi/36, np.pi/24, np.pi/16])\n",
    "ax.set_xticklabels([r'$\\infty$', 64, 36, 24, 16])\n",
    "\n",
    "ax.set_xlabel('Number of spokes')\n",
    "ax.set_ylabel(r'$f(\\phi)$')\n",
    "\n",
    "ax.legend(loc='best');"
   ]
  },
  {
   "cell_type": "code",
   "execution_count": 10,
   "metadata": {
    "hide_input": "True"
   },
   "outputs": [
    {
     "data": {
      "image/png": "[encoded data removed]",
      "text/plain": [
       "<matplotlib.figure.Figure at 0xd3d9eb8>"
      ]
     },
     "metadata": {},
     "output_type": "display_data"
    }
   ],
   "source": [
    "v_ratio_1 = lambdify(phi, v_ratio_exact.subs(EA*R**2/EI, (300./2.)**2))\n",
    "v_ratio_2 = lambdify(phi, v_ratio_exact.subs(EA*R**2/EI, (300./5.)**2))\n",
    "v_ratio_3 = lambdify(phi, v_ratio_exact.subs(EA*R**2/EI, (300./10.)**2))\n",
    "\n",
    "pp = np.linspace(0.001, np.pi/14, 100)\n",
    "\n",
    "with plt.style.context(('seaborn-paper')):\n",
    "    fig, ax = plt.subplots(ncols=2, figsize=(4.0, 2.0))\n",
    "\n",
    "    ax[1].plot(pp, [v_ratio_1(p) for p in pp], '-', label='2/300')\n",
    "    \n",
    "    ax[1].plot(pp, [v_ratio_2(p) for p in pp], '--', label='5/300')\n",
    "    \n",
    "    ax[1].plot(pp, [v_ratio_3(p) for p in pp], '-.', label='10/300')\n",
    "\n",
    "    ax[1].set_xticks([0., np.pi/64, np.pi/36, np.pi/24, np.pi/16])\n",
    "    ax[1].set_xticklabels([r'\\$\\infty\\$', 64, 36, 24, 16])\n",
    "\n",
    "    ax[1].set_xlabel('Number of spokes')\n",
    "    ax[1].set_ylabel(r'\\$v_M/v_C\\$')\n",
    "\n",
    "    ax[1].set_ylim([0., 1.])\n",
    "    ax[1].set_yticks([0., 0.2, 0.4, 0.6, 0.8, 1.0])\n",
    "    \n",
    "    ax[1].legend(loc='upper left')\n",
    "    \n",
    "    \n",
    "    th = np.linspace(0., np.pi/4, 1000)\n",
    "    \n",
    "    ls = ['-', '--','-.']\n",
    "    for ns, l in zip([36, 24, 16], ls):\n",
    "        th_s = np.pi/ns\n",
    "        \n",
    "        ax[0].plot(th, -1000*(np.sin(th_s)/th_s - np.cos((th+th_s) % (2*th_s) - th_s)), l)\n",
    "    \n",
    "    ax[0].set_xlim([0., np.pi/4])\n",
    "    ax[0].set_xticks([0., np.pi/8, np.pi/4])\n",
    "    ax[0].set_xticklabels(['0', r'\\$\\frac{\\pi}{8}\\$', r'\\$\\frac{\\pi}{4}\\$'])\n",
    "    plt.setp(ax[0].get_xticklabels(), fontsize=2)\n",
    "    \n",
    "    ax[0].set_xlabel(r'\\$\\theta\\$')\n",
    "    ax[0].set_ylabel(r\"\\$M'/R^2\\bar{T}\\$ x 1000\")\n",
    "\n",
    "    plt.tight_layout()\n",
    "    plt.savefig('../figs/stress_analysis/radial_bulging_python.pdf')"
   ]
  },
  {
   "cell_type": "code",
   "execution_count": null,
   "metadata": {},
   "outputs": [],
   "source": []
  }
 ],
 "metadata": {
  "anaconda-cloud": {},
  "kernelspec": {
   "display_name": "Python [default]",
   "language": "python",
   "name": "python2"
  },
  "language_info": {
   "codemirror_mode": {
    "name": "ipython",
    "version": 2
   },
   "file_extension": ".py",
   "mimetype": "text/x-python",
   "name": "python",
   "nbconvert_exporter": "python",
   "pygments_lexer": "ipython2",
   "version": "2.7.14"
  }
 },
 "nbformat": 4,
 "nbformat_minor": 1
}
