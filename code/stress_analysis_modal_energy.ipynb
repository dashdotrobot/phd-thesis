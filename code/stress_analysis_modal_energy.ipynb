{
 "cells": [
  {
   "cell_type": "code",
   "execution_count": 1,
   "metadata": {},
   "outputs": [],
   "source": [
    "import numpy as np\n",
    "from sympy import *\n",
    "from bikewheelcalc import BicycleWheel\n",
    "from IPython.display import display\n",
    "\n",
    "init_printing()"
   ]
  },
  {
   "cell_type": "code",
   "execution_count": 2,
   "metadata": {},
   "outputs": [],
   "source": [
    "# setup symbols\n",
    "s = symbols('s', real=true)\n",
    "\n",
    "# deformation\n",
    "u = Function('u')\n",
    "v = Function('v')\n",
    "w = Function('w')\n",
    "phi = Function('phi')\n",
    "\n",
    "# rim properties\n",
    "R, EA, EI1, EI2, GJ, EIw, mu, rx, ry, y0 = symbols('R EA EI_1 EI_2 GJ EI_w mu r_x r_y y_0',\n",
    "                                                   real=true, finite=true,\n",
    "                                                   positive=true)\n",
    "\n",
    "t = symbols('t', real=true)  # Average net radial pull per unit length\n",
    "\n",
    "# spoke properties\n",
    "k_uu, k_vv, k_ww, k_pp = symbols('k_uu k_vv k_ww, k_{\\phi\\phi}', real=true)\n",
    "k_uv, k_uw, k_up, k_vw, k_vp, k_wp = symbols('k_uv k_uw k_{u\\phi} k_vw k_{v\\phi} k_{w\\phi}', real=true)"
   ]
  },
  {
   "cell_type": "code",
   "execution_count": 3,
   "metadata": {},
   "outputs": [
    {
     "data": {
      "image/png": "[encoded data removed]",
      "text/latex": [
       "$$\\frac{d^{2}}{d s^{2}}  v{\\left (s \\right )} + \\frac{1}{R} \\frac{d}{d s} w{\\left (s \\right )}$$"
      ],
      "text/plain": [
       "            d       \n",
       "  2         ──(w(s))\n",
       " d          ds      \n",
       "───(v(s)) + ────────\n",
       "  2            R    \n",
       "ds                  "
      ]
     },
     "metadata": {},
     "output_type": "display_data"
    },
    {
     "data": {
      "image/png": "[encoded data removed]",
      "text/latex": [
       "$$\\frac{d^{2}}{d s^{2}}  u{\\left (s \\right )} + \\frac{1}{R} \\phi{\\left (s \\right )}$$"
      ],
      "text/plain": [
       "  2             \n",
       " d          φ(s)\n",
       "───(u(s)) + ────\n",
       "  2          R  \n",
       "ds              "
      ]
     },
     "metadata": {},
     "output_type": "display_data"
    },
    {
     "data": {
      "image/png": "[encoded data removed]",
      "text/latex": [
       "$$- \\frac{d}{d s} \\phi{\\left (s \\right )} + \\frac{1}{R} \\frac{d}{d s} u{\\left (s \\right )}$$"
      ],
      "text/plain": [
       "             d       \n",
       "             ──(u(s))\n",
       "  d          ds      \n",
       "- ──(φ(s)) + ────────\n",
       "  ds            R    "
      ]
     },
     "metadata": {},
     "output_type": "display_data"
    },
    {
     "data": {
      "image/png": "[encoded data removed]",
      "text/latex": [
       "$$y_{0} \\left(\\frac{d^{2}}{d s^{2}}  v{\\left (s \\right )} + \\frac{1}{R} \\frac{d}{d s} w{\\left (s \\right )}\\right) + \\frac{d}{d s} w{\\left (s \\right )} - \\frac{1}{R} v{\\left (s \\right )}$$"
      ],
      "text/plain": [
       "   ⎛            d       ⎞                  \n",
       "   ⎜  2         ──(w(s))⎟                  \n",
       "   ⎜ d          ds      ⎟   d          v(s)\n",
       "y₀⋅⎜───(v(s)) + ────────⎟ + ──(w(s)) - ────\n",
       "   ⎜  2            R    ⎟   ds          R  \n",
       "   ⎝ds                  ⎠                  "
      ]
     },
     "metadata": {},
     "output_type": "display_data"
    }
   ],
   "source": [
    "# curvatures\n",
    "k_1 = v(s).diff(s, 2) + w(s).diff(s)/R\n",
    "k_2 = u(s).diff(s, 2) + phi(s)/R\n",
    "k_3 = u(s).diff(s)/R - phi(s).diff(s)\n",
    "e_mem = w(s).diff(s) - v(s)/R + y0*(v(s).diff(s, 2) + w(s).diff(s)/R)\n",
    "\n",
    "display(k_1)\n",
    "display(k_2)\n",
    "display(k_3)\n",
    "display(e_mem)"
   ]
  },
  {
   "cell_type": "code",
   "execution_count": 4,
   "metadata": {},
   "outputs": [],
   "source": [
    "u_rim = (EI1*k_1**2 + EI2*k_2**2 + GJ*k_3**2 + EIw*(k_3.diff(s))**2)/2 + EA*e_mem**2/2\n",
    "\n",
    "u_spokes = (k_uu*u(s)**2 + 2*k_uv*u(s)*v(s) + 2*k_uw*u(s)*w(s) + 2*k_up*u(s)*phi(s) +\n",
    "            k_vv*v(s)**2 + 2*k_vw*v(s)*w(s) + 2*k_vp*v(s)*phi(s) +\n",
    "            k_ww*w(s)**2 + 2*k_wp*w(s)*phi(s) +\n",
    "            k_pp*phi(s)**2)/2\n",
    "\n",
    "v_rim = R*t*(u(s).diff(s)**2 + rx**2*phi(s).diff(s)**2 +\n",
    "             ry**2*(u(s).diff(s)/R - phi(s).diff(s))**2 +\n",
    "             y0*(2*u(s).diff(s, 2)*phi(s) - phi(s)**2/R) +\n",
    "             y0**2*phi(s).diff(s)**2)/2"
   ]
  },
  {
   "cell_type": "code",
   "execution_count": 5,
   "metadata": {},
   "outputs": [],
   "source": [
    "n = symbols('n', integer=True)\n",
    "npos = symbols('n', integer=True, positive=True)\n",
    "\n",
    "u_c, u_s, v_c, v_s, w_c, w_s, p_c, p_s = symbols('u_c u_s v_c v_s w_c w_s phi_c phi_s', real=True)\n",
    "\n",
    "d = [u_c, u_s, v_c, v_s, w_c, w_s, p_c, p_s]\n",
    "\n",
    "f_subs = [(u(s), u_c*cos(n*s/R) + u_s*sin(n*s/R)),\n",
    "          (v(s), v_c*cos(n*s/R) + v_s*sin(n*s/R)),\n",
    "          (w(s), w_c*cos(n*s/R) + w_s*sin(n*s/R)),\n",
    "          (phi(s), p_c*cos(n*s/R) + p_s*sin(n*s/R))]\n",
    "\n",
    "U_rim = integrate(u_rim.subs(f_subs).doit(), (s, 0, 2*pi*R))\n",
    "U_spokes = integrate(u_spokes.subs(f_subs).doit(), (s, 0, 2*pi*R))\n",
    "V_rim = integrate(v_rim.subs(f_subs).doit(), (s, 0, 2*pi*R))"
   ]
  },
  {
   "cell_type": "markdown",
   "metadata": {},
   "source": [
    "# Rim stiffness matrix"
   ]
  },
  {
   "cell_type": "code",
   "execution_count": 6,
   "metadata": {},
   "outputs": [
    {
     "data": {
      "image/png": "[encoded data removed]",
      "text/latex": [
       "$$\\left[\\begin{matrix}0 & 0 & 0 & 0\\\\0 & \\frac{2 \\pi}{R} EA & 0 & 0\\\\0 & 0 & 0 & 0\\\\0 & 0 & 0 & \\frac{2 \\pi}{R} EI_{2}\\end{matrix}\\right]$$"
      ],
      "text/plain": [
       "⎡0    0     0     0   ⎤\n",
       "⎢                     ⎥\n",
       "⎢   2⋅π⋅EA            ⎥\n",
       "⎢0  ──────  0     0   ⎥\n",
       "⎢     R               ⎥\n",
       "⎢                     ⎥\n",
       "⎢0    0     0     0   ⎥\n",
       "⎢                     ⎥\n",
       "⎢              2⋅π⋅EI₂⎥\n",
       "⎢0    0     0  ───────⎥\n",
       "⎣                 R   ⎦"
      ]
     },
     "metadata": {},
     "output_type": "display_data"
    }
   ],
   "source": [
    "K_rim_0 = zeros(4)\n",
    "\n",
    "for i in range(4):\n",
    "    for j in range(4):\n",
    "        K_rim_0[i, j] = U_rim.subs(n, 0).diff(d[2*i]).diff(d[2*j])\n",
    "        \n",
    "display(K_rim_0)"
   ]
  },
  {
   "cell_type": "code",
   "execution_count": 7,
   "metadata": {},
   "outputs": [
    {
     "data": {
      "image/png": "[encoded data removed]",
      "text/latex": [
       "$$\\left[\\begin{matrix}\\frac{\\pi EI_{2}}{R^{3}} n^{4} + \\frac{\\pi EI_{w}}{R^{5}} n^{4} + \\frac{\\pi GJ}{R^{3}} n^{2} & - \\frac{\\pi EI_{2}}{R^{2}} n^{2} - \\frac{\\pi EI_{w}}{R^{4}} n^{4} - \\frac{\\pi GJ}{R^{2}} n^{2}\\\\- \\frac{\\pi EI_{2}}{R^{2}} n^{2} - \\frac{\\pi EI_{w}}{R^{4}} n^{4} - \\frac{\\pi GJ}{R^{2}} n^{2} & \\frac{\\pi EI_{2}}{R} + \\frac{\\pi EI_{w}}{R^{3}} n^{4} + \\frac{\\pi GJ}{R} n^{2}\\end{matrix}\\right]$$"
      ],
      "text/plain": [
       "⎡        4           4         2            2           4         2⎤\n",
       "⎢ π⋅EI₂⋅n    π⋅EI_w⋅n    π⋅GJ⋅n      π⋅EI₂⋅n    π⋅EI_w⋅n    π⋅GJ⋅n ⎥\n",
       "⎢ ──────── + ───────── + ───────   - ──────── - ───────── - ───────⎥\n",
       "⎢     3           5          3           2           4          2  ⎥\n",
       "⎢    R           R          R           R           R          R   ⎥\n",
       "⎢                                                                  ⎥\n",
       "⎢         2           4         2                    4         2   ⎥\n",
       "⎢  π⋅EI₂⋅n    π⋅EI_w⋅n    π⋅GJ⋅n     π⋅EI₂   π⋅EI_w⋅n    π⋅GJ⋅n    ⎥\n",
       "⎢- ──────── - ───────── - ───────    ───── + ───────── + ───────   ⎥\n",
       "⎢      2           4          2        R          3         R      ⎥\n",
       "⎣     R           R          R                   R                 ⎦"
      ]
     },
     "metadata": {},
     "output_type": "display_data"
    },
    {
     "data": {
      "image/png": "[encoded data removed]",
      "text/latex": [
       "$$\\left[\\begin{matrix}\\frac{EA}{2} \\left(\\frac{2 \\pi}{R} + \\frac{4 \\pi}{R^{2}} n^{2} y_{0} + \\frac{2 \\pi}{R^{3}} n^{4} y_{0}^{2}\\right) + \\frac{\\pi EI_{1}}{R^{3}} n^{4} & 0 & 0 & \\frac{EA}{2} \\left(- \\frac{2 \\pi}{R} n - \\frac{2 \\pi}{R^{2}} n^{3} y_{0} - \\frac{2 \\pi}{R^{2}} n y_{0} - \\frac{2 \\pi}{R^{3}} n^{3} y_{0}^{2}\\right) - \\frac{\\pi EI_{1}}{R^{3}} n^{3}\\\\0 & \\frac{EA}{2} \\left(\\frac{2 \\pi}{R} + \\frac{4 \\pi}{R^{2}} n^{2} y_{0} + \\frac{2 \\pi}{R^{3}} n^{4} y_{0}^{2}\\right) + \\frac{\\pi EI_{1}}{R^{3}} n^{4} & \\frac{EA}{2} \\left(\\frac{2 \\pi}{R} n + \\frac{2 \\pi}{R^{2}} n^{3} y_{0} + \\frac{2 \\pi}{R^{2}} n y_{0} + \\frac{2 \\pi}{R^{3}} n^{3} y_{0}^{2}\\right) + \\frac{\\pi EI_{1}}{R^{3}} n^{3} & 0\\\\0 & \\frac{EA}{2} \\left(\\frac{2 \\pi}{R} n + \\frac{2 \\pi}{R^{2}} n^{3} y_{0} + \\frac{2 \\pi}{R^{2}} n y_{0} + \\frac{2 \\pi}{R^{3}} n^{3} y_{0}^{2}\\right) + \\frac{\\pi EI_{1}}{R^{3}} n^{3} & \\frac{EA}{2} \\left(\\frac{2 \\pi}{R} n^{2} + \\frac{4 \\pi}{R^{2}} n^{2} y_{0} + \\frac{2 \\pi}{R^{3}} n^{2} y_{0}^{2}\\right) + \\frac{\\pi EI_{1}}{R^{3}} n^{2} & 0\\\\\\frac{EA}{2} \\left(- \\frac{2 \\pi}{R} n - \\frac{2 \\pi}{R^{2}} n^{3} y_{0} - \\frac{2 \\pi}{R^{2}} n y_{0} - \\frac{2 \\pi}{R^{3}} n^{3} y_{0}^{2}\\right) - \\frac{\\pi EI_{1}}{R^{3}} n^{3} & 0 & 0 & \\frac{EA}{2} \\left(\\frac{2 \\pi}{R} n^{2} + \\frac{4 \\pi}{R^{2}} n^{2} y_{0} + \\frac{2 \\pi}{R^{3}} n^{2} y_{0}^{2}\\right) + \\frac{\\pi EI_{1}}{R^{3}} n^{2}\\end{matrix}\\right]$$"
      ],
      "text/plain": [
       "⎡          ⎛           2           4   2⎞                                     \n",
       "⎢          ⎜2⋅π   4⋅π⋅n ⋅y₀   2⋅π⋅n ⋅y₀ ⎟                                     \n",
       "⎢       EA⋅⎜─── + ───────── + ──────────⎟                                     \n",
       "⎢          ⎜ R         2           3    ⎟          4                          \n",
       "⎢          ⎝          R           R     ⎠   π⋅EI₁⋅n                           \n",
       "⎢       ───────────────────────────────── + ────────                          \n",
       "⎢                       2                       3                             \n",
       "⎢                                              R                              \n",
       "⎢                                                                             \n",
       "⎢                                                                      ⎛      \n",
       "⎢                                                                      ⎜2⋅π   \n",
       "⎢                                                                   EA⋅⎜─── + \n",
       "⎢                                                                      ⎜ R    \n",
       "⎢                                                                      ⎝      \n",
       "⎢                             0                                     ──────────\n",
       "⎢                                                                             \n",
       "⎢                                                                             \n",
       "⎢                                                                             \n",
       "⎢                                                                ⎛            \n",
       "⎢                                                                ⎜2⋅π⋅n   2⋅π⋅\n",
       "⎢                                                             EA⋅⎜───── + ────\n",
       "⎢                                                                ⎜  R         \n",
       "⎢                                                                ⎝            \n",
       "⎢                             0                               ────────────────\n",
       "⎢                                                                             \n",
       "⎢                                                                             \n",
       "⎢                                                                             \n",
       "⎢   ⎛               3                      3   2⎞                             \n",
       "⎢   ⎜  2⋅π⋅n   2⋅π⋅n ⋅y₀   2⋅π⋅n⋅y₀   2⋅π⋅n ⋅y₀ ⎟                             \n",
       "⎢EA⋅⎜- ───── - ───────── - ──────── - ──────────⎟                             \n",
       "⎢   ⎜    R          2          2           3    ⎟          3                  \n",
       "⎢   ⎝              R          R           R     ⎠   π⋅EI₁⋅n                   \n",
       "⎢──────────────────────────────────────────────── - ────────                  \n",
       "⎢                       2                               3                     \n",
       "⎣                                                      R                      \n",
       "\n",
       "                                                                              \n",
       "                                                                              \n",
       "                                                                              \n",
       "                                                                              \n",
       "                                                                              \n",
       "            0                                                          0      \n",
       "                                                                              \n",
       "                                                                              \n",
       "                                                                              \n",
       "     2           4   2⎞                       ⎛             3                 \n",
       "4⋅π⋅n ⋅y₀   2⋅π⋅n ⋅y₀ ⎟                       ⎜2⋅π⋅n   2⋅π⋅n ⋅y₀   2⋅π⋅n⋅y₀   \n",
       "───────── + ──────────⎟                    EA⋅⎜───── + ───────── + ──────── + \n",
       "     2           3    ⎟          4            ⎜  R          2          2      \n",
       "    R           R     ⎠   π⋅EI₁⋅n             ⎝            R          R       \n",
       "─────────────────────── + ────────         ───────────────────────────────────\n",
       "      2                       3                                  2            \n",
       "                             R                                                \n",
       "                                                                              \n",
       " 3                      3   2⎞                     ⎛     2        2           \n",
       "n ⋅y₀   2⋅π⋅n⋅y₀   2⋅π⋅n ⋅y₀ ⎟                     ⎜2⋅π⋅n    4⋅π⋅n ⋅y₀   2⋅π⋅n\n",
       "───── + ──────── + ──────────⎟                  EA⋅⎜────── + ───────── + ─────\n",
       " 2          2           3    ⎟          3          ⎜  R           2           \n",
       "R          R           R     ⎠   π⋅EI₁⋅n           ⎝             R           R\n",
       "────────────────────────────── + ────────       ──────────────────────────────\n",
       "      2                              3                           2            \n",
       "                                    R                                         \n",
       "                                                                              \n",
       "                                                                              \n",
       "                                                                              \n",
       "                                                                              \n",
       "                                                                              \n",
       "                                                                              \n",
       "            0                                                          0      \n",
       "                                                                              \n",
       "                                                                              \n",
       "\n",
       "                           ⎛               3                      3   2⎞      \n",
       "                           ⎜  2⋅π⋅n   2⋅π⋅n ⋅y₀   2⋅π⋅n⋅y₀   2⋅π⋅n ⋅y₀ ⎟      \n",
       "                        EA⋅⎜- ───── - ───────── - ──────── - ──────────⎟      \n",
       "                           ⎜    R          2          2           3    ⎟      \n",
       "                           ⎝              R          R           R     ⎠   π⋅E\n",
       "                        ──────────────────────────────────────────────── - ───\n",
       "                                               2                              \n",
       "                                                                              \n",
       "                                                                              \n",
       "     3   2⎞                                                                   \n",
       "2⋅π⋅n ⋅y₀ ⎟                                                                   \n",
       "──────────⎟                                                                   \n",
       "     3    ⎟          3                                                        \n",
       "    R     ⎠   π⋅EI₁⋅n                                                         \n",
       "─────────── + ────────                               0                        \n",
       "                  3                                                           \n",
       "                 R                                                            \n",
       "                                                                              \n",
       "2   2⎞                                                                        \n",
       " ⋅y₀ ⎟                                                                        \n",
       "─────⎟                                                                        \n",
       "3    ⎟          2                                                             \n",
       "     ⎠   π⋅EI₁⋅n                                                              \n",
       "────── + ────────                                    0                        \n",
       "             3                                                                \n",
       "            R                                                                 \n",
       "                                                                              \n",
       "                                 ⎛     2        2           2   2⎞            \n",
       "                                 ⎜2⋅π⋅n    4⋅π⋅n ⋅y₀   2⋅π⋅n ⋅y₀ ⎟            \n",
       "                              EA⋅⎜────── + ───────── + ──────────⎟            \n",
       "                                 ⎜  R           2           3    ⎟          2 \n",
       "                                 ⎝             R           R     ⎠   π⋅EI₁⋅n  \n",
       "                              ──────────────────────────────────── + ──────── \n",
       "                                               2                         3    \n",
       "                                                                        R     \n",
       "\n",
       "     ⎤\n",
       "     ⎥\n",
       "     ⎥\n",
       "    3⎥\n",
       "I₁⋅n ⎥\n",
       "─────⎥\n",
       " 3   ⎥\n",
       "R    ⎥\n",
       "     ⎥\n",
       "     ⎥\n",
       "     ⎥\n",
       "     ⎥\n",
       "     ⎥\n",
       "     ⎥\n",
       "     ⎥\n",
       "     ⎥\n",
       "     ⎥\n",
       "     ⎥\n",
       "     ⎥\n",
       "     ⎥\n",
       "     ⎥\n",
       "     ⎥\n",
       "     ⎥\n",
       "     ⎥\n",
       "     ⎥\n",
       "     ⎥\n",
       "     ⎥\n",
       "     ⎥\n",
       "     ⎥\n",
       "     ⎥\n",
       "     ⎥\n",
       "     ⎥\n",
       "     ⎥\n",
       "     ⎥\n",
       "     ⎦"
      ]
     },
     "metadata": {},
     "output_type": "display_data"
    }
   ],
   "source": [
    "K_rim_n = zeros(8)\n",
    "\n",
    "for i, m1 in enumerate(d):\n",
    "    for j, m2 in enumerate(d):\n",
    "        K_rim_n[i, j] = U_rim.subs(n, npos).diff(m1).diff(m2)\n",
    "        \n",
    "display(K_rim_n[[0, 6],[0, 6]])\n",
    "\n",
    "display(K_rim_n[2:6, 2:6])"
   ]
  },
  {
   "cell_type": "code",
   "execution_count": 8,
   "metadata": {},
   "outputs": [
    {
     "data": {
      "image/png": "[encoded data removed]",
      "text/latex": [
       "$$\\left[\\begin{matrix}0 & 0 & 0 & 0\\\\0 & 0 & 0 & 0\\\\0 & 0 & 0 & 0\\\\0 & 0 & 0 & 2 \\pi R t y_{0}\\end{matrix}\\right]$$"
      ],
      "text/plain": [
       "⎡0  0  0      0     ⎤\n",
       "⎢                   ⎥\n",
       "⎢0  0  0      0     ⎥\n",
       "⎢                   ⎥\n",
       "⎢0  0  0      0     ⎥\n",
       "⎢                   ⎥\n",
       "⎣0  0  0  2⋅π⋅R⋅t⋅y₀⎦"
      ]
     },
     "metadata": {},
     "output_type": "display_data"
    },
    {
     "data": {
      "image/png": "[encoded data removed]",
      "text/latex": [
       "$$\\left[\\begin{matrix}- \\frac{R t}{2} \\left(\\frac{2 \\pi}{R} n^{2} + \\frac{2 \\pi}{R^{3}} n^{2} r_{y}^{2}\\right) & - \\frac{R t}{2} \\left(- \\frac{2 \\pi}{R} n^{2} y_{0} - \\frac{2 \\pi}{R^{2}} n^{2} r_{y}^{2}\\right)\\\\- \\frac{R t}{2} \\left(- \\frac{2 \\pi}{R} n^{2} y_{0} - \\frac{2 \\pi}{R^{2}} n^{2} r_{y}^{2}\\right) & - \\frac{R t}{2} \\left(- 2 \\pi y_{0} + \\frac{2 \\pi}{R} n^{2} r_{x}^{2} + \\frac{2 \\pi}{R} n^{2} r_{y}^{2} + \\frac{2 \\pi}{R} n^{2} y_{0}^{2}\\right)\\end{matrix}\\right]$$"
      ],
      "text/plain": [
       "⎡       ⎛     2        2    2⎞                      ⎛       2           2    2\n",
       "⎢       ⎜2⋅π⋅n    2⋅π⋅n ⋅r_y ⎟                      ⎜  2⋅π⋅n ⋅y₀   2⋅π⋅n ⋅r_y \n",
       "⎢  -R⋅t⋅⎜────── + ───────────⎟                 -R⋅t⋅⎜- ───────── - ───────────\n",
       "⎢       ⎜  R            3    ⎟                      ⎜      R             2    \n",
       "⎢       ⎝              R     ⎠                      ⎝                   R     \n",
       "⎢  ────────────────────────────                ───────────────────────────────\n",
       "⎢               2                                              2              \n",
       "⎢                                                                             \n",
       "⎢     ⎛       2           2    2⎞                                             \n",
       "⎢     ⎜  2⋅π⋅n ⋅y₀   2⋅π⋅n ⋅r_y ⎟        ⎛               2   2        2    2  \n",
       "⎢-R⋅t⋅⎜- ───────── - ───────────⎟        ⎜          2⋅π⋅n ⋅rₓ    2⋅π⋅n ⋅r_y   \n",
       "⎢     ⎜      R             2    ⎟   -R⋅t⋅⎜-2⋅π⋅y₀ + ────────── + ─────────── +\n",
       "⎢     ⎝                   R     ⎠        ⎝              R             R       \n",
       "⎢─────────────────────────────────  ──────────────────────────────────────────\n",
       "⎣                2                                             2              \n",
       "\n",
       "⎞            ⎤\n",
       "⎟            ⎥\n",
       "⎟            ⎥\n",
       "⎟            ⎥\n",
       "⎠            ⎥\n",
       "──           ⎥\n",
       "             ⎥\n",
       "             ⎥\n",
       "             ⎥\n",
       "      2   2⎞ ⎥\n",
       " 2⋅π⋅n ⋅y₀ ⎟ ⎥\n",
       " ──────────⎟ ⎥\n",
       "     R     ⎠ ⎥\n",
       "─────────────⎥\n",
       "             ⎦"
      ]
     },
     "metadata": {},
     "output_type": "display_data"
    }
   ],
   "source": [
    "W_rim_0 = zeros(4)\n",
    "\n",
    "for i in range(4):\n",
    "    for j in range(4):\n",
    "        W_rim_0[i, j] = -V_rim.subs(n, 0).diff(d[2*i]).diff(d[2*j])\n",
    "        \n",
    "display(W_rim_0)\n",
    "\n",
    "W_rim_n = zeros(8)\n",
    "\n",
    "for i, m1 in enumerate(d):\n",
    "    for j, m2 in enumerate(d):\n",
    "        W_rim_n[i, j] = -V_rim.subs(n, npos).diff(m1).diff(m2)\n",
    "        \n",
    "display(W_rim_n[[0, 6],[0, 6]])"
   ]
  },
  {
   "cell_type": "markdown",
   "metadata": {},
   "source": [
    "# Spokes stiffness matrix"
   ]
  },
  {
   "cell_type": "code",
   "execution_count": 9,
   "metadata": {},
   "outputs": [
    {
     "data": {
      "image/png": "[encoded data removed]",
      "text/latex": [
       "$$\\left[\\begin{matrix}2 \\pi R k_{uu} & 2 \\pi R k_{uv} & 2 \\pi R k_{uw} & 2 \\pi R k_{u\\phi}\\\\2 \\pi R k_{uv} & 2 \\pi R k_{vv} & 2 \\pi R k_{vw} & 2 \\pi R k_{v\\phi}\\\\2 \\pi R k_{uw} & 2 \\pi R k_{vw} & 2 \\pi R k_{ww} & 2 \\pi R k_{w\\phi}\\\\2 \\pi R k_{u\\phi} & 2 \\pi R k_{v\\phi} & 2 \\pi R k_{w\\phi} & 2 \\pi R k_{\\phi\\phi}\\end{matrix}\\right]$$"
      ],
      "text/plain": [
       "⎡   2⋅π⋅R⋅kᵤᵤ        2⋅π⋅R⋅kᵤᵥ       2⋅π⋅R⋅k_uw      2⋅π⋅R⋅k_{u\\phi}  ⎤\n",
       "⎢                                                                     ⎥\n",
       "⎢   2⋅π⋅R⋅kᵤᵥ        2⋅π⋅R⋅kᵥᵥ       2⋅π⋅R⋅k_vw      2⋅π⋅R⋅k_{v\\phi}  ⎥\n",
       "⎢                                                                     ⎥\n",
       "⎢  2⋅π⋅R⋅k_uw       2⋅π⋅R⋅k_vw       2⋅π⋅R⋅k_ww      2⋅π⋅R⋅k_{w\\phi}  ⎥\n",
       "⎢                                                                     ⎥\n",
       "⎣2⋅π⋅R⋅k_{u\\phi}  2⋅π⋅R⋅k_{v\\phi}  2⋅π⋅R⋅k_{w\\phi}  2⋅π⋅R⋅k_{\\phi\\phi}⎦"
      ]
     },
     "metadata": {},
     "output_type": "display_data"
    }
   ],
   "source": [
    "K_spk_0 = zeros(4)\n",
    "\n",
    "for i in range(4):\n",
    "    for j in range(4):\n",
    "        K_spk_0[i, j] = U_spokes.subs(n, 0).diff(d[2*i]).diff(d[2*j])\n",
    "        \n",
    "display(K_spk_0)"
   ]
  },
  {
   "cell_type": "code",
   "execution_count": 10,
   "metadata": {},
   "outputs": [
    {
     "data": {
      "image/png": "[encoded data removed]",
      "text/latex": [
       "$$\\left[\\begin{matrix}\\pi R k_{uu} & 0 & \\pi R k_{uv} & 0 & \\pi R k_{uw} & 0 & \\pi R k_{u\\phi} & 0\\\\0 & \\pi R k_{uu} & 0 & \\pi R k_{uv} & 0 & \\pi R k_{uw} & 0 & \\pi R k_{u\\phi}\\\\\\pi R k_{uv} & 0 & \\pi R k_{vv} & 0 & \\pi R k_{vw} & 0 & \\pi R k_{v\\phi} & 0\\\\0 & \\pi R k_{uv} & 0 & \\pi R k_{vv} & 0 & \\pi R k_{vw} & 0 & \\pi R k_{v\\phi}\\\\\\pi R k_{uw} & 0 & \\pi R k_{vw} & 0 & \\pi R k_{ww} & 0 & \\pi R k_{w\\phi} & 0\\\\0 & \\pi R k_{uw} & 0 & \\pi R k_{vw} & 0 & \\pi R k_{ww} & 0 & \\pi R k_{w\\phi}\\\\\\pi R k_{u\\phi} & 0 & \\pi R k_{v\\phi} & 0 & \\pi R k_{w\\phi} & 0 & \\pi R k_{\\phi\\phi} & 0\\\\0 & \\pi R k_{u\\phi} & 0 & \\pi R k_{v\\phi} & 0 & \\pi R k_{w\\phi} & 0 & \\pi R k_{\\phi\\phi}\\end{matrix}\\right]$$"
      ],
      "text/plain": [
       "⎡   π⋅R⋅kᵤᵤ           0           π⋅R⋅kᵤᵥ           0          π⋅R⋅k_uw       \n",
       "⎢                                                                             \n",
       "⎢      0           π⋅R⋅kᵤᵤ           0           π⋅R⋅kᵤᵥ           0          \n",
       "⎢                                                                             \n",
       "⎢   π⋅R⋅kᵤᵥ           0           π⋅R⋅kᵥᵥ           0          π⋅R⋅k_vw       \n",
       "⎢                                                                             \n",
       "⎢      0           π⋅R⋅kᵤᵥ           0           π⋅R⋅kᵥᵥ           0          \n",
       "⎢                                                                             \n",
       "⎢  π⋅R⋅k_uw           0          π⋅R⋅k_vw           0          π⋅R⋅k_ww       \n",
       "⎢                                                                             \n",
       "⎢      0          π⋅R⋅k_uw           0          π⋅R⋅k_vw           0          \n",
       "⎢                                                                             \n",
       "⎢π⋅R⋅k_{u\\phi}        0        π⋅R⋅k_{v\\phi}        0        π⋅R⋅k_{w\\phi}    \n",
       "⎢                                                                             \n",
       "⎣      0        π⋅R⋅k_{u\\phi}        0        π⋅R⋅k_{v\\phi}        0        π⋅\n",
       "\n",
       "    0         π⋅R⋅k_{u\\phi}           0        ⎤\n",
       "                                               ⎥\n",
       "π⋅R⋅k_uw            0           π⋅R⋅k_{u\\phi}  ⎥\n",
       "                                               ⎥\n",
       "    0         π⋅R⋅k_{v\\phi}           0        ⎥\n",
       "                                               ⎥\n",
       "π⋅R⋅k_vw            0           π⋅R⋅k_{v\\phi}  ⎥\n",
       "                                               ⎥\n",
       "    0         π⋅R⋅k_{w\\phi}           0        ⎥\n",
       "                                               ⎥\n",
       "π⋅R⋅k_ww            0           π⋅R⋅k_{w\\phi}  ⎥\n",
       "                                               ⎥\n",
       "    0        π⋅R⋅k_{\\phi\\phi}         0        ⎥\n",
       "                                               ⎥\n",
       "R⋅k_{w\\phi}         0          π⋅R⋅k_{\\phi\\phi}⎦"
      ]
     },
     "metadata": {},
     "output_type": "display_data"
    }
   ],
   "source": [
    "K_spk_n = zeros(8)\n",
    "\n",
    "for i, m1 in enumerate(d):\n",
    "    for j, m2 in enumerate(d):\n",
    "        K_spk_n[i, j] = U_spokes.subs(n, npos).diff(m1).diff(m2)\n",
    "        \n",
    "display(K_spk_n)"
   ]
  },
  {
   "cell_type": "code",
   "execution_count": 11,
   "metadata": {},
   "outputs": [
    {
     "data": {
      "image/png": "[encoded data removed]",
      "text/latex": [
       "$$\\left[\\begin{matrix}\\frac{\\pi EI_{2}}{R^{3}} n^{4} + \\frac{\\pi EI_{w}}{R^{5}} n^{4} + \\frac{\\pi GJ}{R^{3}} n^{2} + \\pi R k_{uu} - \\frac{R t}{2} \\left(\\frac{2 \\pi}{R} n^{2} + \\frac{2 \\pi}{R^{3}} n^{2} r_{y}^{2}\\right) & \\pi R k_{uv} & 0 & - \\frac{\\pi EI_{2}}{R^{2}} n^{2} - \\frac{\\pi EI_{w}}{R^{4}} n^{4} - \\frac{\\pi GJ}{R^{2}} n^{2} + \\pi R k_{u\\phi} - \\frac{R t}{2} \\left(- \\frac{2 \\pi}{R} n^{2} y_{0} - \\frac{2 \\pi}{R^{2}} n^{2} r_{y}^{2}\\right)\\\\\\pi R k_{uv} & \\frac{EA}{2} \\left(\\frac{2 \\pi}{R} + \\frac{4 \\pi}{R^{2}} n^{2} y_{0} + \\frac{2 \\pi}{R^{3}} n^{4} y_{0}^{2}\\right) + \\frac{\\pi EI_{1}}{R^{3}} n^{4} + \\pi R k_{vv} & \\frac{EA}{2} \\left(- \\frac{2 \\pi}{R} n - \\frac{2 \\pi}{R^{2}} n^{3} y_{0} - \\frac{2 \\pi}{R^{2}} n y_{0} - \\frac{2 \\pi}{R^{3}} n^{3} y_{0}^{2}\\right) - \\frac{\\pi EI_{1}}{R^{3}} n^{3} & \\pi R k_{v\\phi}\\\\0 & \\frac{EA}{2} \\left(- \\frac{2 \\pi}{R} n - \\frac{2 \\pi}{R^{2}} n^{3} y_{0} - \\frac{2 \\pi}{R^{2}} n y_{0} - \\frac{2 \\pi}{R^{3}} n^{3} y_{0}^{2}\\right) - \\frac{\\pi EI_{1}}{R^{3}} n^{3} & \\frac{EA}{2} \\left(\\frac{2 \\pi}{R} n^{2} + \\frac{4 \\pi}{R^{2}} n^{2} y_{0} + \\frac{2 \\pi}{R^{3}} n^{2} y_{0}^{2}\\right) + \\frac{\\pi EI_{1}}{R^{3}} n^{2} + \\pi R k_{ww} & 0\\\\- \\frac{\\pi EI_{2}}{R^{2}} n^{2} - \\frac{\\pi EI_{w}}{R^{4}} n^{4} - \\frac{\\pi GJ}{R^{2}} n^{2} + \\pi R k_{u\\phi} - \\frac{R t}{2} \\left(- \\frac{2 \\pi}{R} n^{2} y_{0} - \\frac{2 \\pi}{R^{2}} n^{2} r_{y}^{2}\\right) & \\pi R k_{v\\phi} & 0 & \\frac{\\pi EI_{2}}{R} + \\frac{\\pi EI_{w}}{R^{3}} n^{4} + \\frac{\\pi GJ}{R} n^{2} + \\pi R k_{\\phi\\phi} - \\frac{R t}{2} \\left(- 2 \\pi y_{0} + \\frac{2 \\pi}{R} n^{2} r_{x}^{2} + \\frac{2 \\pi}{R} n^{2} r_{y}^{2} + \\frac{2 \\pi}{R} n^{2} y_{0}^{2}\\right)\\end{matrix}\\right]$$"
      ],
      "text/plain": [
       "⎡                                                     ⎛     2        2    2⎞  \n",
       "⎢                                                     ⎜2⋅π⋅n    2⋅π⋅n ⋅r_y ⎟  \n",
       "⎢                                                 R⋅t⋅⎜────── + ───────────⎟  \n",
       "⎢             4           4         2                 ⎜  R            3    ⎟  \n",
       "⎢      π⋅EI₂⋅n    π⋅EI_w⋅n    π⋅GJ⋅n                  ⎝              R     ⎠  \n",
       "⎢      ──────── + ───────── + ─────── + π⋅R⋅kᵤᵤ - ──────────────────────────  \n",
       "⎢          3           5          3                           2               \n",
       "⎢         R           R          R                                            \n",
       "⎢                                                                             \n",
       "⎢                                                                             \n",
       "⎢                                                                             \n",
       "⎢                                                                             \n",
       "⎢                                                                             \n",
       "⎢                                                                             \n",
       "⎢                                     π⋅R⋅kᵤᵥ                                 \n",
       "⎢                                                                             \n",
       "⎢                                                                             \n",
       "⎢                                                                             \n",
       "⎢                                                                             \n",
       "⎢                                                                             \n",
       "⎢                                                                             \n",
       "⎢                                                                             \n",
       "⎢                                                                             \n",
       "⎢                                        0                                    \n",
       "⎢                                                                             \n",
       "⎢                                                                             \n",
       "⎢                                                                             \n",
       "⎢                                                       ⎛       2           2 \n",
       "⎢                                                       ⎜  2⋅π⋅n ⋅y₀   2⋅π⋅n ⋅\n",
       "⎢                                                   R⋅t⋅⎜- ───────── - ───────\n",
       "⎢         2           4         2                       ⎜      R             2\n",
       "⎢  π⋅EI₂⋅n    π⋅EI_w⋅n    π⋅GJ⋅n                        ⎝                   R \n",
       "⎢- ──────── - ───────── - ─────── + π⋅R⋅k_{u\\phi} - ──────────────────────────\n",
       "⎢      2           4          2                                    2          \n",
       "⎣     R           R          R                                                \n",
       "\n",
       "                                                                              \n",
       "                                                                              \n",
       "                                                                              \n",
       "                                                                              \n",
       "                                                                              \n",
       "                                 π⋅R⋅kᵤᵥ                                      \n",
       "                                                                              \n",
       "                                                                              \n",
       "                                                                              \n",
       "            ⎛           2           4   2⎞                             ⎛      \n",
       "            ⎜2⋅π   4⋅π⋅n ⋅y₀   2⋅π⋅n ⋅y₀ ⎟                             ⎜  2⋅π⋅\n",
       "         EA⋅⎜─── + ───────── + ──────────⎟                          EA⋅⎜- ────\n",
       "            ⎜ R         2           3    ⎟          4                  ⎜    R \n",
       "            ⎝          R           R     ⎠   π⋅EI₁⋅n                   ⎝      \n",
       "         ───────────────────────────────── + ──────── + π⋅R⋅kᵥᵥ     ──────────\n",
       "                         2                       3                            \n",
       "                                                R                             \n",
       "                                                                              \n",
       "          ⎛               3                      3   2⎞                ⎛     2\n",
       "          ⎜  2⋅π⋅n   2⋅π⋅n ⋅y₀   2⋅π⋅n⋅y₀   2⋅π⋅n ⋅y₀ ⎟                ⎜2⋅π⋅n \n",
       "       EA⋅⎜- ───── - ───────── - ──────── - ──────────⎟             EA⋅⎜──────\n",
       "          ⎜    R          2          2           3    ⎟          3     ⎜  R   \n",
       "          ⎝              R          R           R     ⎠   π⋅EI₁⋅n      ⎝      \n",
       "       ──────────────────────────────────────────────── - ────────  ──────────\n",
       "                              2                               3               \n",
       "                                                             R                \n",
       "                                                                              \n",
       "   2⎞                                                                         \n",
       "r_y ⎟                                                                         \n",
       "────⎟                                                                         \n",
       "    ⎟                                                                         \n",
       "    ⎠                                                                         \n",
       "─────                         π⋅R⋅k_{v\\phi}                                   \n",
       "                                                                              \n",
       "                                                                              \n",
       "\n",
       "                                                                              \n",
       "                                                                              \n",
       "                                                                              \n",
       "                                                                      2       \n",
       "                                                               π⋅EI₂⋅n    π⋅EI\n",
       "                   0                                         - ──────── - ────\n",
       "                                                                   2          \n",
       "                                                                  R           \n",
       "                                                                              \n",
       "         3                      3   2⎞                                        \n",
       "n   2⋅π⋅n ⋅y₀   2⋅π⋅n⋅y₀   2⋅π⋅n ⋅y₀ ⎟                                        \n",
       "─ - ───────── - ──────── - ──────────⎟                                        \n",
       "         2          2           3    ⎟          3                             \n",
       "        R          R           R     ⎠   π⋅EI₁⋅n                              \n",
       "────────────────────────────────────── - ────────                             \n",
       "             2                               3                                \n",
       "                                            R                                 \n",
       "                                                                              \n",
       "        2           2   2⎞                                                    \n",
       "   4⋅π⋅n ⋅y₀   2⋅π⋅n ⋅y₀ ⎟                                                    \n",
       " + ───────── + ──────────⎟                                                    \n",
       "        2           3    ⎟          2                                         \n",
       "       R           R     ⎠   π⋅EI₁⋅n                                          \n",
       "────────────────────────── + ──────── + π⋅R⋅k_ww                              \n",
       "       2                         3                                            \n",
       "                                R                                             \n",
       "                                                                              \n",
       "                                                                              \n",
       "                                                                              \n",
       "                                                                              \n",
       "                                                                   4         2\n",
       "                                                   π⋅EI₂   π⋅EI_w⋅n    π⋅GJ⋅n \n",
       "                   0                               ───── + ───────── + ───────\n",
       "                                                     R          3         R   \n",
       "                                                               R              \n",
       "\n",
       "                                      ⎛       2           2    2⎞          ⎤\n",
       "                                      ⎜  2⋅π⋅n ⋅y₀   2⋅π⋅n ⋅r_y ⎟          ⎥\n",
       "                                  R⋅t⋅⎜- ───────── - ───────────⎟          ⎥\n",
       "    4         2                       ⎜      R             2    ⎟          ⎥\n",
       "_w⋅n    π⋅GJ⋅n                        ⎝                   R     ⎠          ⎥\n",
       "───── - ─────── + π⋅R⋅k_{u\\phi} - ───────────────────────────────          ⎥\n",
       " 4          2                                    2                         ⎥\n",
       "R          R                                                               ⎥\n",
       "                                                                           ⎥\n",
       "                                                                           ⎥\n",
       "                                                                           ⎥\n",
       "                                                                           ⎥\n",
       "                                                                           ⎥\n",
       "                                                                           ⎥\n",
       "                 π⋅R⋅k_{v\\phi}                                             ⎥\n",
       "                                                                           ⎥\n",
       "                                                                           ⎥\n",
       "                                                                           ⎥\n",
       "                                                                           ⎥\n",
       "                                                                           ⎥\n",
       "                                                                           ⎥\n",
       "                                                                           ⎥\n",
       "                                                                           ⎥\n",
       "                       0                                                   ⎥\n",
       "                                                                           ⎥\n",
       "                                                                           ⎥\n",
       "                                                                           ⎥\n",
       "                                                                           ⎥\n",
       "                          ⎛               2   2        2    2        2   2⎞⎥\n",
       "                          ⎜          2⋅π⋅n ⋅rₓ    2⋅π⋅n ⋅r_y    2⋅π⋅n ⋅y₀ ⎟⎥\n",
       "                      R⋅t⋅⎜-2⋅π⋅y₀ + ────────── + ─────────── + ──────────⎟⎥\n",
       "                          ⎝              R             R            R     ⎠⎥\n",
       " + π⋅R⋅k_{\\phi\\phi} - ─────────────────────────────────────────────────────⎥\n",
       "                                                2                          ⎥\n",
       "                                                                           ⎦"
      ]
     },
     "metadata": {},
     "output_type": "display_data"
    }
   ],
   "source": [
    "K = (K_spk_n + K_rim_n + W_rim_n)\n",
    "\n",
    "#      u_c, v_c, w_s, phi_c\n",
    "idx = [0,   2,   5,   6]\n",
    "\n",
    "K_b = K[idx, idx]\n",
    "display(K_b)"
   ]
  },
  {
   "cell_type": "code",
   "execution_count": 12,
   "metadata": {},
   "outputs": [
    {
     "data": {
      "image/png": "[encoded data removed]",
      "text/latex": [
       "$$- \\pi^{2} R^{2} k_{v\\phi}^{2} \\left(\\frac{EA}{2} \\left(\\frac{2 \\pi}{R} n^{2} + \\frac{4 \\pi}{R^{2}} n^{2} y_{0} + \\frac{2 \\pi}{R^{3}} n^{2} y_{0}^{2}\\right) + \\frac{\\pi EI_{1}}{R^{3}} n^{2} + \\pi R k_{ww}\\right) - \\left(\\frac{EA}{2} \\left(- \\frac{2 \\pi}{R} n - \\frac{2 \\pi}{R^{2}} n^{3} y_{0} - \\frac{2 \\pi}{R^{2}} n y_{0} - \\frac{2 \\pi}{R^{3}} n^{3} y_{0}^{2}\\right) - \\frac{\\pi EI_{1}}{R^{3}} n^{3}\\right)^{2} \\left(\\frac{\\pi EI_{2}}{R} + \\frac{\\pi EI_{w}}{R^{3}} n^{4} + \\frac{\\pi GJ}{R} n^{2} + \\pi R k_{\\phi\\phi} - \\frac{R t}{2} \\left(- 2 \\pi y_{0} + \\frac{2 \\pi}{R} n^{2} r_{x}^{2} + \\frac{2 \\pi}{R} n^{2} r_{y}^{2} + \\frac{2 \\pi}{R} n^{2} y_{0}^{2}\\right)\\right) + \\left(\\frac{EA}{2} \\left(\\frac{2 \\pi}{R} + \\frac{4 \\pi}{R^{2}} n^{2} y_{0} + \\frac{2 \\pi}{R^{3}} n^{4} y_{0}^{2}\\right) + \\frac{\\pi EI_{1}}{R^{3}} n^{4} + \\pi R k_{vv}\\right) \\left(\\frac{EA}{2} \\left(\\frac{2 \\pi}{R} n^{2} + \\frac{4 \\pi}{R^{2}} n^{2} y_{0} + \\frac{2 \\pi}{R^{3}} n^{2} y_{0}^{2}\\right) + \\frac{\\pi EI_{1}}{R^{3}} n^{2} + \\pi R k_{ww}\\right) \\left(\\frac{\\pi EI_{2}}{R} + \\frac{\\pi EI_{w}}{R^{3}} n^{4} + \\frac{\\pi GJ}{R} n^{2} + \\pi R k_{\\phi\\phi} - \\frac{R t}{2} \\left(- 2 \\pi y_{0} + \\frac{2 \\pi}{R} n^{2} r_{x}^{2} + \\frac{2 \\pi}{R} n^{2} r_{y}^{2} + \\frac{2 \\pi}{R} n^{2} y_{0}^{2}\\right)\\right)$$"
      ],
      "text/plain": [
       "                                                                              \n",
       "                   ⎛   ⎛     2        2           2   2⎞                      \n",
       "                   ⎜   ⎜2⋅π⋅n    4⋅π⋅n ⋅y₀   2⋅π⋅n ⋅y₀ ⎟                      \n",
       "                   ⎜EA⋅⎜────── + ───────── + ──────────⎟                      \n",
       "                   ⎜   ⎜  R           2           3    ⎟          2           \n",
       "   2  2          2 ⎜   ⎝             R           R     ⎠   π⋅EI₁⋅n            \n",
       "- π ⋅R ⋅k_{v\\phi} ⋅⎜──────────────────────────────────── + ──────── + π⋅R⋅k_ww\n",
       "                   ⎜                 2                         3              \n",
       "                   ⎝                                          R               \n",
       "\n",
       "                                                                 2            \n",
       "⎞   ⎛   ⎛               3                      3   2⎞           ⎞             \n",
       "⎟   ⎜   ⎜  2⋅π⋅n   2⋅π⋅n ⋅y₀   2⋅π⋅n⋅y₀   2⋅π⋅n ⋅y₀ ⎟           ⎟  ⎛          \n",
       "⎟   ⎜EA⋅⎜- ───── - ───────── - ──────── - ──────────⎟           ⎟  ⎜          \n",
       "⎟   ⎜   ⎜    R          2          2           3    ⎟          3⎟  ⎜          \n",
       "⎟   ⎜   ⎝              R          R           R     ⎠   π⋅EI₁⋅n ⎟  ⎜π⋅EI₂   π⋅\n",
       "⎟ - ⎜──────────────────────────────────────────────── - ────────⎟ ⋅⎜───── + ──\n",
       "⎟   ⎜                       2                               3   ⎟  ⎜  R       \n",
       "⎠   ⎝                                                      R    ⎠  ⎝          \n",
       "\n",
       "                                                                              \n",
       "                                                                              \n",
       "                                           ⎛               2   2        2    2\n",
       "                                           ⎜          2⋅π⋅n ⋅rₓ    2⋅π⋅n ⋅r_y \n",
       "      4         2                      R⋅t⋅⎜-2⋅π⋅y₀ + ────────── + ───────────\n",
       "EI_w⋅n    π⋅GJ⋅n                           ⎝              R             R     \n",
       "─────── + ─────── + π⋅R⋅k_{\\phi\\phi} - ───────────────────────────────────────\n",
       "   3         R                                                   2            \n",
       "  R                                                                           \n",
       "\n",
       "                                                                              \n",
       "                  ⎛   ⎛           2           4   2⎞                     ⎞ ⎛  \n",
       "        2   2⎞⎞   ⎜   ⎜2⋅π   4⋅π⋅n ⋅y₀   2⋅π⋅n ⋅y₀ ⎟                     ⎟ ⎜  \n",
       "   2⋅π⋅n ⋅y₀ ⎟⎟   ⎜EA⋅⎜─── + ───────── + ──────────⎟                     ⎟ ⎜EA\n",
       " + ──────────⎟⎟   ⎜   ⎜ R         2           3    ⎟          4          ⎟ ⎜  \n",
       "       R     ⎠⎟   ⎜   ⎝          R           R     ⎠   π⋅EI₁⋅n           ⎟ ⎜  \n",
       "──────────────⎟ + ⎜───────────────────────────────── + ──────── + π⋅R⋅kᵥᵥ⎟⋅⎜──\n",
       "              ⎟   ⎜                2                       3             ⎟ ⎜  \n",
       "              ⎠   ⎝                                       R              ⎠ ⎝  \n",
       "\n",
       "                                                                              \n",
       " ⎛     2        2           2   2⎞                      ⎞                     \n",
       " ⎜2⋅π⋅n    4⋅π⋅n ⋅y₀   2⋅π⋅n ⋅y₀ ⎟                      ⎟ ⎛                   \n",
       "⋅⎜────── + ───────── + ──────────⎟                      ⎟ ⎜                   \n",
       " ⎜  R           2           3    ⎟          2           ⎟ ⎜                4  \n",
       " ⎝             R           R     ⎠   π⋅EI₁⋅n            ⎟ ⎜π⋅EI₂   π⋅EI_w⋅n   \n",
       "────────────────────────────────── + ──────── + π⋅R⋅k_ww⎟⋅⎜───── + ───────── +\n",
       "               2                         3              ⎟ ⎜  R          3     \n",
       "                                        R               ⎠ ⎝            R      \n",
       "\n",
       "                                                                              \n",
       "                                                                              \n",
       "                                  ⎛               2   2        2    2        2\n",
       "                                  ⎜          2⋅π⋅n ⋅rₓ    2⋅π⋅n ⋅r_y    2⋅π⋅n \n",
       "       2                      R⋅t⋅⎜-2⋅π⋅y₀ + ────────── + ─────────── + ──────\n",
       " π⋅GJ⋅n                           ⎝              R             R            R \n",
       " ─────── + π⋅R⋅k_{\\phi\\phi} - ────────────────────────────────────────────────\n",
       "    R                                                   2                     \n",
       "                                                                              \n",
       "\n",
       "      \n",
       "      \n",
       "   2⎞⎞\n",
       "⋅y₀ ⎟⎟\n",
       "────⎟⎟\n",
       "    ⎠⎟\n",
       "─────⎟\n",
       "     ⎟\n",
       "     ⎠"
      ]
     },
     "execution_count": 12,
     "metadata": {},
     "output_type": "execute_result"
    }
   ],
   "source": [
    "K_b[[1, 2, 3], [1, 2, 3]].det()"
   ]
  },
  {
   "cell_type": "code",
   "execution_count": 13,
   "metadata": {},
   "outputs": [
    {
     "data": {
      "image/png": "[encoded data removed]",
      "text/latex": [
       "$$\\left(\\frac{\\pi EI_{2}}{R} + \\frac{\\pi EI_{w}}{R^{3}} n^{4} + \\frac{\\pi GJ}{R} n^{2} + \\pi R k_{\\phi\\phi} - \\frac{R t}{2} \\left(- 2 \\pi y_{0} + \\frac{2 \\pi}{R} n^{2} r_{x}^{2} + \\frac{2 \\pi}{R} n^{2} r_{y}^{2} + \\frac{2 \\pi}{R} n^{2} y_{0}^{2}\\right)\\right) \\left(\\frac{\\pi EI_{2}}{R^{3}} n^{4} + \\frac{\\pi EI_{w}}{R^{5}} n^{4} + \\frac{\\pi GJ}{R^{3}} n^{2} + \\pi R k_{uu} - \\frac{R t}{2} \\left(\\frac{2 \\pi}{R} n^{2} + \\frac{2 \\pi}{R^{3}} n^{2} r_{y}^{2}\\right)\\right) - \\left(- \\frac{\\pi EI_{2}}{R^{2}} n^{2} - \\frac{\\pi EI_{w}}{R^{4}} n^{4} - \\frac{\\pi GJ}{R^{2}} n^{2} + \\pi R k_{u\\phi} - \\frac{R t}{2} \\left(- \\frac{2 \\pi}{R} n^{2} y_{0} - \\frac{2 \\pi}{R^{2}} n^{2} r_{y}^{2}\\right)\\right)^{2}$$"
      ],
      "text/plain": [
       "                                                                              \n",
       "                                                                              \n",
       "⎛                                                     ⎛               2   2   \n",
       "⎜                                                     ⎜          2⋅π⋅n ⋅rₓ    \n",
       "⎜                4         2                      R⋅t⋅⎜-2⋅π⋅y₀ + ────────── + \n",
       "⎜π⋅EI₂   π⋅EI_w⋅n    π⋅GJ⋅n                           ⎝              R        \n",
       "⎜───── + ───────── + ─────── + π⋅R⋅k_{\\phi\\phi} - ────────────────────────────\n",
       "⎜  R          3         R                                                   2 \n",
       "⎝            R                                                                \n",
       "\n",
       "                                                                              \n",
       "                           ⎛                                               ⎛  \n",
       "     2    2        2   2⎞⎞ ⎜                                               ⎜2⋅\n",
       "2⋅π⋅n ⋅r_y    2⋅π⋅n ⋅y₀ ⎟⎟ ⎜                                           R⋅t⋅⎜──\n",
       "─────────── + ──────────⎟⎟ ⎜       4           4         2                 ⎜  \n",
       "     R            R     ⎠⎟ ⎜π⋅EI₂⋅n    π⋅EI_w⋅n    π⋅GJ⋅n                  ⎝  \n",
       "─────────────────────────⎟⋅⎜──────── + ───────── + ─────── + π⋅R⋅kᵤᵤ - ───────\n",
       "                         ⎟ ⎜    3           5          3                      \n",
       "                         ⎠ ⎝   R           R          R                       \n",
       "\n",
       "                                                                              \n",
       "   2        2    2⎞⎞   ⎛                                                      \n",
       "π⋅n    2⋅π⋅n ⋅r_y ⎟⎟   ⎜                                                      \n",
       "──── + ───────────⎟⎟   ⎜                                                   R⋅t\n",
       "R            3    ⎟⎟   ⎜         2           4         2                      \n",
       "            R     ⎠⎟   ⎜  π⋅EI₂⋅n    π⋅EI_w⋅n    π⋅GJ⋅n                       \n",
       "───────────────────⎟ - ⎜- ──────── - ───────── - ─────── + π⋅R⋅k_{u\\phi} - ───\n",
       "     2             ⎟   ⎜      2           4          2                        \n",
       "                   ⎠   ⎝     R           R          R                         \n",
       "\n",
       "                             2\n",
       " ⎛       2           2    2⎞⎞ \n",
       " ⎜  2⋅π⋅n ⋅y₀   2⋅π⋅n ⋅r_y ⎟⎟ \n",
       "⋅⎜- ───────── - ───────────⎟⎟ \n",
       " ⎜      R             2    ⎟⎟ \n",
       " ⎝                   R     ⎠⎟ \n",
       "────────────────────────────⎟ \n",
       "            2               ⎟ \n",
       "                            ⎠ "
      ]
     },
     "metadata": {},
     "output_type": "display_data"
    }
   ],
   "source": [
    "buckling_crit = K[0, 0]*K[6, 6] - K[0, 6]**2\n",
    "\n",
    "display(buckling_crit)"
   ]
  },
  {
   "cell_type": "code",
   "execution_count": 14,
   "metadata": {},
   "outputs": [
    {
     "data": {
      "image/png": "[encoded data removed]",
      "text/latex": [
       "$$- \\pi^{2} R n^{2} y_{0}$$"
      ],
      "text/plain": [
       "  2    2   \n",
       "-π ⋅R⋅n ⋅y₀"
      ]
     },
     "metadata": {},
     "output_type": "display_data"
    }
   ],
   "source": [
    "p = Poly(buckling_crit.expand(), t)\n",
    "\n",
    "display(p.coeffs()[0].subs([(rx**2, 0), (ry**2, 0)]))"
   ]
  },
  {
   "cell_type": "code",
   "execution_count": 15,
   "metadata": {},
   "outputs": [
    {
     "data": {
      "image/png": "[encoded data removed]",
      "text/latex": [
       "$$\\frac{1}{R^{5}} \\left(- \\pi^{2} EI_{2} R^{4} n^{2} + 3 \\pi^{2} EI_{2} R^{3} n^{4} y_{0} - \\pi^{2} EI_{w} R^{2} n^{6} + 2 \\pi^{2} EI_{w} R n^{6} y_{0} + \\pi^{2} EI_{w} R n^{4} y_{0} - \\pi^{2} GJ R^{4} n^{4} + 2 \\pi^{2} GJ R^{3} n^{4} y_{0} + \\pi^{2} GJ R^{3} n^{2} y_{0} + \\pi^{2} R^{7} k_{uu} y_{0} - \\pi^{2} R^{6} k_{\\phi\\phi} n^{2} - 2 \\pi^{2} R^{6} k_{u\\phi} n^{2} y_{0}\\right)$$"
      ],
      "text/plain": [
       "   2      4  2      2      3  4       2       2  6      2         6       2   \n",
       "- π ⋅EI₂⋅R ⋅n  + 3⋅π ⋅EI₂⋅R ⋅n ⋅y₀ - π ⋅EI_w⋅R ⋅n  + 2⋅π ⋅EI_w⋅R⋅n ⋅y₀ + π ⋅EI\n",
       "──────────────────────────────────────────────────────────────────────────────\n",
       "                                                                              \n",
       "                                                                              \n",
       "\n",
       "      4       2     4  4      2     3  4       2     3  2       2  7          \n",
       "_w⋅R⋅n ⋅y₀ - π ⋅GJ⋅R ⋅n  + 2⋅π ⋅GJ⋅R ⋅n ⋅y₀ + π ⋅GJ⋅R ⋅n ⋅y₀ + π ⋅R ⋅kᵤᵤ⋅y₀ - \n",
       "──────────────────────────────────────────────────────────────────────────────\n",
       "                        5                                                     \n",
       "                       R                                                      \n",
       "\n",
       " 2  6               2      2  6            2   \n",
       "π ⋅R ⋅k_{\\phi\\phi}⋅n  - 2⋅π ⋅R ⋅k_{u\\phi}⋅n ⋅y₀\n",
       "───────────────────────────────────────────────\n",
       "                                               \n",
       "                                               "
      ]
     },
     "metadata": {},
     "output_type": "display_data"
    }
   ],
   "source": [
    "display(p.coeffs()[1].subs([(rx**2, 0), (ry**2, 0), (y0**2, 0)]))"
   ]
  },
  {
   "cell_type": "code",
   "execution_count": 16,
   "metadata": {},
   "outputs": [
    {
     "data": {
      "image/png": "[encoded data removed]",
      "text/latex": [
       "$$\\frac{1}{R^{6}} \\left(\\pi^{2} EI_{2} GJ R^{2} n^{6} - 2 \\pi^{2} EI_{2} GJ R^{2} n^{4} + \\pi^{2} EI_{2} GJ R^{2} n^{2} + \\pi^{2} EI_{2} R^{6} k_{uu} + 2 \\pi^{2} EI_{2} R^{5} k_{u\\phi} n^{2} + \\pi^{2} EI_{2} R^{4} k_{\\phi\\phi} n^{4} + \\pi^{2} GJ R^{6} k_{uu} n^{2} + 2 \\pi^{2} GJ R^{5} k_{u\\phi} n^{2} + \\pi^{2} GJ R^{4} k_{\\phi\\phi} n^{2} + \\pi^{2} R^{8} k_{uu} k_{\\phi\\phi} - \\pi^{2} R^{8} k_{u\\phi}^{2}\\right)$$"
      ],
      "text/plain": [
       " 2         2  6      2         2  4    2         2  2    2      6          2  \n",
       "π ⋅EI₂⋅GJ⋅R ⋅n  - 2⋅π ⋅EI₂⋅GJ⋅R ⋅n  + π ⋅EI₂⋅GJ⋅R ⋅n  + π ⋅EI₂⋅R ⋅kᵤᵤ + 2⋅π ⋅E\n",
       "──────────────────────────────────────────────────────────────────────────────\n",
       "                                                                              \n",
       "                                                                              \n",
       "\n",
       "    5            2    2      4               4    2     6      2      2     5 \n",
       "I₂⋅R ⋅k_{u\\phi}⋅n  + π ⋅EI₂⋅R ⋅k_{\\phi\\phi}⋅n  + π ⋅GJ⋅R ⋅kᵤᵤ⋅n  + 2⋅π ⋅GJ⋅R ⋅\n",
       "──────────────────────────────────────────────────────────────────────────────\n",
       "                                          6                                   \n",
       "                                         R                                    \n",
       "\n",
       "           2    2     4               2    2  8                     2  8      \n",
       "k_{u\\phi}⋅n  + π ⋅GJ⋅R ⋅k_{\\phi\\phi}⋅n  + π ⋅R ⋅kᵤᵤ⋅k_{\\phi\\phi} - π ⋅R ⋅k_{u\\\n",
       "──────────────────────────────────────────────────────────────────────────────\n",
       "                                                                              \n",
       "                                                                              \n",
       "\n",
       "    2\n",
       "phi} \n",
       "─────\n",
       "     \n",
       "     "
      ]
     },
     "metadata": {},
     "output_type": "display_data"
    }
   ],
   "source": [
    "display(p.coeffs()[2].subs([(rx**2, 0), (ry**2, 0), (y0**2, 0), (EIw, 0)]))"
   ]
  },
  {
   "cell_type": "code",
   "execution_count": null,
   "metadata": {},
   "outputs": [],
   "source": []
  }
 ],
 "metadata": {
  "anaconda-cloud": {},
  "kernelspec": {
   "display_name": "Python [default]",
   "language": "python",
   "name": "python2"
  },
  "language_info": {
   "codemirror_mode": {
    "name": "ipython",
    "version": 2
   },
   "file_extension": ".py",
   "mimetype": "text/x-python",
   "name": "python",
   "nbconvert_exporter": "python",
   "pygments_lexer": "ipython2",
   "version": "2.7.14"
  }
 },
 "nbformat": 4,
 "nbformat_minor": 1
}
