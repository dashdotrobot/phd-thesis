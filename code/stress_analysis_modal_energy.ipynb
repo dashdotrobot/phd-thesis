{
 "cells": [
  {
   "cell_type": "code",
   "execution_count": null,
   "metadata": {},
   "outputs": [],
   "source": [
    "import numpy as np\n",
    "from sympy import *\n",
    "from bikewheelcalc import BicycleWheel\n",
    "from IPython.display import display\n",
    "\n",
    "init_printing()"
   ]
  },
  {
   "cell_type": "code",
   "execution_count": null,
   "metadata": {},
   "outputs": [],
   "source": [
    "# setup symbols\n",
    "s = symbols('s', real=true)\n",
    "\n",
    "# deformation\n",
    "u = Function('u')\n",
    "v = Function('v')\n",
    "w = Function('w')\n",
    "phi = Function('phi')\n",
    "\n",
    "# rim properties\n",
    "R, EA, EI1, EI2, GJ, EIw, mu, rx, ry, y0 = symbols('R EA EI_1 EI_2 GJ EI_w mu r_x r_y y_0',\n",
    "                                                   real=true, finite=true,\n",
    "                                                   positive=true)\n",
    "\n",
    "t = symbols('t', real=true)  # Average net radial pull per unit length\n",
    "\n",
    "# spoke properties\n",
    "k_uu, k_vv, k_ww, k_pp = symbols('k_uu k_vv k_ww, k_{\\phi\\phi}', real=true)\n",
    "k_uv, k_uw, k_up, k_vw, k_vp, k_wp = symbols('k_uv k_uw k_{u\\phi} k_vw k_{v\\phi} k_{w\\phi}', real=true)"
   ]
  },
  {
   "cell_type": "code",
   "execution_count": null,
   "metadata": {},
   "outputs": [],
   "source": [
    "# curvatures\n",
    "k_1 = v(s).diff(s, 2) + w(s).diff(s)/R\n",
    "k_2 = u(s).diff(s, 2) + phi(s)/R\n",
    "k_3 = u(s).diff(s)/R - phi(s).diff(s)\n",
    "e_mem = w(s).diff(s) - v(s)/R + y0*(v(s).diff(s, 2) + w(s).diff(s)/R)\n",
    "\n",
    "display(k_1)\n",
    "display(k_2)\n",
    "display(k_3)\n",
    "display(e_mem)"
   ]
  },
  {
   "cell_type": "code",
   "execution_count": null,
   "metadata": {},
   "outputs": [],
   "source": [
    "u_rim = (EI1*k_1**2 + EI2*k_2**2 + GJ*k_3**2 + EIw*(k_3.diff(s))**2)/2 + EA*e_mem**2/2\n",
    "\n",
    "u_spokes = (k_uu*u(s)**2 + 2*k_uv*u(s)*v(s) + 2*k_uw*u(s)*w(s) + 2*k_up*u(s)*phi(s) +\n",
    "            k_vv*v(s)**2 + 2*k_vw*v(s)*w(s) + 2*k_vp*v(s)*phi(s) +\n",
    "            k_ww*w(s)**2 + 2*k_wp*w(s)*phi(s) +\n",
    "            k_pp*phi(s)**2)/2\n",
    "\n",
    "v_rim = R*t*(u(s).diff(s)**2 + (rx**2 + ry**2 + y0**2)*(phi(s).diff(s) - u(s).diff(s)/R)**2 +\n",
    "         y0*(2*u(s).diff(s)*phi(s).diff(s) - phi(s)**2/R))/2"
   ]
  },
  {
   "cell_type": "code",
   "execution_count": null,
   "metadata": {},
   "outputs": [],
   "source": [
    "n = symbols('n', integer=True)\n",
    "npos = symbols('n', integer=True, positive=True)\n",
    "\n",
    "u_c, u_s, v_c, v_s, w_c, w_s, p_c, p_s = symbols('u_c u_s v_c v_s w_c w_s phi_c phi_s', real=True)\n",
    "\n",
    "d = [u_c, u_s, v_c, v_s, w_c, w_s, p_c, p_s]\n",
    "\n",
    "f_subs = [(u(s), u_c*cos(n*s/R) + u_s*sin(n*s/R)),\n",
    "          (v(s), v_c*cos(n*s/R) + v_s*sin(n*s/R)),\n",
    "          (w(s), w_c*cos(n*s/R) + w_s*sin(n*s/R)),\n",
    "          (phi(s), p_c*cos(n*s/R) + p_s*sin(n*s/R))]\n",
    "\n",
    "U_rim = integrate(u_rim.subs(f_subs).doit(), (s, 0, 2*pi*R))\n",
    "U_spokes = integrate(u_spokes.subs(f_subs).doit(), (s, 0, 2*pi*R))\n",
    "V_rim = integrate(v_rim.subs(f_subs).doit(), (s, 0, 2*pi*R))"
   ]
  },
  {
   "cell_type": "markdown",
   "metadata": {},
   "source": [
    "# Rim stiffness matrix"
   ]
  },
  {
   "cell_type": "code",
   "execution_count": null,
   "metadata": {},
   "outputs": [],
   "source": [
    "K_rim_0 = zeros(4)\n",
    "\n",
    "for i in range(4):\n",
    "    for j in range(4):\n",
    "        K_rim_0[i, j] = U_rim.subs(n, 0).diff(d[2*i]).diff(d[2*j])\n",
    "        \n",
    "display(K_rim_0)"
   ]
  },
  {
   "cell_type": "code",
   "execution_count": null,
   "metadata": {},
   "outputs": [],
   "source": [
    "K_rim_n = zeros(8)\n",
    "\n",
    "for i, m1 in enumerate(d):\n",
    "    for j, m2 in enumerate(d):\n",
    "        K_rim_n[i, j] = U_rim.subs(n, npos).diff(m1).diff(m2)\n",
    "        \n",
    "display(K_rim_n[[0, 6],[0, 6]])\n",
    "\n",
    "display(K_rim_n[2:6, 2:6])"
   ]
  },
  {
   "cell_type": "code",
   "execution_count": null,
   "metadata": {},
   "outputs": [],
   "source": [
    "W_rim_0 = zeros(4)\n",
    "\n",
    "for i in range(4):\n",
    "    for j in range(4):\n",
    "        W_rim_0[i, j] = -V_rim.subs(n, 0).diff(d[2*i]).diff(d[2*j])\n",
    "        \n",
    "display(W_rim_0)\n",
    "\n",
    "W_rim_n = zeros(8)\n",
    "\n",
    "for i, m1 in enumerate(d):\n",
    "    for j, m2 in enumerate(d):\n",
    "        W_rim_n[i, j] = -V_rim.subs(n, npos).diff(m1).diff(m2)\n",
    "        \n",
    "display(W_rim_n[[0, 6],[0, 6]])"
   ]
  },
  {
   "cell_type": "markdown",
   "metadata": {},
   "source": [
    "# Spokes stiffness matrix"
   ]
  },
  {
   "cell_type": "code",
   "execution_count": null,
   "metadata": {},
   "outputs": [],
   "source": [
    "K_spk_0 = zeros(4)\n",
    "\n",
    "for i in range(4):\n",
    "    for j in range(4):\n",
    "        K_spk_0[i, j] = U_spokes.subs(n, 0).diff(d[2*i]).diff(d[2*j])\n",
    "        \n",
    "display(K_spk_0)"
   ]
  },
  {
   "cell_type": "code",
   "execution_count": null,
   "metadata": {},
   "outputs": [],
   "source": [
    "K_spk_n = zeros(8)\n",
    "\n",
    "for i, m1 in enumerate(d):\n",
    "    for j, m2 in enumerate(d):\n",
    "        K_spk_n[i, j] = U_spokes.subs(n, npos).diff(m1).diff(m2)\n",
    "        \n",
    "display(K_spk_n)"
   ]
  },
  {
   "cell_type": "markdown",
   "metadata": {},
   "source": [
    "# Buckling criterion"
   ]
  },
  {
   "cell_type": "code",
   "execution_count": null,
   "metadata": {},
   "outputs": [],
   "source": [
    "kuu_el, kuu_tens = symbols('k_uu^el k_uu^tens', real=True)\n",
    "\n",
    "K = (K_spk_n + K_rim_n + W_rim_n).subs(k_uu, kuu_el + t*kuu_tens)\n",
    "\n",
    "#      u_c, v_c, w_s, phi_c\n",
    "idx = [0,   2,   5,   6]\n",
    "\n",
    "K_b = K[idx, idx]\n",
    "display(K_b)"
   ]
  },
  {
   "cell_type": "markdown",
   "metadata": {},
   "source": [
    "## No radial/lateral coupling"
   ]
  },
  {
   "cell_type": "code",
   "execution_count": null,
   "metadata": {},
   "outputs": [],
   "source": [
    "buckling_crit = K[0, 0]*K[6, 6] - K[0, 6]**2\n",
    "\n",
    "display(buckling_crit)"
   ]
  },
  {
   "cell_type": "code",
   "execution_count": null,
   "metadata": {},
   "outputs": [],
   "source": [
    "p = Poly(buckling_crit.expand(), t)\n",
    "\n",
    "display(p.coeffs()[0].subs([(rx**2, 0), (ry**2, 0), (y0**2, 0)]))"
   ]
  },
  {
   "cell_type": "code",
   "execution_count": null,
   "metadata": {},
   "outputs": [],
   "source": [
    "display(p.coeffs()[1].subs([(rx**2, 0), (ry**2, 0), (y0**2, 0)]))"
   ]
  },
  {
   "cell_type": "code",
   "execution_count": null,
   "metadata": {},
   "outputs": [],
   "source": [
    "display(p.coeffs()[2].subs([(rx**2, 0), (ry**2, 0), (y0**2, 0), (EIw, 0)]))"
   ]
  },
  {
   "cell_type": "markdown",
   "metadata": {},
   "source": [
    "## No radial/lateral coupling, Bi-symmetric rim"
   ]
  },
  {
   "cell_type": "code",
   "execution_count": null,
   "metadata": {},
   "outputs": [],
   "source": [
    "Tc = solve(buckling_crit.subs([(rx, 0), (ry, 0), (y0, 0), (EIw, 0)]).expand(), t)[0]\n",
    "\n",
    "(Tc*R**3/EI2).simplify()"
   ]
  },
  {
   "cell_type": "markdown",
   "metadata": {},
   "source": [
    "## No radial/lateral coupling, Bi-symmetric rim, no spoke offset"
   ]
  },
  {
   "cell_type": "code",
   "execution_count": null,
   "metadata": {},
   "outputs": [],
   "source": [
    "Tc = solve(buckling_crit.subs([(rx, 0), (ry, 0), (y0, 0),\n",
    "                               (EIw, 0), (k_up, 0), (k_pp, 0)]).expand(), t)[0]\n",
    "\n",
    "(Tc*R**3/EI2).simplify()"
   ]
  },
  {
   "cell_type": "code",
   "execution_count": null,
   "metadata": {},
   "outputs": [],
   "source": []
  }
 ],
 "metadata": {
  "anaconda-cloud": {},
  "kernelspec": {
   "display_name": "Python [default]",
   "language": "python",
   "name": "python2"
  },
  "language_info": {
   "codemirror_mode": {
    "name": "ipython",
    "version": 2
   },
   "file_extension": ".py",
   "mimetype": "text/x-python",
   "name": "python",
   "nbconvert_exporter": "python",
   "pygments_lexer": "ipython2",
   "version": "2.7.14"
  }
 },
 "nbformat": 4,
 "nbformat_minor": 1
}
